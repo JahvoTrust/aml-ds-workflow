{
  "cells": [
    {
      "cell_type": "markdown",
      "metadata": {},
      "source": [
        "# Tutorial: Create production ML pipelines with Python SDK v2 (preview) in a Jupyter notebook\n"
      ]
    },
    {
      "cell_type": "markdown",
      "metadata": {},
      "source": [
        "**Learning Objectives** - By the end of this two part tutorial, you should be able to use Azure Machine Learning (Azure ML) to productionize your ML project.\n",
        "\n",
        "This means you will be able to leverage the AzureML Python SDK to:\n",
        "\n",
        "- connect to your Azure ML workspace\n",
        "- create Azure ML data assets\n",
        "- create reusable Azure ML components\n",
        "- create, validate and run Azure ML pipelines\n",
        "- deploy the newly-trained model as an endpoint\n",
        "- call the Azure ML endpoint for inferencing"
      ]
    },
    {
      "cell_type": "markdown",
      "metadata": {},
      "source": [
        "**Motivations** - This tutorial is intended to introduce Azure ML to data scientists who want to scale up or publish their ML projects. By completing a familiar end-to-end project, which starts by loading the data and ends by creating and calling an online inference endpoint, the user should become familiar with the core concepts of Azure ML and their most common usage. Each step of this tutorial can be modified or performed in other ways that might have security or scalability advantages. We will cover some of those in the Part II of this tutorial, however, we suggest the reader use the provide links in each section to learn more on each topic."
      ]
    },
    {
      "cell_type": "markdown",
      "metadata": {},
      "source": [
        "**Requirements** - In order to benefit from this tutorial, you need to have:\n",
        "- basic understanding of Machine Learning projects workflow\n",
        "- an Azure subscription. If you don't have an Azure subscription, [create a free account](https://aka.ms/AMLFree) before you begin.\n",
        "- a working Azure ML workspace. A workspace can be created via Azure Portal, Azure CLI, or Python SDK. [Read more](https://docs.microsoft.com/en-us/azure/machine-learning/how-to-manage-workspace?tabs=python).\n",
        "- a Python environmnet\n",
        "- [installed Azure Machine Learning Python SDK v2](https://github.com/Azure/azureml-examples/blob/sdk-preview/sdk/setup.sh)"
      ]
    },
    {
      "cell_type": "markdown",
      "metadata": {},
      "source": [
        "## Introduction\n",
        "\n",
        "In this tutorial, you'll create an Azure ML pipeline to train a model for credit default prediction. The pipeline handles the data preparation, training and registering the trained model.  You'll then run the pipeline, deploy the model and use it.\n",
        "\n",
        "The image below shows the pipeline as you'll see it in the AzureML portal once submitted. It's a rather simple pipeline we'll use to walk you through the AzureML SDK v2.\n",
        "\n",
        "The two steps are first data preparation and second training. \n",
        "\n",
        "![Screenshot that shows the AML Pipeline](media/pipeline-overview.jpg \"Overview of the pipeline\")\n",
        "\n",
        "An AzureML pipeline that runs from local components, requires several dependent files. Fo better understanding of the project structure, we produce all these dependencies in the notebook cells. By the end of this tutorial, the project structure should look like:\n",
        "```\n",
        "e2e-ds-experience  \n",
        "    components\n",
        "        data_prep\n",
        "            data_prep.py\n",
        "            data_prep.yml  \n",
        "        train\n",
        "            train.py\n",
        "            train.yml   \n",
        "    dependencies\n",
        "        conda.yml\n",
        "    deploy\n",
        "        sample-request.json\n",
        "    media\n",
        "        metrics.jpg\n",
        "        pipeline-overview.jpg\n",
        "        user-logs.jpg\n",
        "    e2e-ml-workflow.ipynb\n",
        "```\n",
        "After running this notebook, you should be able to create the project direcetly in the IDE of your choice, instead.\n",
        "\n",
        "## Set up the pipeline resources\n",
        "\n",
        "The Azure ML framework can be used from CLI, Python SDK, or studio interface. In this example, you'll use the AzureML Python SDK v2 to create a pipeline. \n",
        "\n",
        "Before creating the pipeline, you'll set up the resources the pipeline will use:\n",
        "\n",
        "* The dataset for training\n",
        "* The software environment to run the pipeline\n",
        "* A compute resource to where the job will run\n",
        "\n",
        "## AML을 시작하기위한 주요흐름\n",
        "\n",
        "1. Connect to Azure Machine Learning workspace\n",
        "\n",
        "2. Create compute\n",
        "\n",
        "3. Create a job environment\n",
        "\n",
        "4. Build the command job to data preparation and train\n",
        "\n",
        "5. Configure the Command\n",
        "\n",
        "6. Submit the job\n",
        "\n",
        "## Connect to the workspace\n",
        "\n",
        "Before we dive in the code, you'll need to connect to your Azure ML workspace. The workspace is the top-level resource for Azure Machine Learning, providing a centralized place to work with all the artifacts you create when you use Azure Machine Learning.\n",
        "\n",
        "We are using `DefaultAzureCredential` to get access to workspace. \n",
        "`DefaultAzureCredential` should be capable of handling most Azure SDK authentication scenarios. \n",
        "\n",
        "Reference for more available credentials if it does not work for you: [configure credential example](../../configuration.ipynb), [azure-identity reference doc](https://docs.microsoft.com/en-us/python/api/azure-identity/azure.identity?view=azure-python)."
      ]
    },
    {
      "cell_type": "code",
      "execution_count": 1,
      "metadata": {
        "attributes": {
          "classes": [
            "Python"
          ],
          "id": ""
        },
        "gather": {
          "logged": 1678198491699
        },
        "name": "import-mlclient"
      },
      "outputs": [],
      "source": [
        "# Handle to the workspace\n",
        "from azure.ai.ml import MLClient\n",
        "\n",
        "# Authentication package\n",
        "from azure.identity import DefaultAzureCredential, InteractiveBrowserCredential\n",
        "\n",
        "try:\n",
        "    credential = DefaultAzureCredential()\n",
        "    # Check if given credential can get token successfully.\n",
        "    credential.get_token(\"https://management.azure.com/.default\")\n",
        "except Exception as ex:\n",
        "    # Fall back to InteractiveBrowserCredential in case DefaultAzureCredential not work\n",
        "    credential = InteractiveBrowserCredential()"
      ]
    },
    {
      "cell_type": "markdown",
      "metadata": {},
      "source": [
        "In the next cell, enter your Subscription ID, Resource Group name and Workspace name. To find your Subscription ID:\n",
        "1. In the upper right Azure Machine Learning Studio toolbar, select your workspace name.\n",
        "1. At the bottom, select **View all properties in Azure Portal**\n",
        "1. Copy the value from Azure Portal into the code."
      ]
    },
    {
      "cell_type": "code",
      "execution_count": 2,
      "metadata": {
        "attributes": {
          "classes": [
            "Python"
          ],
          "id": ""
        },
        "gather": {
          "logged": 1678198494676
        },
        "name": "ml_client"
      },
      "outputs": [],
      "source": [
        "# Get a handle to the workspace\n",
        "ml_client = MLClient(\n",
        "    credential=credential,\n",
        "    subscription_id=\"<subscription_id>\",\n",
        "    resource_group_name=\"<resource_group_name>\",\n",
        "    workspace_name=\"<workspace_name>\",\n",
        ")"
      ]
    },
    {
      "cell_type": "code",
      "execution_count": 2,
      "metadata": {},
      "outputs": [],
      "source": [
        "# Get a handle to the workspace\n",
        "ml_client = MLClient(\n",
        "    credential=credential,\n",
        "    subscription_id=\"996049d2-a088-4535-84c6-293862437c2e\",\n",
        "    resource_group_name=\"rg-aml-demo\",\n",
        "    workspace_name=\"ssc-mlops\",\n",
        ")"
      ]
    },
    {
      "cell_type": "markdown",
      "metadata": {},
      "source": [
        "The result is a handler to the workspace that you'll use to manage other resources and jobs.\n",
        "\n",
        "> [!IMPORTANT]\n",
        "> Creating MLClient will not connect to the workspace. The client initialization is lazy, it will wait for the first time it needs to make a call (in the notebook below, that will happen during dataset registration).\n",
        "\n",
        "## Register data from an external url\n",
        "\n",
        "The data you use for training is usually in one of the locations below:\n",
        "\n",
        "* Local machine\n",
        "* Web\n",
        "* Big Data Storage services (for example, Azure Blob, Azure Data Lake Storage, SQL)\n",
        " \n",
        "Azure ML uses a [`Data`](https://docs.microsoft.com/azure/machine-learning/how-to-create-register-data-assets?tabs=Python-SDK) object to register a reusable definition of data, and consume data within a pipeline. In the section below, you'll consume some data from web url as one example. `Data` assets ets from other sources can be created as well."
      ]
    },
    {
      "cell_type": "markdown",
      "metadata": {
        "nteract": {
          "transient": {
            "deleting": false
          }
        }
      },
      "source": [
        "## 외부 데이터셋 등록 방법."
      ]
    },
    {
      "cell_type": "code",
      "execution_count": 80,
      "metadata": {
        "gather": {
          "logged": 1678182211606
        },
        "name": "credit_data"
      },
      "outputs": [],
      "source": [
        "# from azure.ai.ml.entities import Data\n",
        "# from azure.ai.ml.constants import AssetTypes\n",
        "\n",
        "# web_path = \"https://archive.ics.uci.edu/ml/machine-learning-databases/00350/default%20of%20credit%20card%20clients.xls\"\n",
        "\n",
        "# credit_data = Data(\n",
        "#     name=\"inputdata\",\n",
        "#     path=web_path,\n",
        "#     type=AssetTypes.URI_FILE,\n",
        "#     description=\"Dataset for credit card defaults\",\n",
        "#     tags={\"source_type\": \"web\", \"source\": \"UCI ML Repo\"},\n",
        "#     version=\"1.0.1\",\n",
        "# )"
      ]
    },
    {
      "cell_type": "markdown",
      "metadata": {},
      "source": [
        "This code just created a `Data` asset, it is ready to be consumed as an input by the pipeline that you'll define in the next sections. In addition, you can register the data to your workspace so it becomes reusable across pipelines.\n",
        "\n",
        "Registering the data asset will enable you to:\n",
        "\n",
        "* reuse and share the data asset in future pipelines\n",
        "* use versions to track the modification to the data asset\n",
        "* use the data asset from Azure ML designer, which is Azure ML's GUI for pipeline authoring\n",
        "\n",
        "Since this is the first time that you're making a call to the workspace, you may be asked to authenticate. Once the authentication is complete, you'll then see the dataset registration completion message."
      ]
    },
    {
      "cell_type": "code",
      "execution_count": 81,
      "metadata": {
        "attributes": {
          "classes": [
            "Python"
          ],
          "id": ""
        },
        "gather": {
          "logged": 1678182212610
        },
        "name": "update-credit_data"
      },
      "outputs": [],
      "source": [
        "# credit_data = ml_client.data.create_or_update(credit_data)\n",
        "# print(\n",
        "#     f\"Dataset with name {credit_data.name} was registered to workspace, the dataset version is {credit_data.version}\"\n",
        "# )"
      ]
    },
    {
      "cell_type": "markdown",
      "metadata": {
        "nteract": {
          "transient": {
            "deleting": false
          }
        }
      },
      "source": [
        "## Azure Machine Learning Studio 에서 sscinpudata inputdata를 등록한다.(데이터 메뉴로 이동.)"
      ]
    },
    {
      "cell_type": "code",
      "execution_count": 48,
      "metadata": {
        "gather": {
          "logged": 1678198500112
        },
        "jupyter": {
          "outputs_hidden": false,
          "source_hidden": false
        },
        "nteract": {
          "transient": {
            "deleting": false
          }
        }
      },
      "outputs": [
        {
          "name": "stdout",
          "output_type": "stream",
          "text": [
            "Dataset with name sscinpudata was registered to workspace, the dataset version is 1\n"
          ]
        }
      ],
      "source": [
        "credit_data = ml_client.data.get(name=\"sscinpudata\", version=\"1\")\n",
        "print(\n",
        "    f\"Dataset with name {credit_data.name} was registered to workspace, the dataset version is {credit_data.version}\"\n",
        ")"
      ]
    },
    {
      "cell_type": "code",
      "execution_count": 49,
      "metadata": {},
      "outputs": [
        {
          "name": "stdout",
          "output_type": "stream",
          "text": [
            "Dataset with name sscinpudatatest was registered to workspace, the dataset version is 1\n"
          ]
        }
      ],
      "source": [
        "credit_evaldata = ml_client.data.get(name=\"sscinpudatatest\", version=\"1\")\n",
        "print(\n",
        "    f\"Dataset with name {credit_evaldata.name} was registered to workspace, the dataset version is {credit_evaldata.version}\"\n",
        ")"
      ]
    },
    {
      "cell_type": "markdown",
      "metadata": {},
      "source": [
        "In the future, you can fetch the same dataset from the workspace using `credit_dataset = ml_client.data.get(\"<DATA ASSET NAME>\", version='<VERSION>')`.\n",
        "\n",
        "## Create a Compute Resource to run our pipeline\n",
        "\n",
        "Each step of an Azure ML pipeline can use a different compute resource for running the specific job of that step. It can be single or multi-node machines with Linux or Windows OS, or a specific compute fabric like Spark.\n",
        "\n",
        "In this section, we provision a Linux [compute cluster](https://docs.microsoft.com/azure/machine-learning/how-to-create-attach-compute-cluster?tabs=python). See the [full list on VM sizes and prices](https://azure.microsoft.com/en-ca/pricing/details/machine-learning/) .\n",
        "\n",
        "For this tutorial we only need a basic cluster, let's pick a Standard_DS3_v2 model with 2 vCPU cores, 7 GB RAM and create an Azure ML Compute\n",
        "\n",
        "AML 스튜디오에서 해당 클러스터를 생성할수도 있음."
      ]
    },
    {
      "cell_type": "code",
      "execution_count": 50,
      "metadata": {
        "gather": {
          "logged": 1678198504053
        },
        "name": "cpu_cluster"
      },
      "outputs": [
        {
          "name": "stdout",
          "output_type": "stream",
          "text": [
            "You already have a cluster named cpu-cluster, we'll reuse it as is.\n",
            "AMLCompute with name cpu-cluster is created, the compute size is STANDARD_DS3_V2\n"
          ]
        }
      ],
      "source": [
        "from azure.ai.ml.entities import AmlCompute\n",
        "\n",
        "cpu_compute_target = \"cpu-cluster\"\n",
        "\n",
        "try:\n",
        "    # let's see if the compute target already exists\n",
        "    cpu_cluster = ml_client.compute.get(cpu_compute_target)\n",
        "    print(\n",
        "        f\"You already have a cluster named {cpu_compute_target}, we'll reuse it as is.\"\n",
        "    )\n",
        "\n",
        "except Exception:\n",
        "    print(\"Creating a new cpu compute target...\")\n",
        "\n",
        "    # Let's create the Azure ML compute object with the intended parameters\n",
        "    cpu_cluster = AmlCompute(\n",
        "        # Name assigned to the compute cluster\n",
        "        name=\"cpu-cluster\",\n",
        "        # Azure ML Compute is the on-demand VM service\n",
        "        type=\"amlcompute\",\n",
        "        # VM Family\n",
        "        size=\"STANDARD_DS3_V2\",\n",
        "        # Minimum running nodes when there is no job running\n",
        "        min_instances=0,\n",
        "        # Nodes in cluster\n",
        "        max_instances=4,\n",
        "        # How many seconds will the node running after the job termination\n",
        "        idle_time_before_scale_down=180,\n",
        "        # Dedicated or LowPriority. The latter is cheaper but there is a chance of job termination\n",
        "        tier=\"Dedicated\",\n",
        "    )\n",
        "\n",
        "    # Now, we pass the object to MLClient's create_or_update method\n",
        "    cpu_cluster = ml_client.begin_create_or_update(cpu_cluster)\n",
        "\n",
        "print(\n",
        "    f\"AMLCompute with name {cpu_cluster.name} is created, the compute size is {cpu_cluster.size}\"\n",
        ")"
      ]
    },
    {
      "cell_type": "markdown",
      "metadata": {},
      "source": [
        "## Create a job environment for pipeline steps\n",
        "\n",
        "So far, you've created a development environment on the compute instance, your development machine. You'll also need an [environment](https://docs.microsoft.com/azure/machine-learning/concept-environments) to use for each step of the pipeline. Each step can have its own environment, or you can use some common environments for multiple steps.\n",
        "\n",
        "In this example, you'll create a conda environment for your jobs, using a conda yaml file.\n",
        "First, create a directory to store the file in."
      ]
    },
    {
      "cell_type": "code",
      "execution_count": 51,
      "metadata": {
        "gather": {
          "logged": 1678198507791
        },
        "name": "dependencies_dir"
      },
      "outputs": [],
      "source": [
        "import os\n",
        "\n",
        "dependencies_dir = \"./dependencies\"\n",
        "os.makedirs(dependencies_dir, exist_ok=True)"
      ]
    },
    {
      "cell_type": "markdown",
      "metadata": {},
      "source": [
        "Now, create the file in the dependencies directory."
      ]
    },
    {
      "cell_type": "code",
      "execution_count": 52,
      "metadata": {
        "attributes": {
          "classes": [
            "Python"
          ],
          "id": ""
        },
        "name": "conda.yml"
      },
      "outputs": [
        {
          "name": "stdout",
          "output_type": "stream",
          "text": [
            "Overwriting ./dependencies/conda.yml\n"
          ]
        }
      ],
      "source": [
        "%%writefile {dependencies_dir}/conda.yml\n",
        "name: model-env\n",
        "channels:\n",
        "  - conda-forge\n",
        "dependencies:\n",
        "  - python=3.8\n",
        "  - numpy=1.21.2\n",
        "  - pip=21.2.4\n",
        "  - scikit-learn=0.24.2\n",
        "  - scipy=1.7.1\n",
        "  - pandas>=1.1,<1.2\n",
        "  - pip:\n",
        "    - inference-schema[numpy-support]==1.3.0\n",
        "    - xlrd==2.0.1\n",
        "    - mlflow== 1.26.1\n",
        "    - azureml-mlflow==1.42.0"
      ]
    },
    {
      "cell_type": "markdown",
      "metadata": {},
      "source": [
        "The specification contains some usual packages, that you'll use in your pipeline (numpy, pip).\n",
        "\n",
        "\n",
        "Use the *yaml* file to create and register this custom environment in your workspace:"
      ]
    },
    {
      "cell_type": "markdown",
      "metadata": {
        "nteract": {
          "transient": {
            "deleting": false
          }
        }
      },
      "source": [
        "## ML을 위한 환경등록 재사용가능"
      ]
    },
    {
      "cell_type": "code",
      "execution_count": 53,
      "metadata": {
        "attributes": {
          "classes": [
            "Python"
          ],
          "id": ""
        },
        "gather": {
          "logged": 1678198515642
        },
        "name": "custom_env_name"
      },
      "outputs": [
        {
          "ename": "KeyboardInterrupt",
          "evalue": "",
          "output_type": "error",
          "traceback": [
            "\u001b[0;31m---------------------------------------------------------------------------\u001b[0m",
            "\u001b[0;31mKeyboardInterrupt\u001b[0m                         Traceback (most recent call last)",
            "\u001b[1;32m/home/azureuser/cloudfiles/code/Users/swkim/aml-ds-workflow/e2e-ml-workflow.ipynb Cell 26'\u001b[0m in \u001b[0;36m<cell line: 13>\u001b[0;34m()\u001b[0m\n\u001b[1;32m      <a href='vscode-notebook-cell://amlext%2B2f737562736372697074696f6e732f39393630343964322d613038382d343533352d383463362d3239333836323433376332652f7265736f7572636547726f7570732f72672d616d6c2d64656d6f2f70726f7669646572732f4d6963726f736f66742e4d616368696e654c6561726e696e6753657276696365732f776f726b7370616365732f7373632d6d6c6f70732f636f6d70757465732f73776b696d31/home/azureuser/cloudfiles/code/Users/swkim/aml-ds-workflow/e2e-ml-workflow.ipynb#ch0000025vscode-remote?line=2'>3</a>\u001b[0m custom_env_name \u001b[39m=\u001b[39m \u001b[39m\"\u001b[39m\u001b[39maml-scikit-learn\u001b[39m\u001b[39m\"\u001b[39m\n\u001b[1;32m      <a href='vscode-notebook-cell://amlext%2B2f737562736372697074696f6e732f39393630343964322d613038382d343533352d383463362d3239333836323433376332652f7265736f7572636547726f7570732f72672d616d6c2d64656d6f2f70726f7669646572732f4d6963726f736f66742e4d616368696e654c6561726e696e6753657276696365732f776f726b7370616365732f7373632d6d6c6f70732f636f6d70757465732f73776b696d31/home/azureuser/cloudfiles/code/Users/swkim/aml-ds-workflow/e2e-ml-workflow.ipynb#ch0000025vscode-remote?line=4'>5</a>\u001b[0m pipeline_job_env \u001b[39m=\u001b[39m Environment(\n\u001b[1;32m      <a href='vscode-notebook-cell://amlext%2B2f737562736372697074696f6e732f39393630343964322d613038382d343533352d383463362d3239333836323433376332652f7265736f7572636547726f7570732f72672d616d6c2d64656d6f2f70726f7669646572732f4d6963726f736f66742e4d616368696e654c6561726e696e6753657276696365732f776f726b7370616365732f7373632d6d6c6f70732f636f6d70757465732f73776b696d31/home/azureuser/cloudfiles/code/Users/swkim/aml-ds-workflow/e2e-ml-workflow.ipynb#ch0000025vscode-remote?line=5'>6</a>\u001b[0m     name\u001b[39m=\u001b[39mcustom_env_name,\n\u001b[1;32m      <a href='vscode-notebook-cell://amlext%2B2f737562736372697074696f6e732f39393630343964322d613038382d343533352d383463362d3239333836323433376332652f7265736f7572636547726f7570732f72672d616d6c2d64656d6f2f70726f7669646572732f4d6963726f736f66742e4d616368696e654c6561726e696e6753657276696365732f776f726b7370616365732f7373632d6d6c6f70732f636f6d70757465732f73776b696d31/home/azureuser/cloudfiles/code/Users/swkim/aml-ds-workflow/e2e-ml-workflow.ipynb#ch0000025vscode-remote?line=6'>7</a>\u001b[0m     description\u001b[39m=\u001b[39m\u001b[39m\"\u001b[39m\u001b[39mCustom environment for Credit Card Defaults pipeline\u001b[39m\u001b[39m\"\u001b[39m,\n\u001b[0;32m   (...)\u001b[0m\n\u001b[1;32m     <a href='vscode-notebook-cell://amlext%2B2f737562736372697074696f6e732f39393630343964322d613038382d343533352d383463362d3239333836323433376332652f7265736f7572636547726f7570732f72672d616d6c2d64656d6f2f70726f7669646572732f4d6963726f736f66742e4d616368696e654c6561726e696e6753657276696365732f776f726b7370616365732f7373632d6d6c6f70732f636f6d70757465732f73776b696d31/home/azureuser/cloudfiles/code/Users/swkim/aml-ds-workflow/e2e-ml-workflow.ipynb#ch0000025vscode-remote?line=10'>11</a>\u001b[0m     version\u001b[39m=\u001b[39m\u001b[39m\"\u001b[39m\u001b[39m0.1.0\u001b[39m\u001b[39m\"\u001b[39m,\n\u001b[1;32m     <a href='vscode-notebook-cell://amlext%2B2f737562736372697074696f6e732f39393630343964322d613038382d343533352d383463362d3239333836323433376332652f7265736f7572636547726f7570732f72672d616d6c2d64656d6f2f70726f7669646572732f4d6963726f736f66742e4d616368696e654c6561726e696e6753657276696365732f776f726b7370616365732f7373632d6d6c6f70732f636f6d70757465732f73776b696d31/home/azureuser/cloudfiles/code/Users/swkim/aml-ds-workflow/e2e-ml-workflow.ipynb#ch0000025vscode-remote?line=11'>12</a>\u001b[0m )\n\u001b[0;32m---> <a href='vscode-notebook-cell://amlext%2B2f737562736372697074696f6e732f39393630343964322d613038382d343533352d383463362d3239333836323433376332652f7265736f7572636547726f7570732f72672d616d6c2d64656d6f2f70726f7669646572732f4d6963726f736f66742e4d616368696e654c6561726e696e6753657276696365732f776f726b7370616365732f7373632d6d6c6f70732f636f6d70757465732f73776b696d31/home/azureuser/cloudfiles/code/Users/swkim/aml-ds-workflow/e2e-ml-workflow.ipynb#ch0000025vscode-remote?line=12'>13</a>\u001b[0m pipeline_job_env \u001b[39m=\u001b[39m ml_client\u001b[39m.\u001b[39;49menvironments\u001b[39m.\u001b[39;49mcreate_or_update(pipeline_job_env)\n\u001b[1;32m     <a href='vscode-notebook-cell://amlext%2B2f737562736372697074696f6e732f39393630343964322d613038382d343533352d383463362d3239333836323433376332652f7265736f7572636547726f7570732f72672d616d6c2d64656d6f2f70726f7669646572732f4d6963726f736f66742e4d616368696e654c6561726e696e6753657276696365732f776f726b7370616365732f7373632d6d6c6f70732f636f6d70757465732f73776b696d31/home/azureuser/cloudfiles/code/Users/swkim/aml-ds-workflow/e2e-ml-workflow.ipynb#ch0000025vscode-remote?line=14'>15</a>\u001b[0m \u001b[39mprint\u001b[39m(\n\u001b[1;32m     <a href='vscode-notebook-cell://amlext%2B2f737562736372697074696f6e732f39393630343964322d613038382d343533352d383463362d3239333836323433376332652f7265736f7572636547726f7570732f72672d616d6c2d64656d6f2f70726f7669646572732f4d6963726f736f66742e4d616368696e654c6561726e696e6753657276696365732f776f726b7370616365732f7373632d6d6c6f70732f636f6d70757465732f73776b696d31/home/azureuser/cloudfiles/code/Users/swkim/aml-ds-workflow/e2e-ml-workflow.ipynb#ch0000025vscode-remote?line=15'>16</a>\u001b[0m     \u001b[39mf\u001b[39m\u001b[39m\"\u001b[39m\u001b[39mEnvironment with name \u001b[39m\u001b[39m{\u001b[39;00mpipeline_job_env\u001b[39m.\u001b[39mname\u001b[39m}\u001b[39;00m\u001b[39m is registered to workspace, the environment version is \u001b[39m\u001b[39m{\u001b[39;00mpipeline_job_env\u001b[39m.\u001b[39mversion\u001b[39m}\u001b[39;00m\u001b[39m\"\u001b[39m\n\u001b[1;32m     <a href='vscode-notebook-cell://amlext%2B2f737562736372697074696f6e732f39393630343964322d613038382d343533352d383463362d3239333836323433376332652f7265736f7572636547726f7570732f72672d616d6c2d64656d6f2f70726f7669646572732f4d6963726f736f66742e4d616368696e654c6561726e696e6753657276696365732f776f726b7370616365732f7373632d6d6c6f70732f636f6d70757465732f73776b696d31/home/azureuser/cloudfiles/code/Users/swkim/aml-ds-workflow/e2e-ml-workflow.ipynb#ch0000025vscode-remote?line=16'>17</a>\u001b[0m )\n",
            "File \u001b[0;32m/anaconda/envs/azureml_py310_sdkv2/lib/python3.10/site-packages/azure/ai/ml/operations/_environment_operations.py:140\u001b[0m, in \u001b[0;36mEnvironmentOperations.create_or_update\u001b[0;34m(self, environment)\u001b[0m\n\u001b[1;32m    <a href='file:///anaconda/envs/azureml_py310_sdkv2/lib/python3.10/site-packages/azure/ai/ml/operations/_environment_operations.py?line=119'>120</a>\u001b[0m     env_rest_obj \u001b[39m=\u001b[39m _create_or_update_autoincrement(\n\u001b[1;32m    <a href='file:///anaconda/envs/azureml_py310_sdkv2/lib/python3.10/site-packages/azure/ai/ml/operations/_environment_operations.py?line=120'>121</a>\u001b[0m         name\u001b[39m=\u001b[39menvironment\u001b[39m.\u001b[39mname,\n\u001b[1;32m    <a href='file:///anaconda/envs/azureml_py310_sdkv2/lib/python3.10/site-packages/azure/ai/ml/operations/_environment_operations.py?line=121'>122</a>\u001b[0m         body\u001b[39m=\u001b[39menv_version_resource,\n\u001b[0;32m   (...)\u001b[0m\n\u001b[1;32m    <a href='file:///anaconda/envs/azureml_py310_sdkv2/lib/python3.10/site-packages/azure/ai/ml/operations/_environment_operations.py?line=126'>127</a>\u001b[0m         \u001b[39m*\u001b[39m\u001b[39m*\u001b[39m\u001b[39mself\u001b[39m\u001b[39m.\u001b[39m_kwargs,\n\u001b[1;32m    <a href='file:///anaconda/envs/azureml_py310_sdkv2/lib/python3.10/site-packages/azure/ai/ml/operations/_environment_operations.py?line=127'>128</a>\u001b[0m     )\n\u001b[1;32m    <a href='file:///anaconda/envs/azureml_py310_sdkv2/lib/python3.10/site-packages/azure/ai/ml/operations/_environment_operations.py?line=128'>129</a>\u001b[0m \u001b[39melse\u001b[39;00m:\n\u001b[1;32m    <a href='file:///anaconda/envs/azureml_py310_sdkv2/lib/python3.10/site-packages/azure/ai/ml/operations/_environment_operations.py?line=129'>130</a>\u001b[0m     env_rest_obj \u001b[39m=\u001b[39m (\n\u001b[1;32m    <a href='file:///anaconda/envs/azureml_py310_sdkv2/lib/python3.10/site-packages/azure/ai/ml/operations/_environment_operations.py?line=130'>131</a>\u001b[0m         \u001b[39mself\u001b[39m\u001b[39m.\u001b[39m_version_operations\u001b[39m.\u001b[39mbegin_create_or_update(\n\u001b[1;32m    <a href='file:///anaconda/envs/azureml_py310_sdkv2/lib/python3.10/site-packages/azure/ai/ml/operations/_environment_operations.py?line=131'>132</a>\u001b[0m             name\u001b[39m=\u001b[39menvironment\u001b[39m.\u001b[39mname,\n\u001b[1;32m    <a href='file:///anaconda/envs/azureml_py310_sdkv2/lib/python3.10/site-packages/azure/ai/ml/operations/_environment_operations.py?line=132'>133</a>\u001b[0m             version\u001b[39m=\u001b[39menvironment\u001b[39m.\u001b[39mversion,\n\u001b[1;32m    <a href='file:///anaconda/envs/azureml_py310_sdkv2/lib/python3.10/site-packages/azure/ai/ml/operations/_environment_operations.py?line=133'>134</a>\u001b[0m             registry_name\u001b[39m=\u001b[39m\u001b[39mself\u001b[39m\u001b[39m.\u001b[39m_registry_name,\n\u001b[1;32m    <a href='file:///anaconda/envs/azureml_py310_sdkv2/lib/python3.10/site-packages/azure/ai/ml/operations/_environment_operations.py?line=134'>135</a>\u001b[0m             body\u001b[39m=\u001b[39menv_version_resource,\n\u001b[1;32m    <a href='file:///anaconda/envs/azureml_py310_sdkv2/lib/python3.10/site-packages/azure/ai/ml/operations/_environment_operations.py?line=135'>136</a>\u001b[0m             \u001b[39m*\u001b[39m\u001b[39m*\u001b[39m\u001b[39mself\u001b[39m\u001b[39m.\u001b[39m_scope_kwargs,\n\u001b[1;32m    <a href='file:///anaconda/envs/azureml_py310_sdkv2/lib/python3.10/site-packages/azure/ai/ml/operations/_environment_operations.py?line=136'>137</a>\u001b[0m             \u001b[39m*\u001b[39m\u001b[39m*\u001b[39m\u001b[39mself\u001b[39m\u001b[39m.\u001b[39m_kwargs,\n\u001b[1;32m    <a href='file:///anaconda/envs/azureml_py310_sdkv2/lib/python3.10/site-packages/azure/ai/ml/operations/_environment_operations.py?line=137'>138</a>\u001b[0m         )\u001b[39m.\u001b[39mresult()\n\u001b[1;32m    <a href='file:///anaconda/envs/azureml_py310_sdkv2/lib/python3.10/site-packages/azure/ai/ml/operations/_environment_operations.py?line=138'>139</a>\u001b[0m         \u001b[39mif\u001b[39;00m \u001b[39mself\u001b[39m\u001b[39m.\u001b[39m_registry_name\n\u001b[0;32m--> <a href='file:///anaconda/envs/azureml_py310_sdkv2/lib/python3.10/site-packages/azure/ai/ml/operations/_environment_operations.py?line=139'>140</a>\u001b[0m         \u001b[39melse\u001b[39;00m \u001b[39mself\u001b[39;49m\u001b[39m.\u001b[39;49m_version_operations\u001b[39m.\u001b[39;49mcreate_or_update(\n\u001b[1;32m    <a href='file:///anaconda/envs/azureml_py310_sdkv2/lib/python3.10/site-packages/azure/ai/ml/operations/_environment_operations.py?line=140'>141</a>\u001b[0m             name\u001b[39m=\u001b[39;49menvironment\u001b[39m.\u001b[39;49mname,\n\u001b[1;32m    <a href='file:///anaconda/envs/azureml_py310_sdkv2/lib/python3.10/site-packages/azure/ai/ml/operations/_environment_operations.py?line=141'>142</a>\u001b[0m             version\u001b[39m=\u001b[39;49menvironment\u001b[39m.\u001b[39;49mversion,\n\u001b[1;32m    <a href='file:///anaconda/envs/azureml_py310_sdkv2/lib/python3.10/site-packages/azure/ai/ml/operations/_environment_operations.py?line=142'>143</a>\u001b[0m             workspace_name\u001b[39m=\u001b[39;49m\u001b[39mself\u001b[39;49m\u001b[39m.\u001b[39;49m_workspace_name,\n\u001b[1;32m    <a href='file:///anaconda/envs/azureml_py310_sdkv2/lib/python3.10/site-packages/azure/ai/ml/operations/_environment_operations.py?line=143'>144</a>\u001b[0m             body\u001b[39m=\u001b[39;49menv_version_resource,\n\u001b[1;32m    <a href='file:///anaconda/envs/azureml_py310_sdkv2/lib/python3.10/site-packages/azure/ai/ml/operations/_environment_operations.py?line=144'>145</a>\u001b[0m             \u001b[39m*\u001b[39;49m\u001b[39m*\u001b[39;49m\u001b[39mself\u001b[39;49m\u001b[39m.\u001b[39;49m_scope_kwargs,\n\u001b[1;32m    <a href='file:///anaconda/envs/azureml_py310_sdkv2/lib/python3.10/site-packages/azure/ai/ml/operations/_environment_operations.py?line=145'>146</a>\u001b[0m             \u001b[39m*\u001b[39;49m\u001b[39m*\u001b[39;49m\u001b[39mself\u001b[39;49m\u001b[39m.\u001b[39;49m_kwargs,\n\u001b[1;32m    <a href='file:///anaconda/envs/azureml_py310_sdkv2/lib/python3.10/site-packages/azure/ai/ml/operations/_environment_operations.py?line=146'>147</a>\u001b[0m         )\n\u001b[1;32m    <a href='file:///anaconda/envs/azureml_py310_sdkv2/lib/python3.10/site-packages/azure/ai/ml/operations/_environment_operations.py?line=147'>148</a>\u001b[0m     )\n\u001b[1;32m    <a href='file:///anaconda/envs/azureml_py310_sdkv2/lib/python3.10/site-packages/azure/ai/ml/operations/_environment_operations.py?line=149'>150</a>\u001b[0m \u001b[39mif\u001b[39;00m \u001b[39mnot\u001b[39;00m env_rest_obj \u001b[39mand\u001b[39;00m \u001b[39mself\u001b[39m\u001b[39m.\u001b[39m_registry_name:\n\u001b[1;32m    <a href='file:///anaconda/envs/azureml_py310_sdkv2/lib/python3.10/site-packages/azure/ai/ml/operations/_environment_operations.py?line=150'>151</a>\u001b[0m     env_rest_obj \u001b[39m=\u001b[39m \u001b[39mself\u001b[39m\u001b[39m.\u001b[39m_get(name\u001b[39m=\u001b[39menvironment\u001b[39m.\u001b[39mname, version\u001b[39m=\u001b[39menvironment\u001b[39m.\u001b[39mversion)\n",
            "File \u001b[0;32m/anaconda/envs/azureml_py310_sdkv2/lib/python3.10/site-packages/azure/core/tracing/decorator.py:78\u001b[0m, in \u001b[0;36mdistributed_trace.<locals>.decorator.<locals>.wrapper_use_tracer\u001b[0;34m(*args, **kwargs)\u001b[0m\n\u001b[1;32m     <a href='file:///anaconda/envs/azureml_py310_sdkv2/lib/python3.10/site-packages/azure/core/tracing/decorator.py?line=75'>76</a>\u001b[0m span_impl_type \u001b[39m=\u001b[39m settings\u001b[39m.\u001b[39mtracing_implementation()\n\u001b[1;32m     <a href='file:///anaconda/envs/azureml_py310_sdkv2/lib/python3.10/site-packages/azure/core/tracing/decorator.py?line=76'>77</a>\u001b[0m \u001b[39mif\u001b[39;00m span_impl_type \u001b[39mis\u001b[39;00m \u001b[39mNone\u001b[39;00m:\n\u001b[0;32m---> <a href='file:///anaconda/envs/azureml_py310_sdkv2/lib/python3.10/site-packages/azure/core/tracing/decorator.py?line=77'>78</a>\u001b[0m     \u001b[39mreturn\u001b[39;00m func(\u001b[39m*\u001b[39;49margs, \u001b[39m*\u001b[39;49m\u001b[39m*\u001b[39;49mkwargs)\n\u001b[1;32m     <a href='file:///anaconda/envs/azureml_py310_sdkv2/lib/python3.10/site-packages/azure/core/tracing/decorator.py?line=79'>80</a>\u001b[0m \u001b[39m# Merge span is parameter is set, but only if no explicit parent are passed\u001b[39;00m\n\u001b[1;32m     <a href='file:///anaconda/envs/azureml_py310_sdkv2/lib/python3.10/site-packages/azure/core/tracing/decorator.py?line=80'>81</a>\u001b[0m \u001b[39mif\u001b[39;00m merge_span \u001b[39mand\u001b[39;00m \u001b[39mnot\u001b[39;00m passed_in_parent:\n",
            "File \u001b[0;32m/anaconda/envs/azureml_py310_sdkv2/lib/python3.10/site-packages/azure/ai/ml/_restclient/v2022_05_01/operations/_environment_versions_operations.py:510\u001b[0m, in \u001b[0;36mEnvironmentVersionsOperations.create_or_update\u001b[0;34m(self, resource_group_name, workspace_name, name, version, body, **kwargs)\u001b[0m\n\u001b[1;32m    <a href='file:///anaconda/envs/azureml_py310_sdkv2/lib/python3.10/site-packages/azure/ai/ml/_restclient/v2022_05_01/operations/_environment_versions_operations.py?line=506'>507</a>\u001b[0m request \u001b[39m=\u001b[39m _convert_request(request)\n\u001b[1;32m    <a href='file:///anaconda/envs/azureml_py310_sdkv2/lib/python3.10/site-packages/azure/ai/ml/_restclient/v2022_05_01/operations/_environment_versions_operations.py?line=507'>508</a>\u001b[0m request\u001b[39m.\u001b[39murl \u001b[39m=\u001b[39m \u001b[39mself\u001b[39m\u001b[39m.\u001b[39m_client\u001b[39m.\u001b[39mformat_url(request\u001b[39m.\u001b[39murl)\n\u001b[0;32m--> <a href='file:///anaconda/envs/azureml_py310_sdkv2/lib/python3.10/site-packages/azure/ai/ml/_restclient/v2022_05_01/operations/_environment_versions_operations.py?line=509'>510</a>\u001b[0m pipeline_response \u001b[39m=\u001b[39m \u001b[39mself\u001b[39;49m\u001b[39m.\u001b[39;49m_client\u001b[39m.\u001b[39;49m_pipeline\u001b[39m.\u001b[39;49mrun(request, stream\u001b[39m=\u001b[39;49m\u001b[39mFalse\u001b[39;49;00m, \u001b[39m*\u001b[39;49m\u001b[39m*\u001b[39;49mkwargs)\n\u001b[1;32m    <a href='file:///anaconda/envs/azureml_py310_sdkv2/lib/python3.10/site-packages/azure/ai/ml/_restclient/v2022_05_01/operations/_environment_versions_operations.py?line=510'>511</a>\u001b[0m response \u001b[39m=\u001b[39m pipeline_response\u001b[39m.\u001b[39mhttp_response\n\u001b[1;32m    <a href='file:///anaconda/envs/azureml_py310_sdkv2/lib/python3.10/site-packages/azure/ai/ml/_restclient/v2022_05_01/operations/_environment_versions_operations.py?line=512'>513</a>\u001b[0m \u001b[39mif\u001b[39;00m response\u001b[39m.\u001b[39mstatus_code \u001b[39mnot\u001b[39;00m \u001b[39min\u001b[39;00m [\u001b[39m200\u001b[39m, \u001b[39m201\u001b[39m]:\n",
            "File \u001b[0;32m/anaconda/envs/azureml_py310_sdkv2/lib/python3.10/site-packages/azure/core/pipeline/_base.py:211\u001b[0m, in \u001b[0;36mPipeline.run\u001b[0;34m(self, request, **kwargs)\u001b[0m\n\u001b[1;32m    <a href='file:///anaconda/envs/azureml_py310_sdkv2/lib/python3.10/site-packages/azure/core/pipeline/_base.py?line=202'>203</a>\u001b[0m pipeline_request \u001b[39m=\u001b[39m PipelineRequest(\n\u001b[1;32m    <a href='file:///anaconda/envs/azureml_py310_sdkv2/lib/python3.10/site-packages/azure/core/pipeline/_base.py?line=203'>204</a>\u001b[0m     request, context\n\u001b[1;32m    <a href='file:///anaconda/envs/azureml_py310_sdkv2/lib/python3.10/site-packages/azure/core/pipeline/_base.py?line=204'>205</a>\u001b[0m )  \u001b[39m# type: PipelineRequest[HTTPRequestType]\u001b[39;00m\n\u001b[1;32m    <a href='file:///anaconda/envs/azureml_py310_sdkv2/lib/python3.10/site-packages/azure/core/pipeline/_base.py?line=205'>206</a>\u001b[0m first_node \u001b[39m=\u001b[39m (\n\u001b[1;32m    <a href='file:///anaconda/envs/azureml_py310_sdkv2/lib/python3.10/site-packages/azure/core/pipeline/_base.py?line=206'>207</a>\u001b[0m     \u001b[39mself\u001b[39m\u001b[39m.\u001b[39m_impl_policies[\u001b[39m0\u001b[39m]\n\u001b[1;32m    <a href='file:///anaconda/envs/azureml_py310_sdkv2/lib/python3.10/site-packages/azure/core/pipeline/_base.py?line=207'>208</a>\u001b[0m     \u001b[39mif\u001b[39;00m \u001b[39mself\u001b[39m\u001b[39m.\u001b[39m_impl_policies\n\u001b[1;32m    <a href='file:///anaconda/envs/azureml_py310_sdkv2/lib/python3.10/site-packages/azure/core/pipeline/_base.py?line=208'>209</a>\u001b[0m     \u001b[39melse\u001b[39;00m _TransportRunner(\u001b[39mself\u001b[39m\u001b[39m.\u001b[39m_transport)\n\u001b[1;32m    <a href='file:///anaconda/envs/azureml_py310_sdkv2/lib/python3.10/site-packages/azure/core/pipeline/_base.py?line=209'>210</a>\u001b[0m )\n\u001b[0;32m--> <a href='file:///anaconda/envs/azureml_py310_sdkv2/lib/python3.10/site-packages/azure/core/pipeline/_base.py?line=210'>211</a>\u001b[0m \u001b[39mreturn\u001b[39;00m first_node\u001b[39m.\u001b[39;49msend(pipeline_request)\n",
            "File \u001b[0;32m/anaconda/envs/azureml_py310_sdkv2/lib/python3.10/site-packages/azure/core/pipeline/_base.py:71\u001b[0m, in \u001b[0;36m_SansIOHTTPPolicyRunner.send\u001b[0;34m(self, request)\u001b[0m\n\u001b[1;32m     <a href='file:///anaconda/envs/azureml_py310_sdkv2/lib/python3.10/site-packages/azure/core/pipeline/_base.py?line=68'>69</a>\u001b[0m _await_result(\u001b[39mself\u001b[39m\u001b[39m.\u001b[39m_policy\u001b[39m.\u001b[39mon_request, request)\n\u001b[1;32m     <a href='file:///anaconda/envs/azureml_py310_sdkv2/lib/python3.10/site-packages/azure/core/pipeline/_base.py?line=69'>70</a>\u001b[0m \u001b[39mtry\u001b[39;00m:\n\u001b[0;32m---> <a href='file:///anaconda/envs/azureml_py310_sdkv2/lib/python3.10/site-packages/azure/core/pipeline/_base.py?line=70'>71</a>\u001b[0m     response \u001b[39m=\u001b[39m \u001b[39mself\u001b[39;49m\u001b[39m.\u001b[39;49mnext\u001b[39m.\u001b[39;49msend(request)\n\u001b[1;32m     <a href='file:///anaconda/envs/azureml_py310_sdkv2/lib/python3.10/site-packages/azure/core/pipeline/_base.py?line=71'>72</a>\u001b[0m \u001b[39mexcept\u001b[39;00m \u001b[39mException\u001b[39;00m:  \u001b[39m# pylint: disable=broad-except\u001b[39;00m\n\u001b[1;32m     <a href='file:///anaconda/envs/azureml_py310_sdkv2/lib/python3.10/site-packages/azure/core/pipeline/_base.py?line=72'>73</a>\u001b[0m     _await_result(\u001b[39mself\u001b[39m\u001b[39m.\u001b[39m_policy\u001b[39m.\u001b[39mon_exception, request)\n",
            "File \u001b[0;32m/anaconda/envs/azureml_py310_sdkv2/lib/python3.10/site-packages/azure/core/pipeline/_base.py:71\u001b[0m, in \u001b[0;36m_SansIOHTTPPolicyRunner.send\u001b[0;34m(self, request)\u001b[0m\n\u001b[1;32m     <a href='file:///anaconda/envs/azureml_py310_sdkv2/lib/python3.10/site-packages/azure/core/pipeline/_base.py?line=68'>69</a>\u001b[0m _await_result(\u001b[39mself\u001b[39m\u001b[39m.\u001b[39m_policy\u001b[39m.\u001b[39mon_request, request)\n\u001b[1;32m     <a href='file:///anaconda/envs/azureml_py310_sdkv2/lib/python3.10/site-packages/azure/core/pipeline/_base.py?line=69'>70</a>\u001b[0m \u001b[39mtry\u001b[39;00m:\n\u001b[0;32m---> <a href='file:///anaconda/envs/azureml_py310_sdkv2/lib/python3.10/site-packages/azure/core/pipeline/_base.py?line=70'>71</a>\u001b[0m     response \u001b[39m=\u001b[39m \u001b[39mself\u001b[39;49m\u001b[39m.\u001b[39;49mnext\u001b[39m.\u001b[39;49msend(request)\n\u001b[1;32m     <a href='file:///anaconda/envs/azureml_py310_sdkv2/lib/python3.10/site-packages/azure/core/pipeline/_base.py?line=71'>72</a>\u001b[0m \u001b[39mexcept\u001b[39;00m \u001b[39mException\u001b[39;00m:  \u001b[39m# pylint: disable=broad-except\u001b[39;00m\n\u001b[1;32m     <a href='file:///anaconda/envs/azureml_py310_sdkv2/lib/python3.10/site-packages/azure/core/pipeline/_base.py?line=72'>73</a>\u001b[0m     _await_result(\u001b[39mself\u001b[39m\u001b[39m.\u001b[39m_policy\u001b[39m.\u001b[39mon_exception, request)\n",
            "    \u001b[0;31m[... skipping similar frames: _SansIOHTTPPolicyRunner.send at line 71 (2 times)]\u001b[0m\n",
            "File \u001b[0;32m/anaconda/envs/azureml_py310_sdkv2/lib/python3.10/site-packages/azure/core/pipeline/_base.py:71\u001b[0m, in \u001b[0;36m_SansIOHTTPPolicyRunner.send\u001b[0;34m(self, request)\u001b[0m\n\u001b[1;32m     <a href='file:///anaconda/envs/azureml_py310_sdkv2/lib/python3.10/site-packages/azure/core/pipeline/_base.py?line=68'>69</a>\u001b[0m _await_result(\u001b[39mself\u001b[39m\u001b[39m.\u001b[39m_policy\u001b[39m.\u001b[39mon_request, request)\n\u001b[1;32m     <a href='file:///anaconda/envs/azureml_py310_sdkv2/lib/python3.10/site-packages/azure/core/pipeline/_base.py?line=69'>70</a>\u001b[0m \u001b[39mtry\u001b[39;00m:\n\u001b[0;32m---> <a href='file:///anaconda/envs/azureml_py310_sdkv2/lib/python3.10/site-packages/azure/core/pipeline/_base.py?line=70'>71</a>\u001b[0m     response \u001b[39m=\u001b[39m \u001b[39mself\u001b[39;49m\u001b[39m.\u001b[39;49mnext\u001b[39m.\u001b[39;49msend(request)\n\u001b[1;32m     <a href='file:///anaconda/envs/azureml_py310_sdkv2/lib/python3.10/site-packages/azure/core/pipeline/_base.py?line=71'>72</a>\u001b[0m \u001b[39mexcept\u001b[39;00m \u001b[39mException\u001b[39;00m:  \u001b[39m# pylint: disable=broad-except\u001b[39;00m\n\u001b[1;32m     <a href='file:///anaconda/envs/azureml_py310_sdkv2/lib/python3.10/site-packages/azure/core/pipeline/_base.py?line=72'>73</a>\u001b[0m     _await_result(\u001b[39mself\u001b[39m\u001b[39m.\u001b[39m_policy\u001b[39m.\u001b[39mon_exception, request)\n",
            "File \u001b[0;32m/anaconda/envs/azureml_py310_sdkv2/lib/python3.10/site-packages/azure/mgmt/core/policies/_base.py:47\u001b[0m, in \u001b[0;36mARMAutoResourceProviderRegistrationPolicy.send\u001b[0;34m(self, request)\u001b[0m\n\u001b[1;32m     <a href='file:///anaconda/envs/azureml_py310_sdkv2/lib/python3.10/site-packages/azure/mgmt/core/policies/_base.py?line=43'>44</a>\u001b[0m \u001b[39mdef\u001b[39;00m \u001b[39msend\u001b[39m(\u001b[39mself\u001b[39m, request):\n\u001b[1;32m     <a href='file:///anaconda/envs/azureml_py310_sdkv2/lib/python3.10/site-packages/azure/mgmt/core/policies/_base.py?line=44'>45</a>\u001b[0m     \u001b[39m# type: (PipelineRequest[HTTPRequestType], Any) -> PipelineResponse[HTTPRequestType, HTTPResponseType]\u001b[39;00m\n\u001b[1;32m     <a href='file:///anaconda/envs/azureml_py310_sdkv2/lib/python3.10/site-packages/azure/mgmt/core/policies/_base.py?line=45'>46</a>\u001b[0m     http_request \u001b[39m=\u001b[39m request\u001b[39m.\u001b[39mhttp_request\n\u001b[0;32m---> <a href='file:///anaconda/envs/azureml_py310_sdkv2/lib/python3.10/site-packages/azure/mgmt/core/policies/_base.py?line=46'>47</a>\u001b[0m     response \u001b[39m=\u001b[39m \u001b[39mself\u001b[39;49m\u001b[39m.\u001b[39;49mnext\u001b[39m.\u001b[39;49msend(request)\n\u001b[1;32m     <a href='file:///anaconda/envs/azureml_py310_sdkv2/lib/python3.10/site-packages/azure/mgmt/core/policies/_base.py?line=47'>48</a>\u001b[0m     \u001b[39mif\u001b[39;00m response\u001b[39m.\u001b[39mhttp_response\u001b[39m.\u001b[39mstatus_code \u001b[39m==\u001b[39m \u001b[39m409\u001b[39m:\n\u001b[1;32m     <a href='file:///anaconda/envs/azureml_py310_sdkv2/lib/python3.10/site-packages/azure/mgmt/core/policies/_base.py?line=48'>49</a>\u001b[0m         rp_name \u001b[39m=\u001b[39m \u001b[39mself\u001b[39m\u001b[39m.\u001b[39m_check_rp_not_registered_err(response)\n",
            "File \u001b[0;32m/anaconda/envs/azureml_py310_sdkv2/lib/python3.10/site-packages/azure/core/pipeline/policies/_redirect.py:160\u001b[0m, in \u001b[0;36mRedirectPolicy.send\u001b[0;34m(self, request)\u001b[0m\n\u001b[1;32m    <a href='file:///anaconda/envs/azureml_py310_sdkv2/lib/python3.10/site-packages/azure/core/pipeline/policies/_redirect.py?line=157'>158</a>\u001b[0m redirect_settings \u001b[39m=\u001b[39m \u001b[39mself\u001b[39m\u001b[39m.\u001b[39mconfigure_redirects(request\u001b[39m.\u001b[39mcontext\u001b[39m.\u001b[39moptions)\n\u001b[1;32m    <a href='file:///anaconda/envs/azureml_py310_sdkv2/lib/python3.10/site-packages/azure/core/pipeline/policies/_redirect.py?line=158'>159</a>\u001b[0m \u001b[39mwhile\u001b[39;00m retryable:\n\u001b[0;32m--> <a href='file:///anaconda/envs/azureml_py310_sdkv2/lib/python3.10/site-packages/azure/core/pipeline/policies/_redirect.py?line=159'>160</a>\u001b[0m     response \u001b[39m=\u001b[39m \u001b[39mself\u001b[39;49m\u001b[39m.\u001b[39;49mnext\u001b[39m.\u001b[39;49msend(request)\n\u001b[1;32m    <a href='file:///anaconda/envs/azureml_py310_sdkv2/lib/python3.10/site-packages/azure/core/pipeline/policies/_redirect.py?line=160'>161</a>\u001b[0m     redirect_location \u001b[39m=\u001b[39m \u001b[39mself\u001b[39m\u001b[39m.\u001b[39mget_redirect_location(response)\n\u001b[1;32m    <a href='file:///anaconda/envs/azureml_py310_sdkv2/lib/python3.10/site-packages/azure/core/pipeline/policies/_redirect.py?line=161'>162</a>\u001b[0m     \u001b[39mif\u001b[39;00m redirect_location \u001b[39mand\u001b[39;00m redirect_settings[\u001b[39m\"\u001b[39m\u001b[39mallow\u001b[39m\u001b[39m\"\u001b[39m]:\n",
            "File \u001b[0;32m/anaconda/envs/azureml_py310_sdkv2/lib/python3.10/site-packages/azure/core/pipeline/policies/_retry.py:484\u001b[0m, in \u001b[0;36mRetryPolicy.send\u001b[0;34m(self, request)\u001b[0m\n\u001b[1;32m    <a href='file:///anaconda/envs/azureml_py310_sdkv2/lib/python3.10/site-packages/azure/core/pipeline/policies/_retry.py?line=481'>482</a>\u001b[0m start_time \u001b[39m=\u001b[39m time\u001b[39m.\u001b[39mtime()\n\u001b[1;32m    <a href='file:///anaconda/envs/azureml_py310_sdkv2/lib/python3.10/site-packages/azure/core/pipeline/policies/_retry.py?line=482'>483</a>\u001b[0m \u001b[39mself\u001b[39m\u001b[39m.\u001b[39m_configure_timeout(request, absolute_timeout, is_response_error)\n\u001b[0;32m--> <a href='file:///anaconda/envs/azureml_py310_sdkv2/lib/python3.10/site-packages/azure/core/pipeline/policies/_retry.py?line=483'>484</a>\u001b[0m response \u001b[39m=\u001b[39m \u001b[39mself\u001b[39;49m\u001b[39m.\u001b[39;49mnext\u001b[39m.\u001b[39;49msend(request)\n\u001b[1;32m    <a href='file:///anaconda/envs/azureml_py310_sdkv2/lib/python3.10/site-packages/azure/core/pipeline/policies/_retry.py?line=484'>485</a>\u001b[0m \u001b[39mif\u001b[39;00m \u001b[39mself\u001b[39m\u001b[39m.\u001b[39mis_retry(retry_settings, response):\n\u001b[1;32m    <a href='file:///anaconda/envs/azureml_py310_sdkv2/lib/python3.10/site-packages/azure/core/pipeline/policies/_retry.py?line=485'>486</a>\u001b[0m     retry_active \u001b[39m=\u001b[39m \u001b[39mself\u001b[39m\u001b[39m.\u001b[39mincrement(retry_settings, response\u001b[39m=\u001b[39mresponse)\n",
            "File \u001b[0;32m/anaconda/envs/azureml_py310_sdkv2/lib/python3.10/site-packages/azure/core/pipeline/policies/_authentication.py:118\u001b[0m, in \u001b[0;36mBearerTokenCredentialPolicy.send\u001b[0;34m(self, request)\u001b[0m\n\u001b[1;32m    <a href='file:///anaconda/envs/azureml_py310_sdkv2/lib/python3.10/site-packages/azure/core/pipeline/policies/_authentication.py?line=115'>116</a>\u001b[0m \u001b[39mself\u001b[39m\u001b[39m.\u001b[39mon_request(request)\n\u001b[1;32m    <a href='file:///anaconda/envs/azureml_py310_sdkv2/lib/python3.10/site-packages/azure/core/pipeline/policies/_authentication.py?line=116'>117</a>\u001b[0m \u001b[39mtry\u001b[39;00m:\n\u001b[0;32m--> <a href='file:///anaconda/envs/azureml_py310_sdkv2/lib/python3.10/site-packages/azure/core/pipeline/policies/_authentication.py?line=117'>118</a>\u001b[0m     response \u001b[39m=\u001b[39m \u001b[39mself\u001b[39;49m\u001b[39m.\u001b[39;49mnext\u001b[39m.\u001b[39;49msend(request)\n\u001b[1;32m    <a href='file:///anaconda/envs/azureml_py310_sdkv2/lib/python3.10/site-packages/azure/core/pipeline/policies/_authentication.py?line=118'>119</a>\u001b[0m     \u001b[39mself\u001b[39m\u001b[39m.\u001b[39mon_response(request, response)\n\u001b[1;32m    <a href='file:///anaconda/envs/azureml_py310_sdkv2/lib/python3.10/site-packages/azure/core/pipeline/policies/_authentication.py?line=119'>120</a>\u001b[0m \u001b[39mexcept\u001b[39;00m \u001b[39mException\u001b[39;00m:  \u001b[39m# pylint:disable=broad-except\u001b[39;00m\n",
            "File \u001b[0;32m/anaconda/envs/azureml_py310_sdkv2/lib/python3.10/site-packages/azure/core/pipeline/_base.py:71\u001b[0m, in \u001b[0;36m_SansIOHTTPPolicyRunner.send\u001b[0;34m(self, request)\u001b[0m\n\u001b[1;32m     <a href='file:///anaconda/envs/azureml_py310_sdkv2/lib/python3.10/site-packages/azure/core/pipeline/_base.py?line=68'>69</a>\u001b[0m _await_result(\u001b[39mself\u001b[39m\u001b[39m.\u001b[39m_policy\u001b[39m.\u001b[39mon_request, request)\n\u001b[1;32m     <a href='file:///anaconda/envs/azureml_py310_sdkv2/lib/python3.10/site-packages/azure/core/pipeline/_base.py?line=69'>70</a>\u001b[0m \u001b[39mtry\u001b[39;00m:\n\u001b[0;32m---> <a href='file:///anaconda/envs/azureml_py310_sdkv2/lib/python3.10/site-packages/azure/core/pipeline/_base.py?line=70'>71</a>\u001b[0m     response \u001b[39m=\u001b[39m \u001b[39mself\u001b[39;49m\u001b[39m.\u001b[39;49mnext\u001b[39m.\u001b[39;49msend(request)\n\u001b[1;32m     <a href='file:///anaconda/envs/azureml_py310_sdkv2/lib/python3.10/site-packages/azure/core/pipeline/_base.py?line=71'>72</a>\u001b[0m \u001b[39mexcept\u001b[39;00m \u001b[39mException\u001b[39;00m:  \u001b[39m# pylint: disable=broad-except\u001b[39;00m\n\u001b[1;32m     <a href='file:///anaconda/envs/azureml_py310_sdkv2/lib/python3.10/site-packages/azure/core/pipeline/_base.py?line=72'>73</a>\u001b[0m     _await_result(\u001b[39mself\u001b[39m\u001b[39m.\u001b[39m_policy\u001b[39m.\u001b[39mon_exception, request)\n",
            "File \u001b[0;32m/anaconda/envs/azureml_py310_sdkv2/lib/python3.10/site-packages/azure/core/pipeline/_base.py:71\u001b[0m, in \u001b[0;36m_SansIOHTTPPolicyRunner.send\u001b[0;34m(self, request)\u001b[0m\n\u001b[1;32m     <a href='file:///anaconda/envs/azureml_py310_sdkv2/lib/python3.10/site-packages/azure/core/pipeline/_base.py?line=68'>69</a>\u001b[0m _await_result(\u001b[39mself\u001b[39m\u001b[39m.\u001b[39m_policy\u001b[39m.\u001b[39mon_request, request)\n\u001b[1;32m     <a href='file:///anaconda/envs/azureml_py310_sdkv2/lib/python3.10/site-packages/azure/core/pipeline/_base.py?line=69'>70</a>\u001b[0m \u001b[39mtry\u001b[39;00m:\n\u001b[0;32m---> <a href='file:///anaconda/envs/azureml_py310_sdkv2/lib/python3.10/site-packages/azure/core/pipeline/_base.py?line=70'>71</a>\u001b[0m     response \u001b[39m=\u001b[39m \u001b[39mself\u001b[39;49m\u001b[39m.\u001b[39;49mnext\u001b[39m.\u001b[39;49msend(request)\n\u001b[1;32m     <a href='file:///anaconda/envs/azureml_py310_sdkv2/lib/python3.10/site-packages/azure/core/pipeline/_base.py?line=71'>72</a>\u001b[0m \u001b[39mexcept\u001b[39;00m \u001b[39mException\u001b[39;00m:  \u001b[39m# pylint: disable=broad-except\u001b[39;00m\n\u001b[1;32m     <a href='file:///anaconda/envs/azureml_py310_sdkv2/lib/python3.10/site-packages/azure/core/pipeline/_base.py?line=72'>73</a>\u001b[0m     _await_result(\u001b[39mself\u001b[39m\u001b[39m.\u001b[39m_policy\u001b[39m.\u001b[39mon_exception, request)\n",
            "    \u001b[0;31m[... skipping similar frames: _SansIOHTTPPolicyRunner.send at line 71 (1 times)]\u001b[0m\n",
            "File \u001b[0;32m/anaconda/envs/azureml_py310_sdkv2/lib/python3.10/site-packages/azure/core/pipeline/_base.py:71\u001b[0m, in \u001b[0;36m_SansIOHTTPPolicyRunner.send\u001b[0;34m(self, request)\u001b[0m\n\u001b[1;32m     <a href='file:///anaconda/envs/azureml_py310_sdkv2/lib/python3.10/site-packages/azure/core/pipeline/_base.py?line=68'>69</a>\u001b[0m _await_result(\u001b[39mself\u001b[39m\u001b[39m.\u001b[39m_policy\u001b[39m.\u001b[39mon_request, request)\n\u001b[1;32m     <a href='file:///anaconda/envs/azureml_py310_sdkv2/lib/python3.10/site-packages/azure/core/pipeline/_base.py?line=69'>70</a>\u001b[0m \u001b[39mtry\u001b[39;00m:\n\u001b[0;32m---> <a href='file:///anaconda/envs/azureml_py310_sdkv2/lib/python3.10/site-packages/azure/core/pipeline/_base.py?line=70'>71</a>\u001b[0m     response \u001b[39m=\u001b[39m \u001b[39mself\u001b[39;49m\u001b[39m.\u001b[39;49mnext\u001b[39m.\u001b[39;49msend(request)\n\u001b[1;32m     <a href='file:///anaconda/envs/azureml_py310_sdkv2/lib/python3.10/site-packages/azure/core/pipeline/_base.py?line=71'>72</a>\u001b[0m \u001b[39mexcept\u001b[39;00m \u001b[39mException\u001b[39;00m:  \u001b[39m# pylint: disable=broad-except\u001b[39;00m\n\u001b[1;32m     <a href='file:///anaconda/envs/azureml_py310_sdkv2/lib/python3.10/site-packages/azure/core/pipeline/_base.py?line=72'>73</a>\u001b[0m     _await_result(\u001b[39mself\u001b[39m\u001b[39m.\u001b[39m_policy\u001b[39m.\u001b[39mon_exception, request)\n",
            "File \u001b[0;32m/anaconda/envs/azureml_py310_sdkv2/lib/python3.10/site-packages/azure/core/pipeline/_base.py:103\u001b[0m, in \u001b[0;36m_TransportRunner.send\u001b[0;34m(self, request)\u001b[0m\n\u001b[1;32m     <a href='file:///anaconda/envs/azureml_py310_sdkv2/lib/python3.10/site-packages/azure/core/pipeline/_base.py?line=92'>93</a>\u001b[0m \u001b[39mdef\u001b[39;00m \u001b[39msend\u001b[39m(\u001b[39mself\u001b[39m, request):\n\u001b[1;32m     <a href='file:///anaconda/envs/azureml_py310_sdkv2/lib/python3.10/site-packages/azure/core/pipeline/_base.py?line=93'>94</a>\u001b[0m     \u001b[39m\"\"\"HTTP transport send method.\u001b[39;00m\n\u001b[1;32m     <a href='file:///anaconda/envs/azureml_py310_sdkv2/lib/python3.10/site-packages/azure/core/pipeline/_base.py?line=94'>95</a>\u001b[0m \n\u001b[1;32m     <a href='file:///anaconda/envs/azureml_py310_sdkv2/lib/python3.10/site-packages/azure/core/pipeline/_base.py?line=95'>96</a>\u001b[0m \u001b[39m    :param request: The PipelineRequest object.\u001b[39;00m\n\u001b[0;32m   (...)\u001b[0m\n\u001b[1;32m     <a href='file:///anaconda/envs/azureml_py310_sdkv2/lib/python3.10/site-packages/azure/core/pipeline/_base.py?line=98'>99</a>\u001b[0m \u001b[39m    :rtype: ~azure.core.pipeline.PipelineResponse\u001b[39;00m\n\u001b[1;32m    <a href='file:///anaconda/envs/azureml_py310_sdkv2/lib/python3.10/site-packages/azure/core/pipeline/_base.py?line=99'>100</a>\u001b[0m \u001b[39m    \"\"\"\u001b[39;00m\n\u001b[1;32m    <a href='file:///anaconda/envs/azureml_py310_sdkv2/lib/python3.10/site-packages/azure/core/pipeline/_base.py?line=100'>101</a>\u001b[0m     \u001b[39mreturn\u001b[39;00m PipelineResponse(\n\u001b[1;32m    <a href='file:///anaconda/envs/azureml_py310_sdkv2/lib/python3.10/site-packages/azure/core/pipeline/_base.py?line=101'>102</a>\u001b[0m         request\u001b[39m.\u001b[39mhttp_request,\n\u001b[0;32m--> <a href='file:///anaconda/envs/azureml_py310_sdkv2/lib/python3.10/site-packages/azure/core/pipeline/_base.py?line=102'>103</a>\u001b[0m         \u001b[39mself\u001b[39;49m\u001b[39m.\u001b[39;49m_sender\u001b[39m.\u001b[39;49msend(request\u001b[39m.\u001b[39;49mhttp_request, \u001b[39m*\u001b[39;49m\u001b[39m*\u001b[39;49mrequest\u001b[39m.\u001b[39;49mcontext\u001b[39m.\u001b[39;49moptions),\n\u001b[1;32m    <a href='file:///anaconda/envs/azureml_py310_sdkv2/lib/python3.10/site-packages/azure/core/pipeline/_base.py?line=103'>104</a>\u001b[0m         context\u001b[39m=\u001b[39mrequest\u001b[39m.\u001b[39mcontext,\n\u001b[1;32m    <a href='file:///anaconda/envs/azureml_py310_sdkv2/lib/python3.10/site-packages/azure/core/pipeline/_base.py?line=104'>105</a>\u001b[0m     )\n",
            "File \u001b[0;32m/anaconda/envs/azureml_py310_sdkv2/lib/python3.10/site-packages/azure/core/pipeline/transport/_requests_basic.py:344\u001b[0m, in \u001b[0;36mRequestsTransport.send\u001b[0;34m(self, request, **kwargs)\u001b[0m\n\u001b[1;32m    <a href='file:///anaconda/envs/azureml_py310_sdkv2/lib/python3.10/site-packages/azure/core/pipeline/transport/_requests_basic.py?line=339'>340</a>\u001b[0m         read_timeout \u001b[39m=\u001b[39m kwargs\u001b[39m.\u001b[39mpop(\n\u001b[1;32m    <a href='file:///anaconda/envs/azureml_py310_sdkv2/lib/python3.10/site-packages/azure/core/pipeline/transport/_requests_basic.py?line=340'>341</a>\u001b[0m             \u001b[39m\"\u001b[39m\u001b[39mread_timeout\u001b[39m\u001b[39m\"\u001b[39m, \u001b[39mself\u001b[39m\u001b[39m.\u001b[39mconnection_config\u001b[39m.\u001b[39mread_timeout\n\u001b[1;32m    <a href='file:///anaconda/envs/azureml_py310_sdkv2/lib/python3.10/site-packages/azure/core/pipeline/transport/_requests_basic.py?line=341'>342</a>\u001b[0m         )\n\u001b[1;32m    <a href='file:///anaconda/envs/azureml_py310_sdkv2/lib/python3.10/site-packages/azure/core/pipeline/transport/_requests_basic.py?line=342'>343</a>\u001b[0m         timeout \u001b[39m=\u001b[39m (connection_timeout, read_timeout)\n\u001b[0;32m--> <a href='file:///anaconda/envs/azureml_py310_sdkv2/lib/python3.10/site-packages/azure/core/pipeline/transport/_requests_basic.py?line=343'>344</a>\u001b[0m     response \u001b[39m=\u001b[39m \u001b[39mself\u001b[39;49m\u001b[39m.\u001b[39;49msession\u001b[39m.\u001b[39;49mrequest(  \u001b[39m# type: ignore\u001b[39;49;00m\n\u001b[1;32m    <a href='file:///anaconda/envs/azureml_py310_sdkv2/lib/python3.10/site-packages/azure/core/pipeline/transport/_requests_basic.py?line=344'>345</a>\u001b[0m         request\u001b[39m.\u001b[39;49mmethod,\n\u001b[1;32m    <a href='file:///anaconda/envs/azureml_py310_sdkv2/lib/python3.10/site-packages/azure/core/pipeline/transport/_requests_basic.py?line=345'>346</a>\u001b[0m         request\u001b[39m.\u001b[39;49murl,\n\u001b[1;32m    <a href='file:///anaconda/envs/azureml_py310_sdkv2/lib/python3.10/site-packages/azure/core/pipeline/transport/_requests_basic.py?line=346'>347</a>\u001b[0m         headers\u001b[39m=\u001b[39;49mrequest\u001b[39m.\u001b[39;49mheaders,\n\u001b[1;32m    <a href='file:///anaconda/envs/azureml_py310_sdkv2/lib/python3.10/site-packages/azure/core/pipeline/transport/_requests_basic.py?line=347'>348</a>\u001b[0m         data\u001b[39m=\u001b[39;49mrequest\u001b[39m.\u001b[39;49mdata,\n\u001b[1;32m    <a href='file:///anaconda/envs/azureml_py310_sdkv2/lib/python3.10/site-packages/azure/core/pipeline/transport/_requests_basic.py?line=348'>349</a>\u001b[0m         files\u001b[39m=\u001b[39;49mrequest\u001b[39m.\u001b[39;49mfiles,\n\u001b[1;32m    <a href='file:///anaconda/envs/azureml_py310_sdkv2/lib/python3.10/site-packages/azure/core/pipeline/transport/_requests_basic.py?line=349'>350</a>\u001b[0m         verify\u001b[39m=\u001b[39;49mkwargs\u001b[39m.\u001b[39;49mpop(\u001b[39m\"\u001b[39;49m\u001b[39mconnection_verify\u001b[39;49m\u001b[39m\"\u001b[39;49m, \u001b[39mself\u001b[39;49m\u001b[39m.\u001b[39;49mconnection_config\u001b[39m.\u001b[39;49mverify),\n\u001b[1;32m    <a href='file:///anaconda/envs/azureml_py310_sdkv2/lib/python3.10/site-packages/azure/core/pipeline/transport/_requests_basic.py?line=350'>351</a>\u001b[0m         timeout\u001b[39m=\u001b[39;49mtimeout,\n\u001b[1;32m    <a href='file:///anaconda/envs/azureml_py310_sdkv2/lib/python3.10/site-packages/azure/core/pipeline/transport/_requests_basic.py?line=351'>352</a>\u001b[0m         cert\u001b[39m=\u001b[39;49mkwargs\u001b[39m.\u001b[39;49mpop(\u001b[39m\"\u001b[39;49m\u001b[39mconnection_cert\u001b[39;49m\u001b[39m\"\u001b[39;49m, \u001b[39mself\u001b[39;49m\u001b[39m.\u001b[39;49mconnection_config\u001b[39m.\u001b[39;49mcert),\n\u001b[1;32m    <a href='file:///anaconda/envs/azureml_py310_sdkv2/lib/python3.10/site-packages/azure/core/pipeline/transport/_requests_basic.py?line=352'>353</a>\u001b[0m         allow_redirects\u001b[39m=\u001b[39;49m\u001b[39mFalse\u001b[39;49;00m,\n\u001b[1;32m    <a href='file:///anaconda/envs/azureml_py310_sdkv2/lib/python3.10/site-packages/azure/core/pipeline/transport/_requests_basic.py?line=353'>354</a>\u001b[0m         \u001b[39m*\u001b[39;49m\u001b[39m*\u001b[39;49mkwargs\n\u001b[1;32m    <a href='file:///anaconda/envs/azureml_py310_sdkv2/lib/python3.10/site-packages/azure/core/pipeline/transport/_requests_basic.py?line=354'>355</a>\u001b[0m     )\n\u001b[1;32m    <a href='file:///anaconda/envs/azureml_py310_sdkv2/lib/python3.10/site-packages/azure/core/pipeline/transport/_requests_basic.py?line=355'>356</a>\u001b[0m     response\u001b[39m.\u001b[39mraw\u001b[39m.\u001b[39menforce_content_length \u001b[39m=\u001b[39m \u001b[39mTrue\u001b[39;00m\n\u001b[1;32m    <a href='file:///anaconda/envs/azureml_py310_sdkv2/lib/python3.10/site-packages/azure/core/pipeline/transport/_requests_basic.py?line=357'>358</a>\u001b[0m \u001b[39mexcept\u001b[39;00m (\n\u001b[1;32m    <a href='file:///anaconda/envs/azureml_py310_sdkv2/lib/python3.10/site-packages/azure/core/pipeline/transport/_requests_basic.py?line=358'>359</a>\u001b[0m     urllib3\u001b[39m.\u001b[39mexceptions\u001b[39m.\u001b[39mNewConnectionError,\n\u001b[1;32m    <a href='file:///anaconda/envs/azureml_py310_sdkv2/lib/python3.10/site-packages/azure/core/pipeline/transport/_requests_basic.py?line=359'>360</a>\u001b[0m     urllib3\u001b[39m.\u001b[39mexceptions\u001b[39m.\u001b[39mConnectTimeoutError,\n\u001b[1;32m    <a href='file:///anaconda/envs/azureml_py310_sdkv2/lib/python3.10/site-packages/azure/core/pipeline/transport/_requests_basic.py?line=360'>361</a>\u001b[0m ) \u001b[39mas\u001b[39;00m err:\n",
            "File \u001b[0;32m/anaconda/envs/azureml_py310_sdkv2/lib/python3.10/site-packages/requests/sessions.py:587\u001b[0m, in \u001b[0;36mSession.request\u001b[0;34m(self, method, url, params, data, headers, cookies, files, auth, timeout, allow_redirects, proxies, hooks, stream, verify, cert, json)\u001b[0m\n\u001b[1;32m    <a href='file:///anaconda/envs/azureml_py310_sdkv2/lib/python3.10/site-packages/requests/sessions.py?line=581'>582</a>\u001b[0m send_kwargs \u001b[39m=\u001b[39m {\n\u001b[1;32m    <a href='file:///anaconda/envs/azureml_py310_sdkv2/lib/python3.10/site-packages/requests/sessions.py?line=582'>583</a>\u001b[0m     \u001b[39m\"\u001b[39m\u001b[39mtimeout\u001b[39m\u001b[39m\"\u001b[39m: timeout,\n\u001b[1;32m    <a href='file:///anaconda/envs/azureml_py310_sdkv2/lib/python3.10/site-packages/requests/sessions.py?line=583'>584</a>\u001b[0m     \u001b[39m\"\u001b[39m\u001b[39mallow_redirects\u001b[39m\u001b[39m\"\u001b[39m: allow_redirects,\n\u001b[1;32m    <a href='file:///anaconda/envs/azureml_py310_sdkv2/lib/python3.10/site-packages/requests/sessions.py?line=584'>585</a>\u001b[0m }\n\u001b[1;32m    <a href='file:///anaconda/envs/azureml_py310_sdkv2/lib/python3.10/site-packages/requests/sessions.py?line=585'>586</a>\u001b[0m send_kwargs\u001b[39m.\u001b[39mupdate(settings)\n\u001b[0;32m--> <a href='file:///anaconda/envs/azureml_py310_sdkv2/lib/python3.10/site-packages/requests/sessions.py?line=586'>587</a>\u001b[0m resp \u001b[39m=\u001b[39m \u001b[39mself\u001b[39;49m\u001b[39m.\u001b[39;49msend(prep, \u001b[39m*\u001b[39;49m\u001b[39m*\u001b[39;49msend_kwargs)\n\u001b[1;32m    <a href='file:///anaconda/envs/azureml_py310_sdkv2/lib/python3.10/site-packages/requests/sessions.py?line=588'>589</a>\u001b[0m \u001b[39mreturn\u001b[39;00m resp\n",
            "File \u001b[0;32m/anaconda/envs/azureml_py310_sdkv2/lib/python3.10/site-packages/requests/sessions.py:701\u001b[0m, in \u001b[0;36mSession.send\u001b[0;34m(self, request, **kwargs)\u001b[0m\n\u001b[1;32m    <a href='file:///anaconda/envs/azureml_py310_sdkv2/lib/python3.10/site-packages/requests/sessions.py?line=697'>698</a>\u001b[0m start \u001b[39m=\u001b[39m preferred_clock()\n\u001b[1;32m    <a href='file:///anaconda/envs/azureml_py310_sdkv2/lib/python3.10/site-packages/requests/sessions.py?line=699'>700</a>\u001b[0m \u001b[39m# Send the request\u001b[39;00m\n\u001b[0;32m--> <a href='file:///anaconda/envs/azureml_py310_sdkv2/lib/python3.10/site-packages/requests/sessions.py?line=700'>701</a>\u001b[0m r \u001b[39m=\u001b[39m adapter\u001b[39m.\u001b[39;49msend(request, \u001b[39m*\u001b[39;49m\u001b[39m*\u001b[39;49mkwargs)\n\u001b[1;32m    <a href='file:///anaconda/envs/azureml_py310_sdkv2/lib/python3.10/site-packages/requests/sessions.py?line=702'>703</a>\u001b[0m \u001b[39m# Total elapsed time of the request (approximately)\u001b[39;00m\n\u001b[1;32m    <a href='file:///anaconda/envs/azureml_py310_sdkv2/lib/python3.10/site-packages/requests/sessions.py?line=703'>704</a>\u001b[0m elapsed \u001b[39m=\u001b[39m preferred_clock() \u001b[39m-\u001b[39m start\n",
            "File \u001b[0;32m/anaconda/envs/azureml_py310_sdkv2/lib/python3.10/site-packages/requests/adapters.py:489\u001b[0m, in \u001b[0;36mHTTPAdapter.send\u001b[0;34m(self, request, stream, timeout, verify, cert, proxies)\u001b[0m\n\u001b[1;32m    <a href='file:///anaconda/envs/azureml_py310_sdkv2/lib/python3.10/site-packages/requests/adapters.py?line=486'>487</a>\u001b[0m \u001b[39mtry\u001b[39;00m:\n\u001b[1;32m    <a href='file:///anaconda/envs/azureml_py310_sdkv2/lib/python3.10/site-packages/requests/adapters.py?line=487'>488</a>\u001b[0m     \u001b[39mif\u001b[39;00m \u001b[39mnot\u001b[39;00m chunked:\n\u001b[0;32m--> <a href='file:///anaconda/envs/azureml_py310_sdkv2/lib/python3.10/site-packages/requests/adapters.py?line=488'>489</a>\u001b[0m         resp \u001b[39m=\u001b[39m conn\u001b[39m.\u001b[39;49murlopen(\n\u001b[1;32m    <a href='file:///anaconda/envs/azureml_py310_sdkv2/lib/python3.10/site-packages/requests/adapters.py?line=489'>490</a>\u001b[0m             method\u001b[39m=\u001b[39;49mrequest\u001b[39m.\u001b[39;49mmethod,\n\u001b[1;32m    <a href='file:///anaconda/envs/azureml_py310_sdkv2/lib/python3.10/site-packages/requests/adapters.py?line=490'>491</a>\u001b[0m             url\u001b[39m=\u001b[39;49murl,\n\u001b[1;32m    <a href='file:///anaconda/envs/azureml_py310_sdkv2/lib/python3.10/site-packages/requests/adapters.py?line=491'>492</a>\u001b[0m             body\u001b[39m=\u001b[39;49mrequest\u001b[39m.\u001b[39;49mbody,\n\u001b[1;32m    <a href='file:///anaconda/envs/azureml_py310_sdkv2/lib/python3.10/site-packages/requests/adapters.py?line=492'>493</a>\u001b[0m             headers\u001b[39m=\u001b[39;49mrequest\u001b[39m.\u001b[39;49mheaders,\n\u001b[1;32m    <a href='file:///anaconda/envs/azureml_py310_sdkv2/lib/python3.10/site-packages/requests/adapters.py?line=493'>494</a>\u001b[0m             redirect\u001b[39m=\u001b[39;49m\u001b[39mFalse\u001b[39;49;00m,\n\u001b[1;32m    <a href='file:///anaconda/envs/azureml_py310_sdkv2/lib/python3.10/site-packages/requests/adapters.py?line=494'>495</a>\u001b[0m             assert_same_host\u001b[39m=\u001b[39;49m\u001b[39mFalse\u001b[39;49;00m,\n\u001b[1;32m    <a href='file:///anaconda/envs/azureml_py310_sdkv2/lib/python3.10/site-packages/requests/adapters.py?line=495'>496</a>\u001b[0m             preload_content\u001b[39m=\u001b[39;49m\u001b[39mFalse\u001b[39;49;00m,\n\u001b[1;32m    <a href='file:///anaconda/envs/azureml_py310_sdkv2/lib/python3.10/site-packages/requests/adapters.py?line=496'>497</a>\u001b[0m             decode_content\u001b[39m=\u001b[39;49m\u001b[39mFalse\u001b[39;49;00m,\n\u001b[1;32m    <a href='file:///anaconda/envs/azureml_py310_sdkv2/lib/python3.10/site-packages/requests/adapters.py?line=497'>498</a>\u001b[0m             retries\u001b[39m=\u001b[39;49m\u001b[39mself\u001b[39;49m\u001b[39m.\u001b[39;49mmax_retries,\n\u001b[1;32m    <a href='file:///anaconda/envs/azureml_py310_sdkv2/lib/python3.10/site-packages/requests/adapters.py?line=498'>499</a>\u001b[0m             timeout\u001b[39m=\u001b[39;49mtimeout,\n\u001b[1;32m    <a href='file:///anaconda/envs/azureml_py310_sdkv2/lib/python3.10/site-packages/requests/adapters.py?line=499'>500</a>\u001b[0m         )\n\u001b[1;32m    <a href='file:///anaconda/envs/azureml_py310_sdkv2/lib/python3.10/site-packages/requests/adapters.py?line=501'>502</a>\u001b[0m     \u001b[39m# Send the request.\u001b[39;00m\n\u001b[1;32m    <a href='file:///anaconda/envs/azureml_py310_sdkv2/lib/python3.10/site-packages/requests/adapters.py?line=502'>503</a>\u001b[0m     \u001b[39melse\u001b[39;00m:\n\u001b[1;32m    <a href='file:///anaconda/envs/azureml_py310_sdkv2/lib/python3.10/site-packages/requests/adapters.py?line=503'>504</a>\u001b[0m         \u001b[39mif\u001b[39;00m \u001b[39mhasattr\u001b[39m(conn, \u001b[39m\"\u001b[39m\u001b[39mproxy_pool\u001b[39m\u001b[39m\"\u001b[39m):\n",
            "File \u001b[0;32m/anaconda/envs/azureml_py310_sdkv2/lib/python3.10/site-packages/urllib3/connectionpool.py:703\u001b[0m, in \u001b[0;36mHTTPConnectionPool.urlopen\u001b[0;34m(self, method, url, body, headers, retries, redirect, assert_same_host, timeout, pool_timeout, release_conn, chunked, body_pos, **response_kw)\u001b[0m\n\u001b[1;32m    <a href='file:///anaconda/envs/azureml_py310_sdkv2/lib/python3.10/site-packages/urllib3/connectionpool.py?line=699'>700</a>\u001b[0m     \u001b[39mself\u001b[39m\u001b[39m.\u001b[39m_prepare_proxy(conn)\n\u001b[1;32m    <a href='file:///anaconda/envs/azureml_py310_sdkv2/lib/python3.10/site-packages/urllib3/connectionpool.py?line=701'>702</a>\u001b[0m \u001b[39m# Make the request on the httplib connection object.\u001b[39;00m\n\u001b[0;32m--> <a href='file:///anaconda/envs/azureml_py310_sdkv2/lib/python3.10/site-packages/urllib3/connectionpool.py?line=702'>703</a>\u001b[0m httplib_response \u001b[39m=\u001b[39m \u001b[39mself\u001b[39;49m\u001b[39m.\u001b[39;49m_make_request(\n\u001b[1;32m    <a href='file:///anaconda/envs/azureml_py310_sdkv2/lib/python3.10/site-packages/urllib3/connectionpool.py?line=703'>704</a>\u001b[0m     conn,\n\u001b[1;32m    <a href='file:///anaconda/envs/azureml_py310_sdkv2/lib/python3.10/site-packages/urllib3/connectionpool.py?line=704'>705</a>\u001b[0m     method,\n\u001b[1;32m    <a href='file:///anaconda/envs/azureml_py310_sdkv2/lib/python3.10/site-packages/urllib3/connectionpool.py?line=705'>706</a>\u001b[0m     url,\n\u001b[1;32m    <a href='file:///anaconda/envs/azureml_py310_sdkv2/lib/python3.10/site-packages/urllib3/connectionpool.py?line=706'>707</a>\u001b[0m     timeout\u001b[39m=\u001b[39;49mtimeout_obj,\n\u001b[1;32m    <a href='file:///anaconda/envs/azureml_py310_sdkv2/lib/python3.10/site-packages/urllib3/connectionpool.py?line=707'>708</a>\u001b[0m     body\u001b[39m=\u001b[39;49mbody,\n\u001b[1;32m    <a href='file:///anaconda/envs/azureml_py310_sdkv2/lib/python3.10/site-packages/urllib3/connectionpool.py?line=708'>709</a>\u001b[0m     headers\u001b[39m=\u001b[39;49mheaders,\n\u001b[1;32m    <a href='file:///anaconda/envs/azureml_py310_sdkv2/lib/python3.10/site-packages/urllib3/connectionpool.py?line=709'>710</a>\u001b[0m     chunked\u001b[39m=\u001b[39;49mchunked,\n\u001b[1;32m    <a href='file:///anaconda/envs/azureml_py310_sdkv2/lib/python3.10/site-packages/urllib3/connectionpool.py?line=710'>711</a>\u001b[0m )\n\u001b[1;32m    <a href='file:///anaconda/envs/azureml_py310_sdkv2/lib/python3.10/site-packages/urllib3/connectionpool.py?line=712'>713</a>\u001b[0m \u001b[39m# If we're going to release the connection in ``finally:``, then\u001b[39;00m\n\u001b[1;32m    <a href='file:///anaconda/envs/azureml_py310_sdkv2/lib/python3.10/site-packages/urllib3/connectionpool.py?line=713'>714</a>\u001b[0m \u001b[39m# the response doesn't need to know about the connection. Otherwise\u001b[39;00m\n\u001b[1;32m    <a href='file:///anaconda/envs/azureml_py310_sdkv2/lib/python3.10/site-packages/urllib3/connectionpool.py?line=714'>715</a>\u001b[0m \u001b[39m# it will also try to release it and we'll have a double-release\u001b[39;00m\n\u001b[1;32m    <a href='file:///anaconda/envs/azureml_py310_sdkv2/lib/python3.10/site-packages/urllib3/connectionpool.py?line=715'>716</a>\u001b[0m \u001b[39m# mess.\u001b[39;00m\n\u001b[1;32m    <a href='file:///anaconda/envs/azureml_py310_sdkv2/lib/python3.10/site-packages/urllib3/connectionpool.py?line=716'>717</a>\u001b[0m response_conn \u001b[39m=\u001b[39m conn \u001b[39mif\u001b[39;00m \u001b[39mnot\u001b[39;00m release_conn \u001b[39melse\u001b[39;00m \u001b[39mNone\u001b[39;00m\n",
            "File \u001b[0;32m/anaconda/envs/azureml_py310_sdkv2/lib/python3.10/site-packages/urllib3/connectionpool.py:449\u001b[0m, in \u001b[0;36mHTTPConnectionPool._make_request\u001b[0;34m(self, conn, method, url, timeout, chunked, **httplib_request_kw)\u001b[0m\n\u001b[1;32m    <a href='file:///anaconda/envs/azureml_py310_sdkv2/lib/python3.10/site-packages/urllib3/connectionpool.py?line=443'>444</a>\u001b[0m             httplib_response \u001b[39m=\u001b[39m conn\u001b[39m.\u001b[39mgetresponse()\n\u001b[1;32m    <a href='file:///anaconda/envs/azureml_py310_sdkv2/lib/python3.10/site-packages/urllib3/connectionpool.py?line=444'>445</a>\u001b[0m         \u001b[39mexcept\u001b[39;00m \u001b[39mBaseException\u001b[39;00m \u001b[39mas\u001b[39;00m e:\n\u001b[1;32m    <a href='file:///anaconda/envs/azureml_py310_sdkv2/lib/python3.10/site-packages/urllib3/connectionpool.py?line=445'>446</a>\u001b[0m             \u001b[39m# Remove the TypeError from the exception chain in\u001b[39;00m\n\u001b[1;32m    <a href='file:///anaconda/envs/azureml_py310_sdkv2/lib/python3.10/site-packages/urllib3/connectionpool.py?line=446'>447</a>\u001b[0m             \u001b[39m# Python 3 (including for exceptions like SystemExit).\u001b[39;00m\n\u001b[1;32m    <a href='file:///anaconda/envs/azureml_py310_sdkv2/lib/python3.10/site-packages/urllib3/connectionpool.py?line=447'>448</a>\u001b[0m             \u001b[39m# Otherwise it looks like a bug in the code.\u001b[39;00m\n\u001b[0;32m--> <a href='file:///anaconda/envs/azureml_py310_sdkv2/lib/python3.10/site-packages/urllib3/connectionpool.py?line=448'>449</a>\u001b[0m             six\u001b[39m.\u001b[39;49mraise_from(e, \u001b[39mNone\u001b[39;49;00m)\n\u001b[1;32m    <a href='file:///anaconda/envs/azureml_py310_sdkv2/lib/python3.10/site-packages/urllib3/connectionpool.py?line=449'>450</a>\u001b[0m \u001b[39mexcept\u001b[39;00m (SocketTimeout, BaseSSLError, SocketError) \u001b[39mas\u001b[39;00m e:\n\u001b[1;32m    <a href='file:///anaconda/envs/azureml_py310_sdkv2/lib/python3.10/site-packages/urllib3/connectionpool.py?line=450'>451</a>\u001b[0m     \u001b[39mself\u001b[39m\u001b[39m.\u001b[39m_raise_timeout(err\u001b[39m=\u001b[39me, url\u001b[39m=\u001b[39murl, timeout_value\u001b[39m=\u001b[39mread_timeout)\n",
            "File \u001b[0;32m<string>:3\u001b[0m, in \u001b[0;36mraise_from\u001b[0;34m(value, from_value)\u001b[0m\n",
            "File \u001b[0;32m/anaconda/envs/azureml_py310_sdkv2/lib/python3.10/site-packages/urllib3/connectionpool.py:444\u001b[0m, in \u001b[0;36mHTTPConnectionPool._make_request\u001b[0;34m(self, conn, method, url, timeout, chunked, **httplib_request_kw)\u001b[0m\n\u001b[1;32m    <a href='file:///anaconda/envs/azureml_py310_sdkv2/lib/python3.10/site-packages/urllib3/connectionpool.py?line=440'>441</a>\u001b[0m \u001b[39mexcept\u001b[39;00m \u001b[39mTypeError\u001b[39;00m:\n\u001b[1;32m    <a href='file:///anaconda/envs/azureml_py310_sdkv2/lib/python3.10/site-packages/urllib3/connectionpool.py?line=441'>442</a>\u001b[0m     \u001b[39m# Python 3\u001b[39;00m\n\u001b[1;32m    <a href='file:///anaconda/envs/azureml_py310_sdkv2/lib/python3.10/site-packages/urllib3/connectionpool.py?line=442'>443</a>\u001b[0m     \u001b[39mtry\u001b[39;00m:\n\u001b[0;32m--> <a href='file:///anaconda/envs/azureml_py310_sdkv2/lib/python3.10/site-packages/urllib3/connectionpool.py?line=443'>444</a>\u001b[0m         httplib_response \u001b[39m=\u001b[39m conn\u001b[39m.\u001b[39;49mgetresponse()\n\u001b[1;32m    <a href='file:///anaconda/envs/azureml_py310_sdkv2/lib/python3.10/site-packages/urllib3/connectionpool.py?line=444'>445</a>\u001b[0m     \u001b[39mexcept\u001b[39;00m \u001b[39mBaseException\u001b[39;00m \u001b[39mas\u001b[39;00m e:\n\u001b[1;32m    <a href='file:///anaconda/envs/azureml_py310_sdkv2/lib/python3.10/site-packages/urllib3/connectionpool.py?line=445'>446</a>\u001b[0m         \u001b[39m# Remove the TypeError from the exception chain in\u001b[39;00m\n\u001b[1;32m    <a href='file:///anaconda/envs/azureml_py310_sdkv2/lib/python3.10/site-packages/urllib3/connectionpool.py?line=446'>447</a>\u001b[0m         \u001b[39m# Python 3 (including for exceptions like SystemExit).\u001b[39;00m\n\u001b[1;32m    <a href='file:///anaconda/envs/azureml_py310_sdkv2/lib/python3.10/site-packages/urllib3/connectionpool.py?line=447'>448</a>\u001b[0m         \u001b[39m# Otherwise it looks like a bug in the code.\u001b[39;00m\n\u001b[1;32m    <a href='file:///anaconda/envs/azureml_py310_sdkv2/lib/python3.10/site-packages/urllib3/connectionpool.py?line=448'>449</a>\u001b[0m         six\u001b[39m.\u001b[39mraise_from(e, \u001b[39mNone\u001b[39;00m)\n",
            "File \u001b[0;32m/anaconda/envs/azureml_py310_sdkv2/lib/python3.10/http/client.py:1374\u001b[0m, in \u001b[0;36mHTTPConnection.getresponse\u001b[0;34m(self)\u001b[0m\n\u001b[1;32m   <a href='file:///anaconda/envs/azureml_py310_sdkv2/lib/python3.10/http/client.py?line=1371'>1372</a>\u001b[0m \u001b[39mtry\u001b[39;00m:\n\u001b[1;32m   <a href='file:///anaconda/envs/azureml_py310_sdkv2/lib/python3.10/http/client.py?line=1372'>1373</a>\u001b[0m     \u001b[39mtry\u001b[39;00m:\n\u001b[0;32m-> <a href='file:///anaconda/envs/azureml_py310_sdkv2/lib/python3.10/http/client.py?line=1373'>1374</a>\u001b[0m         response\u001b[39m.\u001b[39;49mbegin()\n\u001b[1;32m   <a href='file:///anaconda/envs/azureml_py310_sdkv2/lib/python3.10/http/client.py?line=1374'>1375</a>\u001b[0m     \u001b[39mexcept\u001b[39;00m \u001b[39mConnectionError\u001b[39;00m:\n\u001b[1;32m   <a href='file:///anaconda/envs/azureml_py310_sdkv2/lib/python3.10/http/client.py?line=1375'>1376</a>\u001b[0m         \u001b[39mself\u001b[39m\u001b[39m.\u001b[39mclose()\n",
            "File \u001b[0;32m/anaconda/envs/azureml_py310_sdkv2/lib/python3.10/http/client.py:318\u001b[0m, in \u001b[0;36mHTTPResponse.begin\u001b[0;34m(self)\u001b[0m\n\u001b[1;32m    <a href='file:///anaconda/envs/azureml_py310_sdkv2/lib/python3.10/http/client.py?line=315'>316</a>\u001b[0m \u001b[39m# read until we get a non-100 response\u001b[39;00m\n\u001b[1;32m    <a href='file:///anaconda/envs/azureml_py310_sdkv2/lib/python3.10/http/client.py?line=316'>317</a>\u001b[0m \u001b[39mwhile\u001b[39;00m \u001b[39mTrue\u001b[39;00m:\n\u001b[0;32m--> <a href='file:///anaconda/envs/azureml_py310_sdkv2/lib/python3.10/http/client.py?line=317'>318</a>\u001b[0m     version, status, reason \u001b[39m=\u001b[39m \u001b[39mself\u001b[39;49m\u001b[39m.\u001b[39;49m_read_status()\n\u001b[1;32m    <a href='file:///anaconda/envs/azureml_py310_sdkv2/lib/python3.10/http/client.py?line=318'>319</a>\u001b[0m     \u001b[39mif\u001b[39;00m status \u001b[39m!=\u001b[39m CONTINUE:\n\u001b[1;32m    <a href='file:///anaconda/envs/azureml_py310_sdkv2/lib/python3.10/http/client.py?line=319'>320</a>\u001b[0m         \u001b[39mbreak\u001b[39;00m\n",
            "File \u001b[0;32m/anaconda/envs/azureml_py310_sdkv2/lib/python3.10/http/client.py:279\u001b[0m, in \u001b[0;36mHTTPResponse._read_status\u001b[0;34m(self)\u001b[0m\n\u001b[1;32m    <a href='file:///anaconda/envs/azureml_py310_sdkv2/lib/python3.10/http/client.py?line=277'>278</a>\u001b[0m \u001b[39mdef\u001b[39;00m \u001b[39m_read_status\u001b[39m(\u001b[39mself\u001b[39m):\n\u001b[0;32m--> <a href='file:///anaconda/envs/azureml_py310_sdkv2/lib/python3.10/http/client.py?line=278'>279</a>\u001b[0m     line \u001b[39m=\u001b[39m \u001b[39mstr\u001b[39m(\u001b[39mself\u001b[39;49m\u001b[39m.\u001b[39;49mfp\u001b[39m.\u001b[39;49mreadline(_MAXLINE \u001b[39m+\u001b[39;49m \u001b[39m1\u001b[39;49m), \u001b[39m\"\u001b[39m\u001b[39miso-8859-1\u001b[39m\u001b[39m\"\u001b[39m)\n\u001b[1;32m    <a href='file:///anaconda/envs/azureml_py310_sdkv2/lib/python3.10/http/client.py?line=279'>280</a>\u001b[0m     \u001b[39mif\u001b[39;00m \u001b[39mlen\u001b[39m(line) \u001b[39m>\u001b[39m _MAXLINE:\n\u001b[1;32m    <a href='file:///anaconda/envs/azureml_py310_sdkv2/lib/python3.10/http/client.py?line=280'>281</a>\u001b[0m         \u001b[39mraise\u001b[39;00m LineTooLong(\u001b[39m\"\u001b[39m\u001b[39mstatus line\u001b[39m\u001b[39m\"\u001b[39m)\n",
            "File \u001b[0;32m/anaconda/envs/azureml_py310_sdkv2/lib/python3.10/socket.py:705\u001b[0m, in \u001b[0;36mSocketIO.readinto\u001b[0;34m(self, b)\u001b[0m\n\u001b[1;32m    <a href='file:///anaconda/envs/azureml_py310_sdkv2/lib/python3.10/socket.py?line=702'>703</a>\u001b[0m \u001b[39mwhile\u001b[39;00m \u001b[39mTrue\u001b[39;00m:\n\u001b[1;32m    <a href='file:///anaconda/envs/azureml_py310_sdkv2/lib/python3.10/socket.py?line=703'>704</a>\u001b[0m     \u001b[39mtry\u001b[39;00m:\n\u001b[0;32m--> <a href='file:///anaconda/envs/azureml_py310_sdkv2/lib/python3.10/socket.py?line=704'>705</a>\u001b[0m         \u001b[39mreturn\u001b[39;00m \u001b[39mself\u001b[39;49m\u001b[39m.\u001b[39;49m_sock\u001b[39m.\u001b[39;49mrecv_into(b)\n\u001b[1;32m    <a href='file:///anaconda/envs/azureml_py310_sdkv2/lib/python3.10/socket.py?line=705'>706</a>\u001b[0m     \u001b[39mexcept\u001b[39;00m timeout:\n\u001b[1;32m    <a href='file:///anaconda/envs/azureml_py310_sdkv2/lib/python3.10/socket.py?line=706'>707</a>\u001b[0m         \u001b[39mself\u001b[39m\u001b[39m.\u001b[39m_timeout_occurred \u001b[39m=\u001b[39m \u001b[39mTrue\u001b[39;00m\n",
            "File \u001b[0;32m/anaconda/envs/azureml_py310_sdkv2/lib/python3.10/ssl.py:1274\u001b[0m, in \u001b[0;36mSSLSocket.recv_into\u001b[0;34m(self, buffer, nbytes, flags)\u001b[0m\n\u001b[1;32m   <a href='file:///anaconda/envs/azureml_py310_sdkv2/lib/python3.10/ssl.py?line=1269'>1270</a>\u001b[0m     \u001b[39mif\u001b[39;00m flags \u001b[39m!=\u001b[39m \u001b[39m0\u001b[39m:\n\u001b[1;32m   <a href='file:///anaconda/envs/azureml_py310_sdkv2/lib/python3.10/ssl.py?line=1270'>1271</a>\u001b[0m         \u001b[39mraise\u001b[39;00m \u001b[39mValueError\u001b[39;00m(\n\u001b[1;32m   <a href='file:///anaconda/envs/azureml_py310_sdkv2/lib/python3.10/ssl.py?line=1271'>1272</a>\u001b[0m           \u001b[39m\"\u001b[39m\u001b[39mnon-zero flags not allowed in calls to recv_into() on \u001b[39m\u001b[39m%s\u001b[39;00m\u001b[39m\"\u001b[39m \u001b[39m%\u001b[39m\n\u001b[1;32m   <a href='file:///anaconda/envs/azureml_py310_sdkv2/lib/python3.10/ssl.py?line=1272'>1273</a>\u001b[0m           \u001b[39mself\u001b[39m\u001b[39m.\u001b[39m\u001b[39m__class__\u001b[39m)\n\u001b[0;32m-> <a href='file:///anaconda/envs/azureml_py310_sdkv2/lib/python3.10/ssl.py?line=1273'>1274</a>\u001b[0m     \u001b[39mreturn\u001b[39;00m \u001b[39mself\u001b[39;49m\u001b[39m.\u001b[39;49mread(nbytes, buffer)\n\u001b[1;32m   <a href='file:///anaconda/envs/azureml_py310_sdkv2/lib/python3.10/ssl.py?line=1274'>1275</a>\u001b[0m \u001b[39melse\u001b[39;00m:\n\u001b[1;32m   <a href='file:///anaconda/envs/azureml_py310_sdkv2/lib/python3.10/ssl.py?line=1275'>1276</a>\u001b[0m     \u001b[39mreturn\u001b[39;00m \u001b[39msuper\u001b[39m()\u001b[39m.\u001b[39mrecv_into(buffer, nbytes, flags)\n",
            "File \u001b[0;32m/anaconda/envs/azureml_py310_sdkv2/lib/python3.10/ssl.py:1130\u001b[0m, in \u001b[0;36mSSLSocket.read\u001b[0;34m(self, len, buffer)\u001b[0m\n\u001b[1;32m   <a href='file:///anaconda/envs/azureml_py310_sdkv2/lib/python3.10/ssl.py?line=1127'>1128</a>\u001b[0m \u001b[39mtry\u001b[39;00m:\n\u001b[1;32m   <a href='file:///anaconda/envs/azureml_py310_sdkv2/lib/python3.10/ssl.py?line=1128'>1129</a>\u001b[0m     \u001b[39mif\u001b[39;00m buffer \u001b[39mis\u001b[39;00m \u001b[39mnot\u001b[39;00m \u001b[39mNone\u001b[39;00m:\n\u001b[0;32m-> <a href='file:///anaconda/envs/azureml_py310_sdkv2/lib/python3.10/ssl.py?line=1129'>1130</a>\u001b[0m         \u001b[39mreturn\u001b[39;00m \u001b[39mself\u001b[39;49m\u001b[39m.\u001b[39;49m_sslobj\u001b[39m.\u001b[39;49mread(\u001b[39mlen\u001b[39;49m, buffer)\n\u001b[1;32m   <a href='file:///anaconda/envs/azureml_py310_sdkv2/lib/python3.10/ssl.py?line=1130'>1131</a>\u001b[0m     \u001b[39melse\u001b[39;00m:\n\u001b[1;32m   <a href='file:///anaconda/envs/azureml_py310_sdkv2/lib/python3.10/ssl.py?line=1131'>1132</a>\u001b[0m         \u001b[39mreturn\u001b[39;00m \u001b[39mself\u001b[39m\u001b[39m.\u001b[39m_sslobj\u001b[39m.\u001b[39mread(\u001b[39mlen\u001b[39m)\n",
            "\u001b[0;31mKeyboardInterrupt\u001b[0m: "
          ]
        }
      ],
      "source": [
        "from azure.ai.ml.entities import Environment\n",
        "\n",
        "custom_env_name = \"aml-scikit-learn\"\n",
        "\n",
        "pipeline_job_env = Environment(\n",
        "    name=custom_env_name,\n",
        "    description=\"Custom environment for Credit Card Defaults pipeline\",\n",
        "    tags={\"scikit-learn\": \"0.24.2\"},\n",
        "    conda_file=os.path.join(dependencies_dir, \"conda.yml\"),\n",
        "    image=\"mcr.microsoft.com/azureml/openmpi4.1.0-ubuntu20.04:latest\",\n",
        "    version=\"0.1.0\",\n",
        ")\n",
        "pipeline_job_env = ml_client.environments.create_or_update(pipeline_job_env)\n",
        "\n",
        "print(\n",
        "    f\"Environment with name {pipeline_job_env.name} is registered to workspace, the environment version is {pipeline_job_env.version}\"\n",
        ")"
      ]
    },
    {
      "cell_type": "markdown",
      "metadata": {},
      "source": [
        "## Build the training pipeline\n",
        "\n",
        "Now that you have all assets required to run your pipeline, it's time to build the pipeline itself, using the Azure ML Python SDK v2.\n",
        "\n",
        "Azure ML pipelines are reusable ML workflows that usually consist of several components. The typical life of a component is:\n",
        "\n",
        "* Write the yaml specification of the component.\n",
        "* Optionally, register the component with a name and version in your workspace, to make it reusable and shareable.\n",
        "* Load that component from the pipeline code.\n",
        "* Implement the pipeline using this component inputs, outputs and parameters.\n",
        "* Submit the pipeline.\n",
        "\n",
        "## Create component 1: data prep \n",
        "\n",
        "Let's start by creating the first component. This component handles the preprocessing of the data. The preprocessing task is performed in the *data_prep.py* python file.\n",
        "\n",
        "First create a source folder for the data_prep component:"
      ]
    },
    {
      "cell_type": "code",
      "execution_count": 8,
      "metadata": {
        "attributes": {
          "classes": [
            "Python"
          ],
          "id": ""
        },
        "gather": {
          "logged": 1678198520560
        },
        "name": "data_prep_src_dir"
      },
      "outputs": [],
      "source": [
        "import os\n",
        "\n",
        "data_prep_src_dir = \"./components/data_prep\"\n",
        "os.makedirs(data_prep_src_dir, exist_ok=True)"
      ]
    },
    {
      "cell_type": "markdown",
      "metadata": {},
      "source": [
        "This script performs the simple task of splitting the data into train and test datasets. \n",
        "\n",
        "[MLFlow](https://mlflow.org/docs/latest/tracking.html) will be used to log the parameters and metrics during our pipeline run."
      ]
    },
    {
      "cell_type": "markdown",
      "metadata": {
        "nteract": {
          "transient": {
            "deleting": false
          }
        }
      },
      "source": [
        "## component 1: data_prep.py"
      ]
    },
    {
      "cell_type": "code",
      "execution_count": 9,
      "metadata": {
        "attributes": {
          "classes": [
            "Python"
          ],
          "id": ""
        },
        "name": "def-main"
      },
      "outputs": [
        {
          "name": "stdout",
          "output_type": "stream",
          "text": [
            "Overwriting ./components/data_prep/data_prep.py\n"
          ]
        }
      ],
      "source": [
        "%%writefile {data_prep_src_dir}/data_prep.py\n",
        "import os\n",
        "import argparse\n",
        "import pandas as pd\n",
        "from sklearn.model_selection import train_test_split\n",
        "import logging\n",
        "import mlflow\n",
        "\n",
        "\n",
        "def main():\n",
        "    \"\"\"Main function of the script.\"\"\"\n",
        "\n",
        "    # input and output arguments\n",
        "    parser = argparse.ArgumentParser()\n",
        "    parser.add_argument(\"--data\", type=str, help=\"path to input data\")\n",
        "    parser.add_argument(\"--test_train_ratio\", type=float, required=False, default=0.25)\n",
        "    parser.add_argument(\"--train_data\", type=str, help=\"path to train data\")\n",
        "    parser.add_argument(\"--test_data\", type=str, help=\"path to test data\")\n",
        "    args = parser.parse_args()\n",
        "\n",
        "    # Start Logging\n",
        "    mlflow.start_run()\n",
        "\n",
        "    print(\" \".join(f\"{k}={v}\" for k, v in vars(args).items()))\n",
        "\n",
        "    print(\"input data:\", args.data)\n",
        "\n",
        "    credit_df = pd.read_excel(args.data, header=1, index_col=0)\n",
        "\n",
        "    mlflow.log_metric(\"num_samples\", credit_df.shape[0])\n",
        "    mlflow.log_metric(\"num_features\", credit_df.shape[1] - 1)\n",
        "\n",
        "    credit_train_df, credit_test_df = train_test_split(\n",
        "        credit_df,\n",
        "        test_size=args.test_train_ratio,\n",
        "    )\n",
        "\n",
        "    # output paths are mounted as folder, therefore, we are adding a filename to the path\n",
        "    credit_train_df.to_csv(os.path.join(args.train_data, \"data.csv\"), index=False)\n",
        "\n",
        "    credit_test_df.to_csv(os.path.join(args.test_data, \"data.csv\"), index=False)\n",
        "\n",
        "    # Stop Logging\n",
        "    mlflow.end_run()\n",
        "\n",
        "\n",
        "if __name__ == \"__main__\":\n",
        "    main()"
      ]
    },
    {
      "cell_type": "markdown",
      "metadata": {},
      "source": [
        "Now that you have a script that can perform the desired task, we can create an Azure ML Component from it. Azure ML support various types of components for performing ML tasks, such as running scripts, data transfer, etc.\n",
        "\n",
        "A component can be created by calling the component instantiators, or directly writing the defining yaml file. \n",
        "\n",
        "You'll use the general purpose **command** that can run command line actions. This command line action can be directly calling system commands or running a script. The inputs/outputs are accessible in the command via the `${{ ... }}` notation. For the second component of this tutorial you will use `yaml` definitions.\n"
      ]
    },
    {
      "cell_type": "code",
      "execution_count": 54,
      "metadata": {
        "gather": {
          "logged": 1678198527609
        },
        "jupyter": {
          "outputs_hidden": false,
          "source_hidden": false
        },
        "nteract": {
          "transient": {
            "deleting": false
          }
        }
      },
      "outputs": [],
      "source": [
        "# importing the Component Package\n",
        "from azure.ai.ml import load_component\n",
        "\n",
        "# Loading the component from the yml file\n",
        "data_prep_component = load_component(source=os.path.join(data_prep_src_dir, \"data_prep.yml\"))"
      ]
    },
    {
      "cell_type": "markdown",
      "metadata": {},
      "source": [
        "## register the component to the workspace (option)"
      ]
    },
    {
      "cell_type": "code",
      "execution_count": 55,
      "metadata": {
        "gather": {
          "logged": 1678198533181
        },
        "jupyter": {
          "outputs_hidden": false,
          "source_hidden": false
        },
        "nteract": {
          "transient": {
            "deleting": false
          }
        }
      },
      "outputs": [
        {
          "name": "stdout",
          "output_type": "stream",
          "text": [
            "Component data_prep_credit_defaults with Version 2023-03-08-07-35-01-1217626 is registered\n"
          ]
        }
      ],
      "source": [
        "# Now we register the component to the workspace\n",
        "data_prep_component = ml_client.create_or_update(data_prep_component)\n",
        "\n",
        "# Create (register) the component in your workspace\n",
        "print(\n",
        "    f\"Component {data_prep_component.name} with Version {data_prep_component.version} is registered\"\n",
        ")"
      ]
    },
    {
      "cell_type": "markdown",
      "metadata": {
        "nteract": {
          "transient": {
            "deleting": false
          }
        }
      },
      "source": [
        "## component 1: command 설정 (programming 설정)"
      ]
    },
    {
      "cell_type": "code",
      "execution_count": 89,
      "metadata": {
        "gather": {
          "logged": 1678182218566
        },
        "name": "data_prep_component"
      },
      "outputs": [],
      "source": [
        "# from azure.ai.ml import command\n",
        "# from azure.ai.ml import Input, Output\n",
        "\n",
        "# data_prep_component = command(\n",
        "#     name=\"data_prep_credit_defaults\",\n",
        "#     display_name=\"Data preparation for training\",\n",
        "#     description=\"reads a .xl input, split the input to train and test\",\n",
        "#     inputs={\n",
        "#         \"data\": Input(type=\"uri_folder\"),\n",
        "#         \"test_train_ratio\": Input(type=\"number\"),\n",
        "#     },\n",
        "#     outputs=dict(\n",
        "#         train_data=Output(type=\"uri_folder\", mode=\"rw_mount\"),\n",
        "#         test_data=Output(type=\"uri_folder\", mode=\"rw_mount\"),\n",
        "#     ),\n",
        "#     # The source folder of the component\n",
        "#     code=data_prep_src_dir,\n",
        "#     command=\"\"\"python data_prep.py \\\n",
        "#             --data ${{inputs.data}} --test_train_ratio ${{inputs.test_train_ratio}} \\\n",
        "#             --train_data ${{outputs.train_data}} --test_data ${{outputs.test_data}} \\\n",
        "#             \"\"\",\n",
        "#     environment=f\"{pipeline_job_env.name}:{pipeline_job_env.version}\",\n",
        "# )"
      ]
    },
    {
      "cell_type": "markdown",
      "metadata": {
        "nteract": {
          "transient": {
            "deleting": false
          }
        }
      },
      "source": [
        "Optionally, register the component in the workspace for future re-use. **command()** is a component builder, in order to fetch the component itself, we need to call the **.component** property from it."
      ]
    },
    {
      "cell_type": "code",
      "execution_count": 90,
      "metadata": {
        "gather": {
          "logged": 1678182220376
        }
      },
      "outputs": [
        {
          "name": "stdout",
          "output_type": "stream",
          "text": [
            "Component data_prep_credit_defaults with Version 2023-03-07-09-43-39-1746682 is registered\n"
          ]
        }
      ],
      "source": [
        "# # Now we register the component to the workspace\n",
        "# data_prep_component = ml_client.create_or_update(data_prep_component.component)\n",
        "\n",
        "# # Create (register) the component in your workspace\n",
        "# print(\n",
        "#     f\"Component {data_prep_component.name} with Version {data_prep_component.version} is registered\"\n",
        "# )"
      ]
    },
    {
      "cell_type": "markdown",
      "metadata": {},
      "source": [
        "## Create component 2: training (using yaml definition)\n",
        "\n",
        "The second component that you'll create will consume the training and test data, train a tree based model and return the output model. You'll use Azure ML logging capabilities to record and visualize the learning progress.\n",
        "\n",
        "You used the `command` class to create your first component. This time you'll use the yaml definition to define the second component. Each method has its own advantages. A yaml definition can actually be checked-in along the code, and would provide a readable history tracking. Also, the same yaml file can be used in the CLI for component deficnition. The programmatic method using `command` can be easier with built-in class documentation and code completion.\n",
        "\n",
        "\n",
        "Create the directory for this component:"
      ]
    },
    {
      "cell_type": "code",
      "execution_count": 56,
      "metadata": {
        "attributes": {
          "classes": [
            "Python"
          ],
          "id": ""
        },
        "gather": {
          "logged": 1678198539079
        },
        "name": "train_src_dir"
      },
      "outputs": [],
      "source": [
        "import os\n",
        "\n",
        "train_src_dir = \"./components/train\"\n",
        "os.makedirs(train_src_dir, exist_ok=True)"
      ]
    },
    {
      "cell_type": "markdown",
      "metadata": {},
      "source": [
        "Create the training script in the directory:"
      ]
    },
    {
      "cell_type": "code",
      "execution_count": 57,
      "metadata": {
        "attributes": {
          "classes": [
            "Python"
          ],
          "id": ""
        },
        "name": "train.py"
      },
      "outputs": [
        {
          "name": "stdout",
          "output_type": "stream",
          "text": [
            "Overwriting ./components/train/train.py\n"
          ]
        }
      ],
      "source": [
        "%%writefile {train_src_dir}/train.py\n",
        "import argparse\n",
        "from sklearn.ensemble import GradientBoostingClassifier\n",
        "from sklearn.metrics import classification_report\n",
        "import os\n",
        "import pandas as pd\n",
        "import mlflow\n",
        "\n",
        "\n",
        "def select_first_file(path):\n",
        "    \"\"\"Selects first file in folder, use under assumption there is only one file in folder\n",
        "    Args:\n",
        "        path (str): path to directory or file to choose\n",
        "    Returns:\n",
        "        str: full path of selected file\n",
        "    \"\"\"\n",
        "    files = os.listdir(path)\n",
        "    return os.path.join(path, files[0])\n",
        "\n",
        "\n",
        "# Start Logging\n",
        "mlflow.start_run()\n",
        "\n",
        "# enable autologging\n",
        "mlflow.sklearn.autolog()\n",
        "\n",
        "os.makedirs(\"./outputs\", exist_ok=True)\n",
        "\n",
        "\n",
        "def main():\n",
        "    \"\"\"Main function of the script.\"\"\"\n",
        "\n",
        "    # input and output arguments\n",
        "    parser = argparse.ArgumentParser()\n",
        "    parser.add_argument(\"--train_data\", type=str, help=\"path to train data\")\n",
        "    parser.add_argument(\"--test_data\", type=str, help=\"path to test data\")\n",
        "    parser.add_argument(\"--n_estimators\", required=False, default=100, type=int)\n",
        "    parser.add_argument(\"--learning_rate\", required=False, default=0.1, type=float)\n",
        "    parser.add_argument(\"--registered_model_name\", type=str, help=\"model name\")\n",
        "    parser.add_argument(\"--model\", type=str, help=\"path to model file\")\n",
        "    args = parser.parse_args()\n",
        "\n",
        "    # paths are mounted as folder, therefore, we are selecting the file from folder\n",
        "    train_df = pd.read_csv(select_first_file(args.train_data))\n",
        "\n",
        "    # Extracting the label column\n",
        "    y_train = train_df.pop(\"default payment next month\")\n",
        "\n",
        "    # convert the dataframe values to array\n",
        "    X_train = train_df.values\n",
        "\n",
        "    # paths are mounted as folder, therefore, we are selecting the file from folder\n",
        "    test_df = pd.read_csv(select_first_file(args.test_data))\n",
        "\n",
        "    # Extracting the label column\n",
        "    y_test = test_df.pop(\"default payment next month\")\n",
        "\n",
        "    # convert the dataframe values to array\n",
        "    X_test = test_df.values\n",
        "\n",
        "    print(f\"Training with data of shape {X_train.shape}\")\n",
        "\n",
        "    clf = GradientBoostingClassifier(\n",
        "        n_estimators=args.n_estimators, learning_rate=args.learning_rate\n",
        "    )\n",
        "    clf.fit(X_train, y_train)\n",
        "\n",
        "    y_pred = clf.predict(X_test)\n",
        "\n",
        "    print(classification_report(y_test, y_pred))\n",
        "\n",
        "    # # Registering the model to the workspace\n",
        "    # print(\"Registering the model via MLFlow\")\n",
        "    # mlflow.sklearn.log_model(\n",
        "    #     sk_model=clf,\n",
        "    #     registered_model_name=args.registered_model_name,\n",
        "    #     artifact_path=args.registered_model_name,\n",
        "    # )\n",
        "\n",
        "    # Saving the model to a file\n",
        "    # mlflow.sklearn.save_model(clf, args.model)\n",
        "    mlflow.sklearn.save_model(\n",
        "        sk_model=clf,\n",
        "        path=os.path.join(args.model, \"trained_model\"),\n",
        "    )\n",
        "\n",
        "    # Stop Logging\n",
        "    mlflow.end_run()\n",
        "\n",
        "\n",
        "if __name__ == \"__main__\":\n",
        "    main()"
      ]
    },
    {
      "cell_type": "markdown",
      "metadata": {},
      "source": [
        "As you can see in this training script, once the model is trained, the model file is saved and registered to the workspace. Now you can use the registered model in inferencing endpoints.\n",
        "\n",
        "\n",
        "For the environment of this step, you'll use one of the built-in (curated) Azure ML environments. The tag `azureml`, tells the system to use look for the name in curated environments.\n",
        "\n",
        "First, create the *yaml* file describing the component:"
      ]
    },
    {
      "cell_type": "code",
      "execution_count": 58,
      "metadata": {
        "attributes": {
          "classes": [
            "Python"
          ],
          "id": ""
        },
        "name": "train.yml"
      },
      "outputs": [
        {
          "name": "stdout",
          "output_type": "stream",
          "text": [
            "Overwriting ./components/train/train.yml\n"
          ]
        }
      ],
      "source": [
        "%%writefile {train_src_dir}/train.yml\n",
        "# <component>\n",
        "name: train_credit_defaults_model\n",
        "display_name: Train Credit Defaults Model\n",
        "# version: 1 # Not specifying a version will automatically update the version\n",
        "type: command\n",
        "inputs:\n",
        "  train_data: \n",
        "    type: uri_folder\n",
        "  test_data: \n",
        "    type: uri_folder\n",
        "  learning_rate:\n",
        "    type: number     \n",
        "  registered_model_name:\n",
        "    type: string\n",
        "outputs:\n",
        "  model:\n",
        "    type: uri_folder\n",
        "code: .\n",
        "environment:\n",
        "  # for this step, we'll use an AzureML curate environment\n",
        "  azureml:AzureML-sklearn-1.0-ubuntu20.04-py38-cpu:1\n",
        "command: >-\n",
        "  python train.py \n",
        "  --train_data ${{inputs.train_data}} \n",
        "  --test_data ${{inputs.test_data}} \n",
        "  --learning_rate ${{inputs.learning_rate}}\n",
        "  --registered_model_name ${{inputs.registered_model_name}} \n",
        "  --model ${{outputs.model}}\n",
        "# </component>\n"
      ]
    },
    {
      "cell_type": "markdown",
      "metadata": {},
      "source": [
        "Once the `yaml` file and the script are ready, you can create your component using `load_component()`. "
      ]
    },
    {
      "cell_type": "code",
      "execution_count": 59,
      "metadata": {
        "attributes": {
          "classes": [
            "Python"
          ],
          "id": ""
        },
        "gather": {
          "logged": 1678198550784
        },
        "name": "train_component"
      },
      "outputs": [],
      "source": [
        "# importing the Component Package\n",
        "from azure.ai.ml import load_component\n",
        "\n",
        "# Loading the component from the yml file\n",
        "train_component = load_component(source=os.path.join(train_src_dir, \"train.yml\"))"
      ]
    },
    {
      "cell_type": "markdown",
      "metadata": {},
      "source": [
        "## now create and register the component:(option)"
      ]
    },
    {
      "cell_type": "code",
      "execution_count": 16,
      "metadata": {
        "attributes": {
          "classes": [
            "Python"
          ],
          "id": ""
        },
        "gather": {
          "logged": 1678198554694
        },
        "name": "update-train_component"
      },
      "outputs": [
        {
          "name": "stdout",
          "output_type": "stream",
          "text": [
            "Component train_credit_defaults_model with Version 2023-03-07-14-15-54-0513027 is registered\n"
          ]
        }
      ],
      "source": [
        "# Now we register the component to the workspace\n",
        "train_component = ml_client.create_or_update(train_component)\n",
        "\n",
        "# Create (register) the component in your workspace\n",
        "print(\n",
        "    f\"Component {train_component.name} with Version {train_component.version} is registered\"\n",
        ")"
      ]
    },
    {
      "cell_type": "markdown",
      "metadata": {
        "nteract": {
          "transient": {
            "deleting": false
          }
        }
      },
      "source": [
        "## Create component 3: Scoring (using yaml definition)\n"
      ]
    },
    {
      "cell_type": "code",
      "execution_count": 60,
      "metadata": {
        "gather": {
          "logged": 1678198559443
        },
        "jupyter": {
          "outputs_hidden": false,
          "source_hidden": false
        },
        "nteract": {
          "transient": {
            "deleting": false
          }
        }
      },
      "outputs": [],
      "source": [
        "import os\n",
        "\n",
        "score_src_dir = \"./components/score\"\n",
        "os.makedirs(score_src_dir, exist_ok=True)"
      ]
    },
    {
      "cell_type": "code",
      "execution_count": 67,
      "metadata": {
        "jupyter": {
          "outputs_hidden": false,
          "source_hidden": false
        },
        "nteract": {
          "transient": {
            "deleting": false
          }
        }
      },
      "outputs": [
        {
          "name": "stdout",
          "output_type": "stream",
          "text": [
            "Overwriting ./components/score/score.py\n"
          ]
        }
      ],
      "source": [
        "%%writefile {score_src_dir}/score.py\n",
        "import argparse\n",
        "from pathlib import Path\n",
        "from sklearn.metrics import classification_report,mean_squared_error, r2_score\n",
        "import os\n",
        "import mlflow\n",
        "import pandas as pd\n",
        "\n",
        "mlflow.sklearn.autolog()\n",
        "\n",
        "parser = argparse.ArgumentParser(\"score\")\n",
        "parser.add_argument(\"--model_input\", type=str, help=\"Path of input model\")\n",
        "parser.add_argument(\"--test_data\", type=str, help=\"Path to test data\")\n",
        "parser.add_argument(\"--score_output\", type=str, help=\"Path of scoring output\")\n",
        "\n",
        "args = parser.parse_args()\n",
        "\n",
        "print(\"hello scoring world...\")\n",
        "\n",
        "lines = [\n",
        "    f\"Model path: {args.model_input}\",\n",
        "    f\"Test data path: {args.test_data}\",\n",
        "    f\"Scoring output path: {args.score_output}\",\n",
        "]\n",
        "\n",
        "for line in lines:\n",
        "    print(line)\n",
        "\n",
        "# Load the model from input port 4\n",
        "pathmodel = os.path.join(args.model_input, \"trained_model\")\n",
        "model = mlflow.sklearn.load_model(pathmodel)\n",
        "\n",
        "# testfiles = os.listdir(args.test_data)\n",
        "# os.path.join(args.test_data, testfiles[0])\n",
        "# paths are mounted as folder, therefore, we are selecting the file from folder\n",
        "test_df = pd.read_excel(args.test_data, header=1, index_col=0)\n",
        "# test_df = pd.read_csv(os.path.join(args.test_data, testfiles[0]))\n",
        "\n",
        "# Extracting the label column\n",
        "y_test = test_df.pop(\"default payment next month\")\n",
        "\n",
        "# convert the dataframe values to array\n",
        "X_test = test_df.values\n",
        "\n",
        "y_pred = model.predict(X_test)\n",
        "\n",
        "# The mean squared error\n",
        "print(\"Mean squared error: %.2f\" % mean_squared_error(y_test, y_pred))\n",
        "# The coefficient of determination: 1 is perfect prediction\n",
        "print(\"Coefficient of determination: %.2f\" % r2_score(y_test, y_pred))\n",
        "print(\"Model: \", model)\n",
        "\n",
        "# Print the results of scoring the predictions against actual values in the test data\n",
        "# The coefficients\n",
        "# print(\"Coefficients: \\n\", model)\n",
        "\n",
        "# # Load the model from input port\n",
        "# # Here only print the model as text since it is a dummy one\n",
        "# model = (Path(args.model_input) / \"model.txt\").read_text()\n",
        "# print(\"Model: \", model)\n",
        "\n",
        "# # Do scoring with the input model\n",
        "# # Here only print text to output file as demo\n",
        "(Path(args.score_output) / \"score.txt\").write_text(\n",
        "    \"Scored with the following mode:\\n{}\".format(model)\n",
        ")\n"
      ]
    },
    {
      "cell_type": "code",
      "execution_count": 62,
      "metadata": {
        "jupyter": {
          "outputs_hidden": false,
          "source_hidden": false
        },
        "nteract": {
          "transient": {
            "deleting": false
          }
        }
      },
      "outputs": [
        {
          "name": "stdout",
          "output_type": "stream",
          "text": [
            "Overwriting ./components/score/score.yml\n"
          ]
        }
      ],
      "source": [
        "%%writefile {score_src_dir}/score.yml\n",
        "type: command\n",
        "\n",
        "name: score_data\n",
        "display_name: Score Data\n",
        "description: A dummy scoring component\n",
        "\n",
        "inputs:\n",
        "  model_input:\n",
        "    type: uri_folder\n",
        "  test_data:\n",
        "    type: uri_folder\n",
        "outputs:\n",
        "  score_output:\n",
        "    type: uri_folder\n",
        "environment: azureml:AzureML-sklearn-1.0-ubuntu20.04-py38-cpu:1\n",
        "code: .\n",
        "command: >-\n",
        "  python score.py \n",
        "  --model_input ${{inputs.model_input}} \n",
        "  --test_data ${{inputs.test_data}}\n",
        "  --score_output ${{outputs.score_output}}\n"
      ]
    },
    {
      "cell_type": "code",
      "execution_count": 68,
      "metadata": {
        "gather": {
          "logged": 1678198569070
        },
        "jupyter": {
          "outputs_hidden": false,
          "source_hidden": false
        },
        "nteract": {
          "transient": {
            "deleting": false
          }
        }
      },
      "outputs": [],
      "source": [
        "# importing the Component Package\n",
        "from azure.ai.ml import load_component\n",
        "# Loading the component from the yml file\n",
        "score_component = load_component(source=os.path.join(score_src_dir, \"score.yml\"))"
      ]
    },
    {
      "cell_type": "code",
      "execution_count": 21,
      "metadata": {
        "gather": {
          "logged": 1678198572599
        },
        "jupyter": {
          "outputs_hidden": false,
          "source_hidden": false
        },
        "nteract": {
          "transient": {
            "deleting": false
          }
        }
      },
      "outputs": [
        {
          "name": "stderr",
          "output_type": "stream",
          "text": [
            "\r\u001b[32mUploading score (0.0 MBs):   0%|          | 0/2041 [00:00<?, ?it/s]\r\u001b[32mUploading score (0.0 MBs): 100%|██████████| 2041/2041 [00:00<00:00, 65580.68it/s]\n",
            "\u001b[39m\n",
            "\n"
          ]
        },
        {
          "name": "stdout",
          "output_type": "stream",
          "text": [
            "Component score_data with Version 2023-03-07-14-16-12-0679943 is registered\n"
          ]
        }
      ],
      "source": [
        "# Now we register the component to the workspace\n",
        "score_component = ml_client.create_or_update(score_component)\n",
        "\n",
        "# Create (register) the component in your workspace\n",
        "print(\n",
        "    f\"Component {score_component.name} with Version {score_component.version} is registered\"\n",
        ")"
      ]
    },
    {
      "cell_type": "markdown",
      "metadata": {},
      "source": [
        "## Create the pipeline from components\n",
        "\n",
        "Now that both your components are defined and registered, you can start implementing the pipeline."
      ]
    },
    {
      "cell_type": "markdown",
      "metadata": {},
      "source": [
        "Here, you'll use *input data*, *split ratio* and *registered model name* as input variables. Then call the components and connect them via their inputs /outputs identifiers. The outputs of each step can be accessed via the `.outputs` property."
      ]
    },
    {
      "cell_type": "markdown",
      "metadata": {
        "attributes": {
          "classes": [
            "Python"
          ],
          "id": ""
        }
      },
      "source": [
        "The python functions returned by `load_component()` work as any regular python function that we'll use within a pipeline to call each step.\n",
        "\n",
        "To code the pipeline, we use a specific `@dsl.pipeline` decorator that identifies the Azure ML pipelines. In the decorator, we can specify the pipeline description and default resources like compute and storage. Like a python function, pipelines can have inputs, you can then create multiple instances of a single pipeline with different inputs.\n",
        "\n",
        "Here, we used *input data*, *split ratio* and *registered model name* as input variables. We then call the components and connect them via their inputs /outputs identifiers. The outputs of each step can be accessed via the `.outputs` property."
      ]
    },
    {
      "cell_type": "code",
      "execution_count": 69,
      "metadata": {
        "attributes": {
          "classes": [
            "Python"
          ],
          "id": ""
        },
        "gather": {
          "logged": 1678198576760
        },
        "name": "pipeline"
      },
      "outputs": [],
      "source": [
        "# the dsl decorator tells the sdk that we are defining an Azure ML pipeline\n",
        "from azure.ai.ml import dsl, Input, Output\n",
        "\n",
        "\n",
        "@dsl.pipeline(\n",
        "    compute=cpu_compute_target,\n",
        "    description=\"E2E data_perp-train pipeline\",\n",
        ")\n",
        "def credit_defaults_pipeline(\n",
        "    pipeline_job_data_input,\n",
        "    pipeline_job_test_train_ratio,\n",
        "    pipeline_job_learning_rate,\n",
        "    pipeline_job_registered_model_name,\n",
        "    pipeline_job_evaldata_input,\n",
        "):\n",
        "    # using data_prep_function like a python call with its own inputs\n",
        "    data_prep_job = data_prep_component(\n",
        "        data=pipeline_job_data_input,\n",
        "        test_train_ratio=pipeline_job_test_train_ratio,\n",
        "    )\n",
        "\n",
        "    # using train_func like a python call with its own inputs\n",
        "    train_job = train_component(\n",
        "        train_data=data_prep_job.outputs.train_data,  # note: using outputs from previous step\n",
        "        test_data=data_prep_job.outputs.test_data,  # note: using outputs from previous step\n",
        "        learning_rate=pipeline_job_learning_rate,  # note: using a pipeline input as parameter\n",
        "        registered_model_name=pipeline_job_registered_model_name,\n",
        "    )\n",
        "\n",
        "    score_job = score_component(\n",
        "        model_input=train_job.outputs.model,\n",
        "        test_data=pipeline_job_evaldata_input,\n",
        "    )\n",
        "\n",
        "    # a pipeline returns a dictionary of outputs\n",
        "    # keys will code for the pipeline output identifier\n",
        "    return {\n",
        "        \"pipeline_job_train_data\": data_prep_job.outputs.train_data,\n",
        "        \"pipeline_job_test_data\": data_prep_job.outputs.test_data,\n",
        "        \"pipeline_job_model\": train_job.outputs.model,\n",
        "        \"pipeline_job_score\": score_job.outputs.score_output,\n",
        "    }"
      ]
    },
    {
      "cell_type": "markdown",
      "metadata": {},
      "source": [
        "Now use your pipeline definition to instantiate a pipeline with your dataset, split rate of choice and the name you picked for your model."
      ]
    },
    {
      "cell_type": "code",
      "execution_count": 70,
      "metadata": {
        "attributes": {
          "classes": [
            "Python"
          ],
          "id": ""
        },
        "gather": {
          "logged": 1678198580553
        },
        "name": "registered_model_name"
      },
      "outputs": [],
      "source": [
        "registered_model_name = \"credit_defaults_model\"\n",
        "\n",
        "# Let's instantiate the pipeline with the parameters of our choice\n",
        "pipeline = credit_defaults_pipeline(\n",
        "    pipeline_job_data_input=Input(type=\"uri_file\", path=credit_data.path),\n",
        "    pipeline_job_test_train_ratio=0.25,\n",
        "    pipeline_job_learning_rate=0.05,\n",
        "    pipeline_job_registered_model_name=registered_model_name,\n",
        "    pipeline_job_evaldata_input=Input(type=\"uri_file\", path=credit_evaldata.path),\n",
        ")"
      ]
    },
    {
      "cell_type": "markdown",
      "metadata": {},
      "source": [
        "## Submit the job \n",
        "\n",
        "It's now time to submit the job to run in Azure ML. This time you'll use `create_or_update`  on `ml_client.jobs`.\n",
        "\n",
        "Here you'll also pass an experiment name. An experiment is a container for all the iterations one does on a certain project. All the jobs submitted under the same experiment name would be listed next to each other in Azure ML studio.\n",
        "\n",
        "Once completed, the pipeline will register a model in your workspace as a result of training."
      ]
    },
    {
      "cell_type": "code",
      "execution_count": 71,
      "metadata": {
        "gather": {
          "logged": 1678198587626
        },
        "name": "returned_job"
      },
      "outputs": [
        {
          "name": "stderr",
          "output_type": "stream",
          "text": [
            "\u001b[32mUploading score (0.0 MBs): 100%|████████████████████████████████████████████████████████████████████████████████████████████████████████████████████████████████████████████████████████████████████████████████████████████████████████████████████████████████████████████████████████████████████████████████████████████████████████████████████████████████████████████████████████████████████████████████████████████████████████████████████████████████████████████████████████████████████████████████████████████████████████████████████████████████████████████████████████████████████████████████████████████████████████████████████████████████████████████████████████████████████████████████████████████████████████████████████████████████████████████████████████████████████████████████████████████████████████████████████████████████████████████████████████████████████████████████████████████████████████████████████████████████████████████████████████████████| 2847/2847 [00:00<00:00, 92631.22it/s]\u001b[0m\n",
            "\u001b[39m\n",
            "\n"
          ]
        },
        {
          "data": {
            "text/plain": [
              "True"
            ]
          },
          "execution_count": 71,
          "metadata": {},
          "output_type": "execute_result"
        }
      ],
      "source": [
        "import webbrowser\n",
        "\n",
        "# submit the pipeline job\n",
        "pipeline_job = ml_client.jobs.create_or_update(\n",
        "    pipeline,\n",
        "    # Project's name\n",
        "    experiment_name=\"e2e_registered_components\",\n",
        ")\n",
        "# open the pipeline in web browser\n",
        "webbrowser.open(pipeline_job.studio_url)"
      ]
    },
    {
      "cell_type": "code",
      "execution_count": 72,
      "metadata": {
        "gather": {
          "logged": 1678198456326
        },
        "jupyter": {
          "outputs_hidden": false,
          "source_hidden": false
        },
        "nteract": {
          "transient": {
            "deleting": false
          }
        }
      },
      "outputs": [
        {
          "name": "stdout",
          "output_type": "stream",
          "text": [
            "RunId: bubbly_oven_m4j14hk5k9\n",
            "Web View: https://ml.azure.com/runs/bubbly_oven_m4j14hk5k9?wsid=/subscriptions/996049d2-a088-4535-84c6-293862437c2e/resourcegroups/rg-aml-demo/workspaces/ssc-mlops\n",
            "\n",
            "Streaming logs/azureml/executionlogs.txt\n",
            "========================================\n",
            "\n",
            "[2023-03-08 07:42:49Z] Completing processing run id f0046eb7-78d5-4b60-aaa0-83b612df9f76.\n",
            "[2023-03-08 07:42:49Z] Completing processing run id 8d618cd9-f56e-4b8c-9af7-6afbfb791621.\n",
            "[2023-03-08 07:42:50Z] Submitting 1 runs, first five are: e4aff8f6:6d35c732-8daf-4eca-8380-5a8190265709\n"
          ]
        },
        {
          "ename": "JobException",
          "evalue": "The output streaming for the run interrupted.\nBut the run is still executing on the compute target. \nDetails for canceling the run can be found here: https://aka.ms/aml-docs-cancel-run",
          "output_type": "error",
          "traceback": [
            "\u001b[0;31m---------------------------------------------------------------------------\u001b[0m",
            "\u001b[0;31mKeyboardInterrupt\u001b[0m                         Traceback (most recent call last)",
            "File \u001b[0;32m/anaconda/envs/azureml_py310_sdkv2/lib/python3.10/site-packages/azure/ai/ml/operations/_job_ops_helper.py:235\u001b[0m, in \u001b[0;36mstream_logs_until_completion\u001b[0;34m(run_operations, job_resource, datastore_operations, raise_exception_on_failed_job, requests_pipeline)\u001b[0m\n\u001b[1;32m    <a href='file:///anaconda/envs/azureml_py310_sdkv2/lib/python3.10/site-packages/azure/ai/ml/operations/_job_ops_helper.py?line=233'>234</a>\u001b[0m file_handle\u001b[39m.\u001b[39mflush()\n\u001b[0;32m--> <a href='file:///anaconda/envs/azureml_py310_sdkv2/lib/python3.10/site-packages/azure/ai/ml/operations/_job_ops_helper.py?line=234'>235</a>\u001b[0m time\u001b[39m.\u001b[39;49msleep(_wait_before_polling(time\u001b[39m.\u001b[39;49mtime() \u001b[39m-\u001b[39;49m poll_start_time))\n\u001b[1;32m    <a href='file:///anaconda/envs/azureml_py310_sdkv2/lib/python3.10/site-packages/azure/ai/ml/operations/_job_ops_helper.py?line=235'>236</a>\u001b[0m _current_details: RunDetails \u001b[39m=\u001b[39m run_operations\u001b[39m.\u001b[39mget_run_details(job_name)  \u001b[39m# TODO use FileWatcher\u001b[39;00m\n",
            "\u001b[0;31mKeyboardInterrupt\u001b[0m: ",
            "\nDuring handling of the above exception, another exception occurred:\n",
            "\u001b[0;31mJobException\u001b[0m                              Traceback (most recent call last)",
            "\u001b[1;32m/home/azureuser/cloudfiles/code/Users/swkim/aml-ds-workflow/e2e-ml-workflow.ipynb Cell 64'\u001b[0m in \u001b[0;36m<cell line: 1>\u001b[0;34m()\u001b[0m\n\u001b[0;32m----> <a href='vscode-notebook-cell://amlext%2B2f737562736372697074696f6e732f39393630343964322d613038382d343533352d383463362d3239333836323433376332652f7265736f7572636547726f7570732f72672d616d6c2d64656d6f2f70726f7669646572732f4d6963726f736f66742e4d616368696e654c6561726e696e6753657276696365732f776f726b7370616365732f7373632d6d6c6f70732f636f6d70757465732f73776b696d31/home/azureuser/cloudfiles/code/Users/swkim/aml-ds-workflow/e2e-ml-workflow.ipynb#ch0000063vscode-remote?line=0'>1</a>\u001b[0m ml_client\u001b[39m.\u001b[39;49mjobs\u001b[39m.\u001b[39;49mstream(pipeline_job\u001b[39m.\u001b[39;49mname)\n",
            "File \u001b[0;32m/anaconda/envs/azureml_py310_sdkv2/lib/python3.10/site-packages/azure/core/tracing/decorator.py:78\u001b[0m, in \u001b[0;36mdistributed_trace.<locals>.decorator.<locals>.wrapper_use_tracer\u001b[0;34m(*args, **kwargs)\u001b[0m\n\u001b[1;32m     <a href='file:///anaconda/envs/azureml_py310_sdkv2/lib/python3.10/site-packages/azure/core/tracing/decorator.py?line=75'>76</a>\u001b[0m span_impl_type \u001b[39m=\u001b[39m settings\u001b[39m.\u001b[39mtracing_implementation()\n\u001b[1;32m     <a href='file:///anaconda/envs/azureml_py310_sdkv2/lib/python3.10/site-packages/azure/core/tracing/decorator.py?line=76'>77</a>\u001b[0m \u001b[39mif\u001b[39;00m span_impl_type \u001b[39mis\u001b[39;00m \u001b[39mNone\u001b[39;00m:\n\u001b[0;32m---> <a href='file:///anaconda/envs/azureml_py310_sdkv2/lib/python3.10/site-packages/azure/core/tracing/decorator.py?line=77'>78</a>\u001b[0m     \u001b[39mreturn\u001b[39;00m func(\u001b[39m*\u001b[39;49margs, \u001b[39m*\u001b[39;49m\u001b[39m*\u001b[39;49mkwargs)\n\u001b[1;32m     <a href='file:///anaconda/envs/azureml_py310_sdkv2/lib/python3.10/site-packages/azure/core/tracing/decorator.py?line=79'>80</a>\u001b[0m \u001b[39m# Merge span is parameter is set, but only if no explicit parent are passed\u001b[39;00m\n\u001b[1;32m     <a href='file:///anaconda/envs/azureml_py310_sdkv2/lib/python3.10/site-packages/azure/core/tracing/decorator.py?line=80'>81</a>\u001b[0m \u001b[39mif\u001b[39;00m merge_span \u001b[39mand\u001b[39;00m \u001b[39mnot\u001b[39;00m passed_in_parent:\n",
            "File \u001b[0;32m/anaconda/envs/azureml_py310_sdkv2/lib/python3.10/site-packages/azure/ai/ml/operations/_job_operations.py:617\u001b[0m, in \u001b[0;36mJobOperations.stream\u001b[0;34m(self, name)\u001b[0m\n\u001b[1;32m    <a href='file:///anaconda/envs/azureml_py310_sdkv2/lib/python3.10/site-packages/azure/ai/ml/operations/_job_operations.py?line=613'>614</a>\u001b[0m \u001b[39mif\u001b[39;00m _is_pipeline_child_job(job_object):\n\u001b[1;32m    <a href='file:///anaconda/envs/azureml_py310_sdkv2/lib/python3.10/site-packages/azure/ai/ml/operations/_job_operations.py?line=614'>615</a>\u001b[0m     \u001b[39mraise\u001b[39;00m PipelineChildJobError(job_id\u001b[39m=\u001b[39mjob_object\u001b[39m.\u001b[39mid)\n\u001b[0;32m--> <a href='file:///anaconda/envs/azureml_py310_sdkv2/lib/python3.10/site-packages/azure/ai/ml/operations/_job_operations.py?line=616'>617</a>\u001b[0m \u001b[39mself\u001b[39;49m\u001b[39m.\u001b[39;49m_stream_logs_until_completion(\n\u001b[1;32m    <a href='file:///anaconda/envs/azureml_py310_sdkv2/lib/python3.10/site-packages/azure/ai/ml/operations/_job_operations.py?line=617'>618</a>\u001b[0m     \u001b[39mself\u001b[39;49m\u001b[39m.\u001b[39;49m_runs_operations, job_object, \u001b[39mself\u001b[39;49m\u001b[39m.\u001b[39;49m_datastore_operations, requests_pipeline\u001b[39m=\u001b[39;49m\u001b[39mself\u001b[39;49m\u001b[39m.\u001b[39;49m_requests_pipeline\n\u001b[1;32m    <a href='file:///anaconda/envs/azureml_py310_sdkv2/lib/python3.10/site-packages/azure/ai/ml/operations/_job_operations.py?line=618'>619</a>\u001b[0m )\n",
            "File \u001b[0;32m/anaconda/envs/azureml_py310_sdkv2/lib/python3.10/site-packages/azure/ai/ml/operations/_job_ops_helper.py:313\u001b[0m, in \u001b[0;36mstream_logs_until_completion\u001b[0;34m(run_operations, job_resource, datastore_operations, raise_exception_on_failed_job, requests_pipeline)\u001b[0m\n\u001b[1;32m    <a href='file:///anaconda/envs/azureml_py310_sdkv2/lib/python3.10/site-packages/azure/ai/ml/operations/_job_ops_helper.py?line=305'>306</a>\u001b[0m \u001b[39mexcept\u001b[39;00m \u001b[39mKeyboardInterrupt\u001b[39;00m:\n\u001b[1;32m    <a href='file:///anaconda/envs/azureml_py310_sdkv2/lib/python3.10/site-packages/azure/ai/ml/operations/_job_ops_helper.py?line=306'>307</a>\u001b[0m     error_message \u001b[39m=\u001b[39m (\n\u001b[1;32m    <a href='file:///anaconda/envs/azureml_py310_sdkv2/lib/python3.10/site-packages/azure/ai/ml/operations/_job_ops_helper.py?line=307'>308</a>\u001b[0m         \u001b[39m\"\u001b[39m\u001b[39mThe output streaming for the run interrupted.\u001b[39m\u001b[39m\\n\u001b[39;00m\u001b[39m\"\u001b[39m\n\u001b[1;32m    <a href='file:///anaconda/envs/azureml_py310_sdkv2/lib/python3.10/site-packages/azure/ai/ml/operations/_job_ops_helper.py?line=308'>309</a>\u001b[0m         \u001b[39m\"\u001b[39m\u001b[39mBut the run is still executing on the compute target. \u001b[39m\u001b[39m\\n\u001b[39;00m\u001b[39m\"\u001b[39m\n\u001b[1;32m    <a href='file:///anaconda/envs/azureml_py310_sdkv2/lib/python3.10/site-packages/azure/ai/ml/operations/_job_ops_helper.py?line=309'>310</a>\u001b[0m         \u001b[39m\"\u001b[39m\u001b[39mDetails for canceling the run can be found here: \u001b[39m\u001b[39m\"\u001b[39m\n\u001b[1;32m    <a href='file:///anaconda/envs/azureml_py310_sdkv2/lib/python3.10/site-packages/azure/ai/ml/operations/_job_ops_helper.py?line=310'>311</a>\u001b[0m         \u001b[39m\"\u001b[39m\u001b[39mhttps://aka.ms/aml-docs-cancel-run\u001b[39m\u001b[39m\"\u001b[39m\n\u001b[1;32m    <a href='file:///anaconda/envs/azureml_py310_sdkv2/lib/python3.10/site-packages/azure/ai/ml/operations/_job_ops_helper.py?line=311'>312</a>\u001b[0m     )\n\u001b[0;32m--> <a href='file:///anaconda/envs/azureml_py310_sdkv2/lib/python3.10/site-packages/azure/ai/ml/operations/_job_ops_helper.py?line=312'>313</a>\u001b[0m     \u001b[39mraise\u001b[39;00m JobException(\n\u001b[1;32m    <a href='file:///anaconda/envs/azureml_py310_sdkv2/lib/python3.10/site-packages/azure/ai/ml/operations/_job_ops_helper.py?line=313'>314</a>\u001b[0m         message\u001b[39m=\u001b[39merror_message,\n\u001b[1;32m    <a href='file:///anaconda/envs/azureml_py310_sdkv2/lib/python3.10/site-packages/azure/ai/ml/operations/_job_ops_helper.py?line=314'>315</a>\u001b[0m         target\u001b[39m=\u001b[39mErrorTarget\u001b[39m.\u001b[39mJOB,\n\u001b[1;32m    <a href='file:///anaconda/envs/azureml_py310_sdkv2/lib/python3.10/site-packages/azure/ai/ml/operations/_job_ops_helper.py?line=315'>316</a>\u001b[0m         no_personal_data_message\u001b[39m=\u001b[39merror_message,\n\u001b[1;32m    <a href='file:///anaconda/envs/azureml_py310_sdkv2/lib/python3.10/site-packages/azure/ai/ml/operations/_job_ops_helper.py?line=316'>317</a>\u001b[0m         error_category\u001b[39m=\u001b[39mErrorCategory\u001b[39m.\u001b[39mUSER_ERROR,\n\u001b[1;32m    <a href='file:///anaconda/envs/azureml_py310_sdkv2/lib/python3.10/site-packages/azure/ai/ml/operations/_job_ops_helper.py?line=317'>318</a>\u001b[0m     )\n",
            "\u001b[0;31mJobException\u001b[0m: The output streaming for the run interrupted.\nBut the run is still executing on the compute target. \nDetails for canceling the run can be found here: https://aka.ms/aml-docs-cancel-run"
          ]
        }
      ],
      "source": [
        "ml_client.jobs.stream(pipeline_job.name)"
      ]
    },
    {
      "cell_type": "markdown",
      "metadata": {
        "nteract": {
          "transient": {
            "deleting": false
          }
        }
      },
      "source": [
        "You can track the progress of your pipeline, by using the link generated in the cell above or in this notebook using the following code:\n",
        "```python\n",
        "    ml_client.jobs.stream(pipeline_job.name)\n",
        "```\n",
        "\n",
        "When you select on each component, you'll see more information about the results of that component. \n",
        "There are two important parts to look for at this stage:\n",
        "* `Outputs+logs` > `user_logs` > `std_log.txt`\n",
        "This section shows the script run sdtout."
      ]
    },
    {
      "cell_type": "markdown",
      "metadata": {
        "nteract": {
          "transient": {
            "deleting": false
          }
        }
      },
      "source": [
        "* `Outputs+logs` > `Metric`\n",
        "This section shows different logged metrics. In this example. mlflow `autologging`, has automatically logged the training metrics."
      ]
    },
    {
      "cell_type": "markdown",
      "metadata": {
        "nteract": {
          "transient": {
            "deleting": false
          }
        }
      },
      "source": [
        "## "
      ]
    },
    {
      "cell_type": "markdown",
      "metadata": {
        "nteract": {
          "transient": {
            "deleting": false
          }
        }
      },
      "source": [
        "## e2e_registered_component 실험 리스트 조회"
      ]
    },
    {
      "cell_type": "code",
      "execution_count": 23,
      "metadata": {
        "gather": {
          "logged": 1678182350351
        },
        "jupyter": {
          "outputs_hidden": false,
          "source_hidden": false
        },
        "nteract": {
          "transient": {
            "deleting": false
          }
        }
      },
      "outputs": [
        {
          "data": {
            "text/plain": [
              "<Experiment: artifact_location='', creation_time=1678064718535, experiment_id='589ba941-0fdf-41f1-8a44-39204466f49a', last_update_time=None, lifecycle_stage='active', name='e2e_registered_components', tags={}>"
            ]
          },
          "execution_count": 23,
          "metadata": {},
          "output_type": "execute_result"
        }
      ],
      "source": [
        "import mlflow\n",
        "\n",
        "exp = mlflow.get_experiment_by_name(\"e2e_registered_components\")\n",
        "exp"
      ]
    },
    {
      "cell_type": "code",
      "execution_count": 24,
      "metadata": {
        "gather": {
          "logged": 1678182352668
        },
        "jupyter": {
          "outputs_hidden": false,
          "source_hidden": false
        },
        "nteract": {
          "transient": {
            "deleting": false
          }
        }
      },
      "outputs": [
        {
          "data": {
            "text/html": [
              "<div>\n",
              "<style scoped>\n",
              "    .dataframe tbody tr th:only-of-type {\n",
              "        vertical-align: middle;\n",
              "    }\n",
              "\n",
              "    .dataframe tbody tr th {\n",
              "        vertical-align: top;\n",
              "    }\n",
              "\n",
              "    .dataframe thead th {\n",
              "        text-align: right;\n",
              "    }\n",
              "</style>\n",
              "<table border=\"1\" class=\"dataframe\">\n",
              "  <thead>\n",
              "    <tr style=\"text-align: right;\">\n",
              "      <th></th>\n",
              "      <th>run_id</th>\n",
              "      <th>experiment_id</th>\n",
              "      <th>status</th>\n",
              "      <th>artifact_uri</th>\n",
              "      <th>start_time</th>\n",
              "      <th>end_time</th>\n",
              "      <th>metrics.num_features</th>\n",
              "      <th>metrics.num_samples</th>\n",
              "      <th>metrics.training_roc_auc_score</th>\n",
              "      <th>metrics.training_score</th>\n",
              "      <th>...</th>\n",
              "      <th>params.min_weight_fraction_leaf</th>\n",
              "      <th>params.min_impurity_decrease</th>\n",
              "      <th>params.tol</th>\n",
              "      <th>tags.mlflow.user</th>\n",
              "      <th>tags.mlflow.rootRunId</th>\n",
              "      <th>tags.azureml.pipeline</th>\n",
              "      <th>tags.azureml.nodeid</th>\n",
              "      <th>tags.mlflow.parentRunId</th>\n",
              "      <th>tags.estimator_name</th>\n",
              "      <th>tags.estimator_class</th>\n",
              "    </tr>\n",
              "  </thead>\n",
              "  <tbody>\n",
              "    <tr>\n",
              "      <th>0</th>\n",
              "      <td>clever_cloud_vjn3fbrmhj</td>\n",
              "      <td>589ba941-0fdf-41f1-8a44-39204466f49a</td>\n",
              "      <td>FINISHED</td>\n",
              "      <td></td>\n",
              "      <td>2023-03-06 01:05:19.789000+00:00</td>\n",
              "      <td>2023-03-06 01:10:00.856000+00:00</td>\n",
              "      <td>NaN</td>\n",
              "      <td>NaN</td>\n",
              "      <td>NaN</td>\n",
              "      <td>NaN</td>\n",
              "      <td>...</td>\n",
              "      <td>None</td>\n",
              "      <td>None</td>\n",
              "      <td>None</td>\n",
              "      <td>김상우</td>\n",
              "      <td>clever_cloud_vjn3fbrmhj</td>\n",
              "      <td>None</td>\n",
              "      <td>None</td>\n",
              "      <td>None</td>\n",
              "      <td>None</td>\n",
              "      <td>None</td>\n",
              "    </tr>\n",
              "    <tr>\n",
              "      <th>1</th>\n",
              "      <td>d7ca41fa-587d-450a-a751-b37a68e80488</td>\n",
              "      <td>589ba941-0fdf-41f1-8a44-39204466f49a</td>\n",
              "      <td>FINISHED</td>\n",
              "      <td></td>\n",
              "      <td>2023-03-06 01:07:35.653000+00:00</td>\n",
              "      <td>2023-03-06 01:08:36.840000+00:00</td>\n",
              "      <td>23.0</td>\n",
              "      <td>30000.0</td>\n",
              "      <td>NaN</td>\n",
              "      <td>NaN</td>\n",
              "      <td>...</td>\n",
              "      <td>None</td>\n",
              "      <td>None</td>\n",
              "      <td>None</td>\n",
              "      <td>김상우</td>\n",
              "      <td>clever_cloud_vjn3fbrmhj</td>\n",
              "      <td>clever_cloud_vjn3fbrmhj</td>\n",
              "      <td>5751f057</td>\n",
              "      <td>clever_cloud_vjn3fbrmhj</td>\n",
              "      <td>None</td>\n",
              "      <td>None</td>\n",
              "    </tr>\n",
              "    <tr>\n",
              "      <th>2</th>\n",
              "      <td>56ff461b-a59f-470d-89e7-79a258edef6b</td>\n",
              "      <td>589ba941-0fdf-41f1-8a44-39204466f49a</td>\n",
              "      <td>FINISHED</td>\n",
              "      <td></td>\n",
              "      <td>2023-03-06 01:08:47.631000+00:00</td>\n",
              "      <td>2023-03-06 01:09:59.371000+00:00</td>\n",
              "      <td>NaN</td>\n",
              "      <td>NaN</td>\n",
              "      <td>0.795926</td>\n",
              "      <td>0.824756</td>\n",
              "      <td>...</td>\n",
              "      <td>0.0</td>\n",
              "      <td>0.0</td>\n",
              "      <td>0.0001</td>\n",
              "      <td>김상우</td>\n",
              "      <td>clever_cloud_vjn3fbrmhj</td>\n",
              "      <td>clever_cloud_vjn3fbrmhj</td>\n",
              "      <td>f5e3994d</td>\n",
              "      <td>clever_cloud_vjn3fbrmhj</td>\n",
              "      <td>GradientBoostingClassifier</td>\n",
              "      <td>sklearn.ensemble._gb.GradientBoostingClassifier</td>\n",
              "    </tr>\n",
              "    <tr>\n",
              "      <th>3</th>\n",
              "      <td>silly_beach_8px3xdh5hc</td>\n",
              "      <td>589ba941-0fdf-41f1-8a44-39204466f49a</td>\n",
              "      <td>FAILED</td>\n",
              "      <td></td>\n",
              "      <td>2023-03-07 00:57:43.219000+00:00</td>\n",
              "      <td>2023-03-07 01:00:29.546000+00:00</td>\n",
              "      <td>NaN</td>\n",
              "      <td>NaN</td>\n",
              "      <td>NaN</td>\n",
              "      <td>NaN</td>\n",
              "      <td>...</td>\n",
              "      <td>None</td>\n",
              "      <td>None</td>\n",
              "      <td>None</td>\n",
              "      <td>김상우</td>\n",
              "      <td>silly_beach_8px3xdh5hc</td>\n",
              "      <td>None</td>\n",
              "      <td>None</td>\n",
              "      <td>None</td>\n",
              "      <td>None</td>\n",
              "      <td>None</td>\n",
              "    </tr>\n",
              "    <tr>\n",
              "      <th>4</th>\n",
              "      <td>b5f4f39c-6245-458a-870c-e93fe3bb9337</td>\n",
              "      <td>589ba941-0fdf-41f1-8a44-39204466f49a</td>\n",
              "      <td>FAILED</td>\n",
              "      <td></td>\n",
              "      <td>2023-03-07 00:59:40.244000+00:00</td>\n",
              "      <td>2023-03-07 01:00:27.534000+00:00</td>\n",
              "      <td>NaN</td>\n",
              "      <td>NaN</td>\n",
              "      <td>NaN</td>\n",
              "      <td>NaN</td>\n",
              "      <td>...</td>\n",
              "      <td>None</td>\n",
              "      <td>None</td>\n",
              "      <td>None</td>\n",
              "      <td>김상우</td>\n",
              "      <td>silly_beach_8px3xdh5hc</td>\n",
              "      <td>silly_beach_8px3xdh5hc</td>\n",
              "      <td>67989775</td>\n",
              "      <td>silly_beach_8px3xdh5hc</td>\n",
              "      <td>None</td>\n",
              "      <td>None</td>\n",
              "    </tr>\n",
              "    <tr>\n",
              "      <th>...</th>\n",
              "      <td>...</td>\n",
              "      <td>...</td>\n",
              "      <td>...</td>\n",
              "      <td>...</td>\n",
              "      <td>...</td>\n",
              "      <td>...</td>\n",
              "      <td>...</td>\n",
              "      <td>...</td>\n",
              "      <td>...</td>\n",
              "      <td>...</td>\n",
              "      <td>...</td>\n",
              "      <td>...</td>\n",
              "      <td>...</td>\n",
              "      <td>...</td>\n",
              "      <td>...</td>\n",
              "      <td>...</td>\n",
              "      <td>...</td>\n",
              "      <td>...</td>\n",
              "      <td>...</td>\n",
              "      <td>...</td>\n",
              "      <td>...</td>\n",
              "    </tr>\n",
              "    <tr>\n",
              "      <th>62</th>\n",
              "      <td>66b9af80-4b4f-4135-adbb-e8679f334b30</td>\n",
              "      <td>589ba941-0fdf-41f1-8a44-39204466f49a</td>\n",
              "      <td>FINISHED</td>\n",
              "      <td></td>\n",
              "      <td>2023-03-08 01:28:24.581000+00:00</td>\n",
              "      <td>2023-03-08 01:29:23.450000+00:00</td>\n",
              "      <td>NaN</td>\n",
              "      <td>NaN</td>\n",
              "      <td>NaN</td>\n",
              "      <td>NaN</td>\n",
              "      <td>...</td>\n",
              "      <td>None</td>\n",
              "      <td>None</td>\n",
              "      <td>None</td>\n",
              "      <td>상우 김</td>\n",
              "      <td>038dd38d-5e20-4d83-98c0-51e63b9e5d7f</td>\n",
              "      <td>038dd38d-5e20-4d83-98c0-51e63b9e5d7f</td>\n",
              "      <td>d6588ed4</td>\n",
              "      <td>038dd38d-5e20-4d83-98c0-51e63b9e5d7f</td>\n",
              "      <td>None</td>\n",
              "      <td>None</td>\n",
              "    </tr>\n",
              "    <tr>\n",
              "      <th>63</th>\n",
              "      <td>gentle_sprout_tc76m7hz07</td>\n",
              "      <td>589ba941-0fdf-41f1-8a44-39204466f49a</td>\n",
              "      <td>FINISHED</td>\n",
              "      <td></td>\n",
              "      <td>2023-03-08 06:15:43.079000+00:00</td>\n",
              "      <td>2023-03-08 06:29:30.166000+00:00</td>\n",
              "      <td>NaN</td>\n",
              "      <td>NaN</td>\n",
              "      <td>NaN</td>\n",
              "      <td>NaN</td>\n",
              "      <td>...</td>\n",
              "      <td>None</td>\n",
              "      <td>None</td>\n",
              "      <td>None</td>\n",
              "      <td>김상우</td>\n",
              "      <td>gentle_sprout_tc76m7hz07</td>\n",
              "      <td>None</td>\n",
              "      <td>None</td>\n",
              "      <td>None</td>\n",
              "      <td>None</td>\n",
              "      <td>None</td>\n",
              "    </tr>\n",
              "    <tr>\n",
              "      <th>64</th>\n",
              "      <td>beb83111-3746-4c7d-8c79-813fb375d8a8</td>\n",
              "      <td>589ba941-0fdf-41f1-8a44-39204466f49a</td>\n",
              "      <td>FINISHED</td>\n",
              "      <td></td>\n",
              "      <td>2023-03-08 06:17:49.622000+00:00</td>\n",
              "      <td>2023-03-08 06:18:51.586000+00:00</td>\n",
              "      <td>23.0</td>\n",
              "      <td>30000.0</td>\n",
              "      <td>NaN</td>\n",
              "      <td>NaN</td>\n",
              "      <td>...</td>\n",
              "      <td>None</td>\n",
              "      <td>None</td>\n",
              "      <td>None</td>\n",
              "      <td>김상우</td>\n",
              "      <td>gentle_sprout_tc76m7hz07</td>\n",
              "      <td>gentle_sprout_tc76m7hz07</td>\n",
              "      <td>e2ef7c65</td>\n",
              "      <td>gentle_sprout_tc76m7hz07</td>\n",
              "      <td>None</td>\n",
              "      <td>None</td>\n",
              "    </tr>\n",
              "    <tr>\n",
              "      <th>65</th>\n",
              "      <td>47389770-1a72-4bde-9f2e-87d20be938f1</td>\n",
              "      <td>589ba941-0fdf-41f1-8a44-39204466f49a</td>\n",
              "      <td>FINISHED</td>\n",
              "      <td></td>\n",
              "      <td>2023-03-08 06:19:33.560000+00:00</td>\n",
              "      <td>2023-03-08 06:20:52.020000+00:00</td>\n",
              "      <td>NaN</td>\n",
              "      <td>NaN</td>\n",
              "      <td>0.793657</td>\n",
              "      <td>0.822489</td>\n",
              "      <td>...</td>\n",
              "      <td>0.0</td>\n",
              "      <td>0.0</td>\n",
              "      <td>0.0001</td>\n",
              "      <td>김상우</td>\n",
              "      <td>gentle_sprout_tc76m7hz07</td>\n",
              "      <td>gentle_sprout_tc76m7hz07</td>\n",
              "      <td>d5d8deae</td>\n",
              "      <td>gentle_sprout_tc76m7hz07</td>\n",
              "      <td>GradientBoostingClassifier</td>\n",
              "      <td>sklearn.ensemble._gb.GradientBoostingClassifier</td>\n",
              "    </tr>\n",
              "    <tr>\n",
              "      <th>66</th>\n",
              "      <td>5da145cf-0f2f-4688-91ec-e30b991348a1</td>\n",
              "      <td>589ba941-0fdf-41f1-8a44-39204466f49a</td>\n",
              "      <td>FINISHED</td>\n",
              "      <td></td>\n",
              "      <td>2023-03-08 06:27:47.033000+00:00</td>\n",
              "      <td>2023-03-08 06:28:48.902000+00:00</td>\n",
              "      <td>NaN</td>\n",
              "      <td>NaN</td>\n",
              "      <td>NaN</td>\n",
              "      <td>NaN</td>\n",
              "      <td>...</td>\n",
              "      <td>None</td>\n",
              "      <td>None</td>\n",
              "      <td>None</td>\n",
              "      <td>김상우</td>\n",
              "      <td>gentle_sprout_tc76m7hz07</td>\n",
              "      <td>gentle_sprout_tc76m7hz07</td>\n",
              "      <td>9f937fd4</td>\n",
              "      <td>gentle_sprout_tc76m7hz07</td>\n",
              "      <td>None</td>\n",
              "      <td>None</td>\n",
              "    </tr>\n",
              "  </tbody>\n",
              "</table>\n",
              "<p>67 rows × 45 columns</p>\n",
              "</div>"
            ],
            "text/plain": [
              "                                  run_id  \\\n",
              "0                clever_cloud_vjn3fbrmhj   \n",
              "1   d7ca41fa-587d-450a-a751-b37a68e80488   \n",
              "2   56ff461b-a59f-470d-89e7-79a258edef6b   \n",
              "3                 silly_beach_8px3xdh5hc   \n",
              "4   b5f4f39c-6245-458a-870c-e93fe3bb9337   \n",
              "..                                   ...   \n",
              "62  66b9af80-4b4f-4135-adbb-e8679f334b30   \n",
              "63              gentle_sprout_tc76m7hz07   \n",
              "64  beb83111-3746-4c7d-8c79-813fb375d8a8   \n",
              "65  47389770-1a72-4bde-9f2e-87d20be938f1   \n",
              "66  5da145cf-0f2f-4688-91ec-e30b991348a1   \n",
              "\n",
              "                           experiment_id    status artifact_uri  \\\n",
              "0   589ba941-0fdf-41f1-8a44-39204466f49a  FINISHED                \n",
              "1   589ba941-0fdf-41f1-8a44-39204466f49a  FINISHED                \n",
              "2   589ba941-0fdf-41f1-8a44-39204466f49a  FINISHED                \n",
              "3   589ba941-0fdf-41f1-8a44-39204466f49a    FAILED                \n",
              "4   589ba941-0fdf-41f1-8a44-39204466f49a    FAILED                \n",
              "..                                   ...       ...          ...   \n",
              "62  589ba941-0fdf-41f1-8a44-39204466f49a  FINISHED                \n",
              "63  589ba941-0fdf-41f1-8a44-39204466f49a  FINISHED                \n",
              "64  589ba941-0fdf-41f1-8a44-39204466f49a  FINISHED                \n",
              "65  589ba941-0fdf-41f1-8a44-39204466f49a  FINISHED                \n",
              "66  589ba941-0fdf-41f1-8a44-39204466f49a  FINISHED                \n",
              "\n",
              "                         start_time                         end_time  \\\n",
              "0  2023-03-06 01:05:19.789000+00:00 2023-03-06 01:10:00.856000+00:00   \n",
              "1  2023-03-06 01:07:35.653000+00:00 2023-03-06 01:08:36.840000+00:00   \n",
              "2  2023-03-06 01:08:47.631000+00:00 2023-03-06 01:09:59.371000+00:00   \n",
              "3  2023-03-07 00:57:43.219000+00:00 2023-03-07 01:00:29.546000+00:00   \n",
              "4  2023-03-07 00:59:40.244000+00:00 2023-03-07 01:00:27.534000+00:00   \n",
              "..                              ...                              ...   \n",
              "62 2023-03-08 01:28:24.581000+00:00 2023-03-08 01:29:23.450000+00:00   \n",
              "63 2023-03-08 06:15:43.079000+00:00 2023-03-08 06:29:30.166000+00:00   \n",
              "64 2023-03-08 06:17:49.622000+00:00 2023-03-08 06:18:51.586000+00:00   \n",
              "65 2023-03-08 06:19:33.560000+00:00 2023-03-08 06:20:52.020000+00:00   \n",
              "66 2023-03-08 06:27:47.033000+00:00 2023-03-08 06:28:48.902000+00:00   \n",
              "\n",
              "    metrics.num_features  metrics.num_samples  metrics.training_roc_auc_score  \\\n",
              "0                    NaN                  NaN                             NaN   \n",
              "1                   23.0              30000.0                             NaN   \n",
              "2                    NaN                  NaN                        0.795926   \n",
              "3                    NaN                  NaN                             NaN   \n",
              "4                    NaN                  NaN                             NaN   \n",
              "..                   ...                  ...                             ...   \n",
              "62                   NaN                  NaN                             NaN   \n",
              "63                   NaN                  NaN                             NaN   \n",
              "64                  23.0              30000.0                             NaN   \n",
              "65                   NaN                  NaN                        0.793657   \n",
              "66                   NaN                  NaN                             NaN   \n",
              "\n",
              "    metrics.training_score  ...  params.min_weight_fraction_leaf  \\\n",
              "0                      NaN  ...                             None   \n",
              "1                      NaN  ...                             None   \n",
              "2                 0.824756  ...                              0.0   \n",
              "3                      NaN  ...                             None   \n",
              "4                      NaN  ...                             None   \n",
              "..                     ...  ...                              ...   \n",
              "62                     NaN  ...                             None   \n",
              "63                     NaN  ...                             None   \n",
              "64                     NaN  ...                             None   \n",
              "65                0.822489  ...                              0.0   \n",
              "66                     NaN  ...                             None   \n",
              "\n",
              "    params.min_impurity_decrease  params.tol  tags.mlflow.user  \\\n",
              "0                           None        None               김상우   \n",
              "1                           None        None               김상우   \n",
              "2                            0.0      0.0001               김상우   \n",
              "3                           None        None               김상우   \n",
              "4                           None        None               김상우   \n",
              "..                           ...         ...               ...   \n",
              "62                          None        None              상우 김   \n",
              "63                          None        None               김상우   \n",
              "64                          None        None               김상우   \n",
              "65                           0.0      0.0001               김상우   \n",
              "66                          None        None               김상우   \n",
              "\n",
              "                   tags.mlflow.rootRunId  \\\n",
              "0                clever_cloud_vjn3fbrmhj   \n",
              "1                clever_cloud_vjn3fbrmhj   \n",
              "2                clever_cloud_vjn3fbrmhj   \n",
              "3                 silly_beach_8px3xdh5hc   \n",
              "4                 silly_beach_8px3xdh5hc   \n",
              "..                                   ...   \n",
              "62  038dd38d-5e20-4d83-98c0-51e63b9e5d7f   \n",
              "63              gentle_sprout_tc76m7hz07   \n",
              "64              gentle_sprout_tc76m7hz07   \n",
              "65              gentle_sprout_tc76m7hz07   \n",
              "66              gentle_sprout_tc76m7hz07   \n",
              "\n",
              "                   tags.azureml.pipeline tags.azureml.nodeid  \\\n",
              "0                                   None                None   \n",
              "1                clever_cloud_vjn3fbrmhj            5751f057   \n",
              "2                clever_cloud_vjn3fbrmhj            f5e3994d   \n",
              "3                                   None                None   \n",
              "4                 silly_beach_8px3xdh5hc            67989775   \n",
              "..                                   ...                 ...   \n",
              "62  038dd38d-5e20-4d83-98c0-51e63b9e5d7f            d6588ed4   \n",
              "63                                  None                None   \n",
              "64              gentle_sprout_tc76m7hz07            e2ef7c65   \n",
              "65              gentle_sprout_tc76m7hz07            d5d8deae   \n",
              "66              gentle_sprout_tc76m7hz07            9f937fd4   \n",
              "\n",
              "                 tags.mlflow.parentRunId         tags.estimator_name  \\\n",
              "0                                   None                        None   \n",
              "1                clever_cloud_vjn3fbrmhj                        None   \n",
              "2                clever_cloud_vjn3fbrmhj  GradientBoostingClassifier   \n",
              "3                                   None                        None   \n",
              "4                 silly_beach_8px3xdh5hc                        None   \n",
              "..                                   ...                         ...   \n",
              "62  038dd38d-5e20-4d83-98c0-51e63b9e5d7f                        None   \n",
              "63                                  None                        None   \n",
              "64              gentle_sprout_tc76m7hz07                        None   \n",
              "65              gentle_sprout_tc76m7hz07  GradientBoostingClassifier   \n",
              "66              gentle_sprout_tc76m7hz07                        None   \n",
              "\n",
              "                               tags.estimator_class  \n",
              "0                                              None  \n",
              "1                                              None  \n",
              "2   sklearn.ensemble._gb.GradientBoostingClassifier  \n",
              "3                                              None  \n",
              "4                                              None  \n",
              "..                                              ...  \n",
              "62                                             None  \n",
              "63                                             None  \n",
              "64                                             None  \n",
              "65  sklearn.ensemble._gb.GradientBoostingClassifier  \n",
              "66                                             None  \n",
              "\n",
              "[67 rows x 45 columns]"
            ]
          },
          "execution_count": 24,
          "metadata": {},
          "output_type": "execute_result"
        }
      ],
      "source": [
        "run_list = mlflow.search_runs(exp.experiment_id)\n",
        "run_list"
      ]
    },
    {
      "cell_type": "code",
      "execution_count": 25,
      "metadata": {
        "gather": {
          "logged": 1678182355897
        },
        "jupyter": {
          "outputs_hidden": false,
          "source_hidden": false
        },
        "nteract": {
          "transient": {
            "deleting": false
          }
        }
      },
      "outputs": [],
      "source": [
        "# Get the run with the highest training R2 score\n",
        "run_list = mlflow.search_runs(exp.experiment_id)\n",
        "best_run_result = run_list.fillna(0)"
      ]
    },
    {
      "cell_type": "markdown",
      "metadata": {},
      "source": [
        "## Experiment list 중에서 비교를 원하는 Metric을 선택해서 가장 좋은 값을 가진 experiment id 를 추출한다.\n",
        "아래는 metrics.training_f1_score 값을 기준으로 비교한다."
      ]
    },
    {
      "cell_type": "code",
      "execution_count": 46,
      "metadata": {
        "gather": {
          "logged": 1678182358108
        },
        "jupyter": {
          "outputs_hidden": false,
          "source_hidden": false
        },
        "nteract": {
          "transient": {
            "deleting": false
          }
        }
      },
      "outputs": [
        {
          "data": {
            "text/html": [
              "<div>\n",
              "<style scoped>\n",
              "    .dataframe tbody tr th:only-of-type {\n",
              "        vertical-align: middle;\n",
              "    }\n",
              "\n",
              "    .dataframe tbody tr th {\n",
              "        vertical-align: top;\n",
              "    }\n",
              "\n",
              "    .dataframe thead th {\n",
              "        text-align: right;\n",
              "    }\n",
              "</style>\n",
              "<table border=\"1\" class=\"dataframe\">\n",
              "  <thead>\n",
              "    <tr style=\"text-align: right;\">\n",
              "      <th></th>\n",
              "      <th>run_id</th>\n",
              "      <th>experiment_id</th>\n",
              "      <th>status</th>\n",
              "      <th>artifact_uri</th>\n",
              "      <th>start_time</th>\n",
              "      <th>end_time</th>\n",
              "      <th>metrics.num_features</th>\n",
              "      <th>metrics.num_samples</th>\n",
              "      <th>metrics.training_roc_auc_score</th>\n",
              "      <th>metrics.training_score</th>\n",
              "      <th>...</th>\n",
              "      <th>params.min_weight_fraction_leaf</th>\n",
              "      <th>params.min_impurity_decrease</th>\n",
              "      <th>params.tol</th>\n",
              "      <th>tags.mlflow.user</th>\n",
              "      <th>tags.mlflow.rootRunId</th>\n",
              "      <th>tags.azureml.pipeline</th>\n",
              "      <th>tags.azureml.nodeid</th>\n",
              "      <th>tags.mlflow.parentRunId</th>\n",
              "      <th>tags.estimator_name</th>\n",
              "      <th>tags.estimator_class</th>\n",
              "    </tr>\n",
              "  </thead>\n",
              "  <tbody>\n",
              "    <tr>\n",
              "      <th>12</th>\n",
              "      <td>874b1810-0d0f-4d76-8ffa-770ac53b6c6d</td>\n",
              "      <td>589ba941-0fdf-41f1-8a44-39204466f49a</td>\n",
              "      <td>FINISHED</td>\n",
              "      <td></td>\n",
              "      <td>2023-03-07 09:43:48.825000+00:00</td>\n",
              "      <td>2023-03-07 09:43:48.851000+00:00</td>\n",
              "      <td>0.0</td>\n",
              "      <td>0.0</td>\n",
              "      <td>0.793803</td>\n",
              "      <td>0.826889</td>\n",
              "      <td>...</td>\n",
              "      <td>0.0</td>\n",
              "      <td>0.0</td>\n",
              "      <td>0.0001</td>\n",
              "      <td>김상우</td>\n",
              "      <td>serene_ocean_m32ymk9k4n</td>\n",
              "      <td>serene_ocean_m32ymk9k4n</td>\n",
              "      <td>c5d10fa7</td>\n",
              "      <td>serene_ocean_m32ymk9k4n</td>\n",
              "      <td>GradientBoostingClassifier</td>\n",
              "      <td>sklearn.ensemble._gb.GradientBoostingClassifier</td>\n",
              "    </tr>\n",
              "    <tr>\n",
              "      <th>9</th>\n",
              "      <td>8a29575c-7838-4400-b300-1109f5b10a25</td>\n",
              "      <td>589ba941-0fdf-41f1-8a44-39204466f49a</td>\n",
              "      <td>FINISHED</td>\n",
              "      <td></td>\n",
              "      <td>2023-03-07 01:38:38.841000+00:00</td>\n",
              "      <td>2023-03-07 01:39:43.024000+00:00</td>\n",
              "      <td>0.0</td>\n",
              "      <td>0.0</td>\n",
              "      <td>0.793803</td>\n",
              "      <td>0.826889</td>\n",
              "      <td>...</td>\n",
              "      <td>0.0</td>\n",
              "      <td>0.0</td>\n",
              "      <td>0.0001</td>\n",
              "      <td>김상우</td>\n",
              "      <td>willing_house_7kpklq0km7</td>\n",
              "      <td>willing_house_7kpklq0km7</td>\n",
              "      <td>72679786</td>\n",
              "      <td>willing_house_7kpklq0km7</td>\n",
              "      <td>GradientBoostingClassifier</td>\n",
              "      <td>sklearn.ensemble._gb.GradientBoostingClassifier</td>\n",
              "    </tr>\n",
              "    <tr>\n",
              "      <th>21</th>\n",
              "      <td>a32b1c5a-c3d3-4a6a-bd9e-1713c07f3fa3</td>\n",
              "      <td>589ba941-0fdf-41f1-8a44-39204466f49a</td>\n",
              "      <td>FINISHED</td>\n",
              "      <td></td>\n",
              "      <td>2023-03-07 12:23:22.637000+00:00</td>\n",
              "      <td>2023-03-07 12:23:22.687000+00:00</td>\n",
              "      <td>0.0</td>\n",
              "      <td>0.0</td>\n",
              "      <td>0.793968</td>\n",
              "      <td>0.824622</td>\n",
              "      <td>...</td>\n",
              "      <td>0.0</td>\n",
              "      <td>0.0</td>\n",
              "      <td>0.0001</td>\n",
              "      <td>상우 김</td>\n",
              "      <td>81dbf6f3-f12f-42dc-acfc-f4d7e084e1e5</td>\n",
              "      <td>81dbf6f3-f12f-42dc-acfc-f4d7e084e1e5</td>\n",
              "      <td>fe79cc8c</td>\n",
              "      <td>81dbf6f3-f12f-42dc-acfc-f4d7e084e1e5</td>\n",
              "      <td>GradientBoostingClassifier</td>\n",
              "      <td>sklearn.ensemble._gb.GradientBoostingClassifier</td>\n",
              "    </tr>\n",
              "    <tr>\n",
              "      <th>15</th>\n",
              "      <td>391380da-2574-4388-9b90-98463f6be61e</td>\n",
              "      <td>589ba941-0fdf-41f1-8a44-39204466f49a</td>\n",
              "      <td>FINISHED</td>\n",
              "      <td></td>\n",
              "      <td>2023-03-07 11:41:27.036000+00:00</td>\n",
              "      <td>2023-03-07 11:42:37.181000+00:00</td>\n",
              "      <td>0.0</td>\n",
              "      <td>0.0</td>\n",
              "      <td>0.793968</td>\n",
              "      <td>0.824622</td>\n",
              "      <td>...</td>\n",
              "      <td>0.0</td>\n",
              "      <td>0.0</td>\n",
              "      <td>0.0001</td>\n",
              "      <td>김상우</td>\n",
              "      <td>heroic_toe_cfdh5l138j</td>\n",
              "      <td>heroic_toe_cfdh5l138j</td>\n",
              "      <td>814d99f3</td>\n",
              "      <td>heroic_toe_cfdh5l138j</td>\n",
              "      <td>GradientBoostingClassifier</td>\n",
              "      <td>sklearn.ensemble._gb.GradientBoostingClassifier</td>\n",
              "    </tr>\n",
              "    <tr>\n",
              "      <th>46</th>\n",
              "      <td>6c155abd-19cb-4ae7-a2cd-48dad7c1ba3e</td>\n",
              "      <td>589ba941-0fdf-41f1-8a44-39204466f49a</td>\n",
              "      <td>FINISHED</td>\n",
              "      <td></td>\n",
              "      <td>2023-03-07 13:40:53.261000+00:00</td>\n",
              "      <td>2023-03-07 13:40:53.314000+00:00</td>\n",
              "      <td>0.0</td>\n",
              "      <td>0.0</td>\n",
              "      <td>0.793968</td>\n",
              "      <td>0.824622</td>\n",
              "      <td>...</td>\n",
              "      <td>0.0</td>\n",
              "      <td>0.0</td>\n",
              "      <td>0.0001</td>\n",
              "      <td>김상우</td>\n",
              "      <td>dynamic_airport_18myqfbrkg</td>\n",
              "      <td>dynamic_airport_18myqfbrkg</td>\n",
              "      <td>f21f9b2a</td>\n",
              "      <td>dynamic_airport_18myqfbrkg</td>\n",
              "      <td>GradientBoostingClassifier</td>\n",
              "      <td>sklearn.ensemble._gb.GradientBoostingClassifier</td>\n",
              "    </tr>\n",
              "  </tbody>\n",
              "</table>\n",
              "<p>5 rows × 46 columns</p>\n",
              "</div>"
            ],
            "text/plain": [
              "                                  run_id  \\\n",
              "12  874b1810-0d0f-4d76-8ffa-770ac53b6c6d   \n",
              "9   8a29575c-7838-4400-b300-1109f5b10a25   \n",
              "21  a32b1c5a-c3d3-4a6a-bd9e-1713c07f3fa3   \n",
              "15  391380da-2574-4388-9b90-98463f6be61e   \n",
              "46  6c155abd-19cb-4ae7-a2cd-48dad7c1ba3e   \n",
              "\n",
              "                           experiment_id    status artifact_uri  \\\n",
              "12  589ba941-0fdf-41f1-8a44-39204466f49a  FINISHED                \n",
              "9   589ba941-0fdf-41f1-8a44-39204466f49a  FINISHED                \n",
              "21  589ba941-0fdf-41f1-8a44-39204466f49a  FINISHED                \n",
              "15  589ba941-0fdf-41f1-8a44-39204466f49a  FINISHED                \n",
              "46  589ba941-0fdf-41f1-8a44-39204466f49a  FINISHED                \n",
              "\n",
              "                         start_time                         end_time  \\\n",
              "12 2023-03-07 09:43:48.825000+00:00 2023-03-07 09:43:48.851000+00:00   \n",
              "9  2023-03-07 01:38:38.841000+00:00 2023-03-07 01:39:43.024000+00:00   \n",
              "21 2023-03-07 12:23:22.637000+00:00 2023-03-07 12:23:22.687000+00:00   \n",
              "15 2023-03-07 11:41:27.036000+00:00 2023-03-07 11:42:37.181000+00:00   \n",
              "46 2023-03-07 13:40:53.261000+00:00 2023-03-07 13:40:53.314000+00:00   \n",
              "\n",
              "    metrics.num_features  metrics.num_samples  metrics.training_roc_auc_score  \\\n",
              "12                   0.0                  0.0                        0.793803   \n",
              "9                    0.0                  0.0                        0.793803   \n",
              "21                   0.0                  0.0                        0.793968   \n",
              "15                   0.0                  0.0                        0.793968   \n",
              "46                   0.0                  0.0                        0.793968   \n",
              "\n",
              "    metrics.training_score  ...  params.min_weight_fraction_leaf  \\\n",
              "12                0.826889  ...                              0.0   \n",
              "9                 0.826889  ...                              0.0   \n",
              "21                0.824622  ...                              0.0   \n",
              "15                0.824622  ...                              0.0   \n",
              "46                0.824622  ...                              0.0   \n",
              "\n",
              "    params.min_impurity_decrease  params.tol  tags.mlflow.user  \\\n",
              "12                           0.0      0.0001               김상우   \n",
              "9                            0.0      0.0001               김상우   \n",
              "21                           0.0      0.0001              상우 김   \n",
              "15                           0.0      0.0001               김상우   \n",
              "46                           0.0      0.0001               김상우   \n",
              "\n",
              "                   tags.mlflow.rootRunId  \\\n",
              "12               serene_ocean_m32ymk9k4n   \n",
              "9               willing_house_7kpklq0km7   \n",
              "21  81dbf6f3-f12f-42dc-acfc-f4d7e084e1e5   \n",
              "15                 heroic_toe_cfdh5l138j   \n",
              "46            dynamic_airport_18myqfbrkg   \n",
              "\n",
              "                   tags.azureml.pipeline tags.azureml.nodeid  \\\n",
              "12               serene_ocean_m32ymk9k4n            c5d10fa7   \n",
              "9               willing_house_7kpklq0km7            72679786   \n",
              "21  81dbf6f3-f12f-42dc-acfc-f4d7e084e1e5            fe79cc8c   \n",
              "15                 heroic_toe_cfdh5l138j            814d99f3   \n",
              "46            dynamic_airport_18myqfbrkg            f21f9b2a   \n",
              "\n",
              "                 tags.mlflow.parentRunId         tags.estimator_name  \\\n",
              "12               serene_ocean_m32ymk9k4n  GradientBoostingClassifier   \n",
              "9               willing_house_7kpklq0km7  GradientBoostingClassifier   \n",
              "21  81dbf6f3-f12f-42dc-acfc-f4d7e084e1e5  GradientBoostingClassifier   \n",
              "15                 heroic_toe_cfdh5l138j  GradientBoostingClassifier   \n",
              "46            dynamic_airport_18myqfbrkg  GradientBoostingClassifier   \n",
              "\n",
              "                               tags.estimator_class  \n",
              "12  sklearn.ensemble._gb.GradientBoostingClassifier  \n",
              "9   sklearn.ensemble._gb.GradientBoostingClassifier  \n",
              "21  sklearn.ensemble._gb.GradientBoostingClassifier  \n",
              "15  sklearn.ensemble._gb.GradientBoostingClassifier  \n",
              "46  sklearn.ensemble._gb.GradientBoostingClassifier  \n",
              "\n",
              "[5 rows x 46 columns]"
            ]
          },
          "execution_count": 46,
          "metadata": {},
          "output_type": "execute_result"
        }
      ],
      "source": [
        "best_run_result = best_run_result.sort_values('metrics.training_f1_score', ascending=False)\n",
        "best_run_result.head()"
      ]
    },
    {
      "cell_type": "code",
      "execution_count": 47,
      "metadata": {
        "gather": {
          "logged": 1678182360038
        },
        "jupyter": {
          "outputs_hidden": false,
          "source_hidden": false
        },
        "nteract": {
          "transient": {
            "deleting": false
          }
        }
      },
      "outputs": [
        {
          "name": "stdout",
          "output_type": "stream",
          "text": [
            "874b1810-0d0f-4d76-8ffa-770ac53b6c6d 0.8054226894119054\n"
          ]
        }
      ],
      "source": [
        "# Print the best run ID and score\n",
        "if len(best_run_result) > 0:\n",
        "    best_run_id = best_run_result.iloc[0]['run_id']\n",
        "    best_score = best_run_result.iloc[0]['metrics.training_f1_score']    \n",
        "    print(best_run_id, best_score)\n",
        "else:\n",
        "    print(\"No runs found in the experiment.\")"
      ]
    },
    {
      "cell_type": "markdown",
      "metadata": {},
      "source": [
        "## Deploy the model as an online endpoint (이하는 옵션)\n",
        "\n",
        "Now deploy your machine learning model as a web service in the Azure cloud, an [`online endpoint`](https://docs.microsoft.com/azure/machine-learning/concept-endpoints).\n",
        "\n",
        "To deploy a machine learning service, you usually need:\n",
        "\n",
        "* The model assets (filed, metadata) that you want to deploy. You've already registered these assets in your training component.\n",
        "* Some code to run as a service. The code executes the model on a given input request. This entry script receives data submitted to a deployed web service and passes it to the model, then returns the model's response to the client. The script is specific to your model. The entry script must understand the data that the model expects and returns. When using a MLFlow model, as in this tutorial, this script is automatically created for you. Samples of scoring scripts can be found [here](https://github.com/Azure/azureml-examples/tree/sdk-preview/sdk/endpoints/online).\n",
        "\n"
      ]
    },
    {
      "cell_type": "markdown",
      "metadata": {},
      "source": [
        "## Create a new online endpoint\n",
        "\n",
        "Now that you have a registered model and an inference script, it's time to create your online endpoint. The endpoint name needs to be unique in the entire Azure region. For this tutorial, you'll create a unique name using [`UUID`](https://en.wikipedia.org/wiki/Universally_unique_identifier#:~:text=A%20universally%20unique%20identifier%20(UUID,%2C%20for%20practical%20purposes%2C%20unique.)."
      ]
    },
    {
      "cell_type": "code",
      "execution_count": 105,
      "metadata": {
        "attributes": {
          "classes": [
            "Python"
          ],
          "id": ""
        },
        "gather": {
          "logged": 1678182363100
        },
        "name": "online_endpoint_name"
      },
      "outputs": [],
      "source": [
        "import uuid\n",
        "\n",
        "# Creating a unique name for the endpoint\n",
        "online_endpoint_name = \"credit-endpoint-\" + str(uuid.uuid4())[:8]"
      ]
    },
    {
      "cell_type": "code",
      "execution_count": 106,
      "metadata": {
        "attributes": {
          "classes": [
            "Python"
          ],
          "id": ""
        },
        "name": "endpoint"
      },
      "outputs": [],
      "source": [
        "from azure.ai.ml.entities import (\n",
        "    ManagedOnlineEndpoint,\n",
        "    ManagedOnlineDeployment,\n",
        "    Model,\n",
        "    Environment,\n",
        ")\n",
        "\n",
        "# create an online endpoint\n",
        "endpoint = ManagedOnlineEndpoint(\n",
        "    name=online_endpoint_name,\n",
        "    description=\"this is an online endpoint\",\n",
        "    auth_mode=\"key\",\n",
        "    tags={\n",
        "        \"training_dataset\": \"credit_defaults\",\n",
        "        \"model_type\": \"sklearn.GradientBoostingClassifier\",\n",
        "    },\n",
        ")\n",
        "\n",
        "endpoint_result = ml_client.begin_create_or_update(endpoint).result()\n",
        "\n",
        "print(\n",
        "    f\"Endpint {endpoint_result.name} provisioning state: {endpoint_result.provisioning_state}\"\n",
        ")"
      ]
    },
    {
      "cell_type": "markdown",
      "metadata": {},
      "source": [
        "Once you've created an endpoint, you can retrieve it as below:"
      ]
    },
    {
      "cell_type": "code",
      "execution_count": null,
      "metadata": {
        "attributes": {
          "classes": [
            "Python"
          ],
          "id": ""
        },
        "name": "update-endpoint"
      },
      "outputs": [],
      "source": [
        "endpoint = ml_client.online_endpoints.get(name=online_endpoint_name)\n",
        "\n",
        "print(\n",
        "    f'Endpint \"{endpoint.name}\" with provisioning state \"{endpoint.provisioning_state}\" is retrieved'\n",
        ")"
      ]
    },
    {
      "cell_type": "markdown",
      "metadata": {},
      "source": [
        "## Deploy the model to the endpoint\n",
        "\n",
        "Once the endpoint is created, deploy the model with the entry script. Each endpoint can have multiple deployments and direct traffic to these deployments can be specified using rules. Here you'll create a single deployment that handles 100% of the incoming traffic. We have chosen a color name for the deployment, for example, *blue*, *green*, *red* deployments, which is arbitrary.\n",
        "\n",
        "You can check the *Models* page on the Azure ML studio, to identify the latest version of your registered model. Alternatively, the code below will retrieve the latest version number for you to use."
      ]
    },
    {
      "cell_type": "code",
      "execution_count": null,
      "metadata": {
        "attributes": {
          "classes": [
            "Python"
          ],
          "id": ""
        },
        "gather": {
          "logged": 1678065474746
        },
        "name": "latest_model_version"
      },
      "outputs": [],
      "source": [
        "# Let's pick the latest version of the model\n",
        "latest_model_version = max(\n",
        "    [int(m.version) for m in ml_client.models.list(name=registered_model_name)]\n",
        "\n",
        ")\n",
        "latest_model_version"
      ]
    },
    {
      "cell_type": "code",
      "execution_count": null,
      "metadata": {
        "gather": {
          "logged": 1678065800073
        },
        "jupyter": {
          "outputs_hidden": false,
          "source_hidden": false
        },
        "nteract": {
          "transient": {
            "deleting": false
          }
        }
      },
      "outputs": [],
      "source": [
        "for m in ml_client.models.list(name=registered_model_name):\n",
        "    print(m.flavors)"
      ]
    },
    {
      "cell_type": "markdown",
      "metadata": {},
      "source": [
        "Deploy the latest version of the model.  \n",
        "\n",
        "> [!NOTE]\n",
        "> Expect this deployment to take approximately 6 to 8 minutes."
      ]
    },
    {
      "cell_type": "code",
      "execution_count": null,
      "metadata": {
        "name": "model"
      },
      "outputs": [],
      "source": [
        "# picking the model to deploy. Here we use the latest version of our registered model\n",
        "model = ml_client.models.get(name=registered_model_name, version=latest_model_version)\n",
        "\n",
        "\n",
        "# create an online deployment.\n",
        "blue_deployment = ManagedOnlineDeployment(\n",
        "    name=\"blue\",\n",
        "    endpoint_name=online_endpoint_name,\n",
        "    model=model,\n",
        "    instance_type=\"Standard_F4s_v2\",\n",
        "    instance_count=1,\n",
        ")\n",
        "\n",
        "blue_deployment_results = ml_client.online_deployments.begin_create_or_update(\n",
        "    blue_deployment\n",
        ").result()\n",
        "\n",
        "print(\n",
        "    f\"Deployment {blue_deployment_results.name} provisioning state: {blue_deployment_results.provisioning_state}\"\n",
        ")"
      ]
    },
    {
      "cell_type": "markdown",
      "metadata": {},
      "source": [
        "### Test with a sample query\n",
        "\n",
        "Now that the model is deployed to the endpoint, you can run inference with it.\n",
        "\n",
        "Create a sample request file following the design expected in the run method in the score script."
      ]
    },
    {
      "cell_type": "code",
      "execution_count": null,
      "metadata": {
        "name": "sample-request.json"
      },
      "outputs": [],
      "source": [
        "deploy_dir = \"./deploy\"\n",
        "os.makedirs(deploy_dir, exist_ok=True)"
      ]
    },
    {
      "cell_type": "code",
      "execution_count": null,
      "metadata": {
        "name": "write-sample-request"
      },
      "outputs": [],
      "source": [
        "%%writefile {deploy_dir}/sample-request.json\n",
        "{\n",
        "  \"input_data\": {\n",
        "    \"columns\": [0,1,2,3,4,5,6,7,8,9,10,11,12,13,14,15,16,17,18,19,20,21,22],\n",
        "    \"index\": [0, 1],\n",
        "    \"data\": [\n",
        "            [20000,2,2,1,24,2,2,-1,-1,-2,-2,3913,3102,689,0,0,0,0,689,0,0,0,0],\n",
        "            [10, 9, 8, 7, 6, 5, 4, 3, 2, 1, 10, 9, 8, 7, 6, 5, 4, 3, 2, 1, 10, 9, 8]\n",
        "        ]\n",
        "  }\n",
        "}"
      ]
    },
    {
      "cell_type": "code",
      "execution_count": null,
      "metadata": {
        "attributes": {
          "classes": [
            "Python"
          ],
          "id": ""
        },
        "name": "ml_client.online_endpoints.invoke"
      },
      "outputs": [],
      "source": [
        "# test the blue deployment with some sample data\n",
        "ml_client.online_endpoints.invoke(\n",
        "    endpoint_name=online_endpoint_name,\n",
        "    request_file=\"./deploy/sample-request.json\",\n",
        "    deployment_name=\"blue\",\n",
        ")"
      ]
    },
    {
      "cell_type": "markdown",
      "metadata": {},
      "source": [
        "## Clean up resources\n",
        "\n",
        "If you're not going to use the endpoint, delete it to stop using the resource.  Make sure no other deployments are using an endpoint before you delete it.\n",
        "\n",
        "\n",
        "> [!NOTE]\n",
        "> Expect this step to take approximately 6 to 8 minutes."
      ]
    },
    {
      "cell_type": "code",
      "execution_count": null,
      "metadata": {
        "attributes": {
          "classes": [
            "python "
          ],
          "id": ""
        },
        "name": "ml_client.online_endpoints.begin_delete"
      },
      "outputs": [],
      "source": [
        "# ml_client.online_endpoints.begin_delete(name=online_endpoint_name)"
      ]
    },
    {
      "cell_type": "markdown",
      "metadata": {},
      "source": [
        "## Next Steps\n",
        "\n",
        "Learn more about [Azure ML logging](https://github.com/Azure/azureml-examples/blob/sdk-preview/notebooks/mlflow/mlflow-v1-comparison.ipynb)."
      ]
    }
  ],
  "metadata": {
    "categories": [
      "SDK v2",
      "tutorials"
    ],
    "celltoolbar": "Edit Metadata",
    "description": {
      "description": "Create production ML pipelines with Python SDK v2 in a Jupyter notebook"
    },
    "kernel_info": {
      "name": "python310-sdkv2"
    },
    "kernelspec": {
      "display_name": "Python 3.10 - SDK v2",
      "language": "python",
      "name": "python310-sdkv2"
    },
    "language_info": {
      "codemirror_mode": {
        "name": "ipython",
        "version": 3
      },
      "file_extension": ".py",
      "mimetype": "text/x-python",
      "name": "python",
      "nbconvert_exporter": "python",
      "pygments_lexer": "ipython3",
      "version": "3.10.9"
    },
    "microsoft": {
      "host": {
        "AzureML": {
          "notebookHasBeenCompleted": true
        }
      }
    },
    "nteract": {
      "version": "nteract-front-end@1.0.0"
    },
    "vscode": {
      "interpreter": {
        "hash": "78d13900fb236b5ce4c0b952de9b1270f1802c447ee20a989ea10ffd935aa825"
      }
    }
  },
  "nbformat": 4,
  "nbformat_minor": 1
}
