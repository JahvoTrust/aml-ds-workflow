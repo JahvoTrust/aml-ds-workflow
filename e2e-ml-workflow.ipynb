{
  "cells": [
    {
      "cell_type": "markdown",
      "metadata": {},
      "source": [
        "# Tutorial: Create production ML pipelines with Python SDK v2 (preview) in a Jupyter notebook\n"
      ]
    },
    {
      "cell_type": "markdown",
      "metadata": {},
      "source": [
        "**Learning Objectives** - By the end of this two part tutorial, you should be able to use Azure Machine Learning (Azure ML) to productionize your ML project.\n",
        "\n",
        "This means you will be able to leverage the AzureML Python SDK to:\n",
        "\n",
        "- connect to your Azure ML workspace\n",
        "- create Azure ML data assets\n",
        "- create reusable Azure ML components\n",
        "- create, validate and run Azure ML pipelines\n",
        "- deploy the newly-trained model as an endpoint\n",
        "- call the Azure ML endpoint for inferencing"
      ]
    },
    {
      "cell_type": "markdown",
      "metadata": {},
      "source": [
        "**Motivations** - This tutorial is intended to introduce Azure ML to data scientists who want to scale up or publish their ML projects. By completing a familiar end-to-end project, which starts by loading the data and ends by creating and calling an online inference endpoint, the user should become familiar with the core concepts of Azure ML and their most common usage. Each step of this tutorial can be modified or performed in other ways that might have security or scalability advantages. We will cover some of those in the Part II of this tutorial, however, we suggest the reader use the provide links in each section to learn more on each topic."
      ]
    },
    {
      "cell_type": "markdown",
      "metadata": {},
      "source": [
        "**Requirements** - In order to benefit from this tutorial, you need to have:\n",
        "- basic understanding of Machine Learning projects workflow\n",
        "- an Azure subscription. If you don't have an Azure subscription, [create a free account](https://aka.ms/AMLFree) before you begin.\n",
        "- a working Azure ML workspace. A workspace can be created via Azure Portal, Azure CLI, or Python SDK. [Read more](https://docs.microsoft.com/en-us/azure/machine-learning/how-to-manage-workspace?tabs=python).\n",
        "- a Python environmnet\n",
        "- [installed Azure Machine Learning Python SDK v2](https://github.com/Azure/azureml-examples/blob/sdk-preview/sdk/setup.sh)"
      ]
    },
    {
      "cell_type": "markdown",
      "metadata": {},
      "source": [
        "## Introduction\n",
        "\n",
        "In this tutorial, you'll create an Azure ML pipeline to train a model for credit default prediction. The pipeline handles the data preparation, training and registering the trained model.  You'll then run the pipeline, deploy the model and use it.\n",
        "\n",
        "The image below shows the pipeline as you'll see it in the AzureML portal once submitted. It's a rather simple pipeline we'll use to walk you through the AzureML SDK v2.\n",
        "\n",
        "The two steps are first data preparation and second training. \n",
        "\n",
        "![Screenshot that shows the AML Pipeline](media/pipeline-overview.jpg \"Overview of the pipeline\")\n",
        "\n",
        "An AzureML pipeline that runs from local components, requires several dependent files. Fo better understanding of the project structure, we produce all these dependencies in the notebook cells. By the end of this tutorial, the project structure should look like:\n",
        "```\n",
        "e2e-ds-experience  \n",
        "    components\n",
        "        data_prep\n",
        "            data_prep.py\n",
        "            data_prep.yml  \n",
        "        train\n",
        "            train.py\n",
        "            train.yml   \n",
        "    dependencies\n",
        "        conda.yml\n",
        "    deploy\n",
        "        sample-request.json\n",
        "    media\n",
        "        metrics.jpg\n",
        "        pipeline-overview.jpg\n",
        "        user-logs.jpg\n",
        "    e2e-ml-workflow.ipynb\n",
        "```\n",
        "After running this notebook, you should be able to create the project direcetly in the IDE of your choice, instead.\n",
        "\n",
        "## Set up the pipeline resources\n",
        "\n",
        "The Azure ML framework can be used from CLI, Python SDK, or studio interface. In this example, you'll use the AzureML Python SDK v2 to create a pipeline. \n",
        "\n",
        "Before creating the pipeline, you'll set up the resources the pipeline will use:\n",
        "\n",
        "* The dataset for training\n",
        "* The software environment to run the pipeline\n",
        "* A compute resource to where the job will run\n",
        "\n",
        "## AML을 시작하기위한 주요흐름\n",
        "\n",
        "1. Connect to Azure Machine Learning workspace\n",
        "\n",
        "2. Create compute\n",
        "\n",
        "3. Create a job environment\n",
        "\n",
        "4. Build the command job to data preparation and train\n",
        "\n",
        "5. Configure the Command\n",
        "\n",
        "6. Submit the job\n",
        "\n",
        "## Connect to the workspace\n",
        "\n",
        "Before we dive in the code, you'll need to connect to your Azure ML workspace. The workspace is the top-level resource for Azure Machine Learning, providing a centralized place to work with all the artifacts you create when you use Azure Machine Learning.\n",
        "\n",
        "We are using `DefaultAzureCredential` to get access to workspace. \n",
        "`DefaultAzureCredential` should be capable of handling most Azure SDK authentication scenarios. \n",
        "\n",
        "Reference for more available credentials if it does not work for you: [configure credential example](../../configuration.ipynb), [azure-identity reference doc](https://docs.microsoft.com/en-us/python/api/azure-identity/azure.identity?view=azure-python)."
      ]
    },
    {
      "cell_type": "code",
      "execution_count": 1,
      "metadata": {
        "attributes": {
          "classes": [
            "Python"
          ],
          "id": ""
        },
        "gather": {
          "logged": 1678198491699
        },
        "name": "import-mlclient"
      },
      "outputs": [],
      "source": [
        "# Handle to the workspace\n",
        "from azure.ai.ml import MLClient\n",
        "\n",
        "# Authentication package\n",
        "from azure.identity import DefaultAzureCredential, InteractiveBrowserCredential\n",
        "\n",
        "try:\n",
        "    credential = DefaultAzureCredential()\n",
        "    # Check if given credential can get token successfully.\n",
        "    credential.get_token(\"https://management.azure.com/.default\")\n",
        "except Exception as ex:\n",
        "    # Fall back to InteractiveBrowserCredential in case DefaultAzureCredential not work\n",
        "    credential = InteractiveBrowserCredential()"
      ]
    },
    {
      "cell_type": "markdown",
      "metadata": {},
      "source": [
        "In the next cell, enter your Subscription ID, Resource Group name and Workspace name. To find your Subscription ID:\n",
        "1. In the upper right Azure Machine Learning Studio toolbar, select your workspace name.\n",
        "1. At the bottom, select **View all properties in Azure Portal**\n",
        "1. Copy the value from Azure Portal into the code."
      ]
    },
    {
      "cell_type": "code",
      "execution_count": 2,
      "metadata": {
        "attributes": {
          "classes": [
            "Python"
          ],
          "id": ""
        },
        "gather": {
          "logged": 1678198494676
        },
        "name": "ml_client"
      },
      "outputs": [],
      "source": [
        "# Get a handle to the workspace\n",
        "ml_client = MLClient(\n",
        "    credential=credential,\n",
        "    subscription_id=\"<subscription_id>\",\n",
        "    resource_group_name=\"<resource_group_name>\",\n",
        "    workspace_name=\"<workspace_name>\",\n",
        ")"
      ]
    },
    {
      "cell_type": "code",
      "execution_count": 2,
      "metadata": {},
      "outputs": [],
      "source": [
        "# Get a handle to the workspace\n",
        "ml_client = MLClient(\n",
        "    credential=credential,\n",
        "    subscription_id=\"996049d2-a088-4535-84c6-293862437c2e\",\n",
        "    resource_group_name=\"rg-aml-demo\",\n",
        "    workspace_name=\"ssc-mlops\",\n",
        ")"
      ]
    },
    {
      "cell_type": "markdown",
      "metadata": {},
      "source": [
        "The result is a handler to the workspace that you'll use to manage other resources and jobs.\n",
        "\n",
        "> [!IMPORTANT]\n",
        "> Creating MLClient will not connect to the workspace. The client initialization is lazy, it will wait for the first time it needs to make a call (in the notebook below, that will happen during dataset registration).\n",
        "\n",
        "## Register data from an external url\n",
        "\n",
        "The data you use for training is usually in one of the locations below:\n",
        "\n",
        "* Local machine\n",
        "* Web\n",
        "* Big Data Storage services (for example, Azure Blob, Azure Data Lake Storage, SQL)\n",
        " \n",
        "Azure ML uses a [`Data`](https://docs.microsoft.com/azure/machine-learning/how-to-create-register-data-assets?tabs=Python-SDK) object to register a reusable definition of data, and consume data within a pipeline. In the section below, you'll consume some data from web url as one example. `Data` assets ets from other sources can be created as well."
      ]
    },
    {
      "cell_type": "markdown",
      "metadata": {
        "nteract": {
          "transient": {
            "deleting": false
          }
        }
      },
      "source": [
        "## 외부 데이터셋 등록 방법."
      ]
    },
    {
      "cell_type": "code",
      "execution_count": 80,
      "metadata": {
        "gather": {
          "logged": 1678182211606
        },
        "name": "credit_data"
      },
      "outputs": [],
      "source": [
        "# from azure.ai.ml.entities import Data\n",
        "# from azure.ai.ml.constants import AssetTypes\n",
        "\n",
        "# web_path = \"https://archive.ics.uci.edu/ml/machine-learning-databases/00350/default%20of%20credit%20card%20clients.xls\"\n",
        "\n",
        "# credit_data = Data(\n",
        "#     name=\"inputdata\",\n",
        "#     path=web_path,\n",
        "#     type=AssetTypes.URI_FILE,\n",
        "#     description=\"Dataset for credit card defaults\",\n",
        "#     tags={\"source_type\": \"web\", \"source\": \"UCI ML Repo\"},\n",
        "#     version=\"1.0.1\",\n",
        "# )"
      ]
    },
    {
      "cell_type": "markdown",
      "metadata": {},
      "source": [
        "This code just created a `Data` asset, it is ready to be consumed as an input by the pipeline that you'll define in the next sections. In addition, you can register the data to your workspace so it becomes reusable across pipelines.\n",
        "\n",
        "Registering the data asset will enable you to:\n",
        "\n",
        "* reuse and share the data asset in future pipelines\n",
        "* use versions to track the modification to the data asset\n",
        "* use the data asset from Azure ML designer, which is Azure ML's GUI for pipeline authoring\n",
        "\n",
        "Since this is the first time that you're making a call to the workspace, you may be asked to authenticate. Once the authentication is complete, you'll then see the dataset registration completion message."
      ]
    },
    {
      "cell_type": "code",
      "execution_count": 81,
      "metadata": {
        "attributes": {
          "classes": [
            "Python"
          ],
          "id": ""
        },
        "gather": {
          "logged": 1678182212610
        },
        "name": "update-credit_data"
      },
      "outputs": [],
      "source": [
        "# credit_data = ml_client.data.create_or_update(credit_data)\n",
        "# print(\n",
        "#     f\"Dataset with name {credit_data.name} was registered to workspace, the dataset version is {credit_data.version}\"\n",
        "# )"
      ]
    },
    {
      "cell_type": "markdown",
      "metadata": {
        "nteract": {
          "transient": {
            "deleting": false
          }
        }
      },
      "source": [
        "## Azure Machine Learning Studio 에서 sscinpudata inputdata를 등록한다.(데이터 메뉴로 이동.)"
      ]
    },
    {
      "cell_type": "code",
      "execution_count": 3,
      "metadata": {
        "gather": {
          "logged": 1678198500112
        },
        "jupyter": {
          "outputs_hidden": false,
          "source_hidden": false
        },
        "nteract": {
          "transient": {
            "deleting": false
          }
        }
      },
      "outputs": [
        {
          "name": "stdout",
          "output_type": "stream",
          "text": [
            "Dataset with name sscinpudata was registered to workspace, the dataset version is 1\n"
          ]
        }
      ],
      "source": [
        "credit_data = ml_client.data.get(name=\"sscinpudata\", version=\"1\")\n",
        "print(\n",
        "    f\"Dataset with name {credit_data.name} was registered to workspace, the dataset version is {credit_data.version}\"\n",
        ")"
      ]
    },
    {
      "cell_type": "markdown",
      "metadata": {},
      "source": [
        "In the future, you can fetch the same dataset from the workspace using `credit_dataset = ml_client.data.get(\"<DATA ASSET NAME>\", version='<VERSION>')`.\n",
        "\n",
        "## Create a Compute Resource to run our pipeline\n",
        "\n",
        "Each step of an Azure ML pipeline can use a different compute resource for running the specific job of that step. It can be single or multi-node machines with Linux or Windows OS, or a specific compute fabric like Spark.\n",
        "\n",
        "In this section, we provision a Linux [compute cluster](https://docs.microsoft.com/azure/machine-learning/how-to-create-attach-compute-cluster?tabs=python). See the [full list on VM sizes and prices](https://azure.microsoft.com/en-ca/pricing/details/machine-learning/) .\n",
        "\n",
        "For this tutorial we only need a basic cluster, let's pick a Standard_DS3_v2 model with 2 vCPU cores, 7 GB RAM and create an Azure ML Compute\n",
        "\n",
        "AML 스튜디오에서 해당 클러스터를 생성할수도 있음."
      ]
    },
    {
      "cell_type": "code",
      "execution_count": 4,
      "metadata": {
        "gather": {
          "logged": 1678198504053
        },
        "name": "cpu_cluster"
      },
      "outputs": [
        {
          "name": "stdout",
          "output_type": "stream",
          "text": [
            "You already have a cluster named cpu-cluster, we'll reuse it as is.\n",
            "AMLCompute with name cpu-cluster is created, the compute size is STANDARD_DS3_V2\n"
          ]
        }
      ],
      "source": [
        "from azure.ai.ml.entities import AmlCompute\n",
        "\n",
        "cpu_compute_target = \"cpu-cluster\"\n",
        "\n",
        "try:\n",
        "    # let's see if the compute target already exists\n",
        "    cpu_cluster = ml_client.compute.get(cpu_compute_target)\n",
        "    print(\n",
        "        f\"You already have a cluster named {cpu_compute_target}, we'll reuse it as is.\"\n",
        "    )\n",
        "\n",
        "except Exception:\n",
        "    print(\"Creating a new cpu compute target...\")\n",
        "\n",
        "    # Let's create the Azure ML compute object with the intended parameters\n",
        "    cpu_cluster = AmlCompute(\n",
        "        # Name assigned to the compute cluster\n",
        "        name=\"cpu-cluster\",\n",
        "        # Azure ML Compute is the on-demand VM service\n",
        "        type=\"amlcompute\",\n",
        "        # VM Family\n",
        "        size=\"STANDARD_DS3_V2\",\n",
        "        # Minimum running nodes when there is no job running\n",
        "        min_instances=0,\n",
        "        # Nodes in cluster\n",
        "        max_instances=4,\n",
        "        # How many seconds will the node running after the job termination\n",
        "        idle_time_before_scale_down=180,\n",
        "        # Dedicated or LowPriority. The latter is cheaper but there is a chance of job termination\n",
        "        tier=\"Dedicated\",\n",
        "    )\n",
        "\n",
        "    # Now, we pass the object to MLClient's create_or_update method\n",
        "    cpu_cluster = ml_client.begin_create_or_update(cpu_cluster)\n",
        "\n",
        "print(\n",
        "    f\"AMLCompute with name {cpu_cluster.name} is created, the compute size is {cpu_cluster.size}\"\n",
        ")"
      ]
    },
    {
      "cell_type": "markdown",
      "metadata": {},
      "source": [
        "## Create a job environment for pipeline steps\n",
        "\n",
        "So far, you've created a development environment on the compute instance, your development machine. You'll also need an [environment](https://docs.microsoft.com/azure/machine-learning/concept-environments) to use for each step of the pipeline. Each step can have its own environment, or you can use some common environments for multiple steps.\n",
        "\n",
        "In this example, you'll create a conda environment for your jobs, using a conda yaml file.\n",
        "First, create a directory to store the file in."
      ]
    },
    {
      "cell_type": "code",
      "execution_count": 5,
      "metadata": {
        "gather": {
          "logged": 1678198507791
        },
        "name": "dependencies_dir"
      },
      "outputs": [],
      "source": [
        "import os\n",
        "\n",
        "dependencies_dir = \"./dependencies\"\n",
        "os.makedirs(dependencies_dir, exist_ok=True)"
      ]
    },
    {
      "cell_type": "markdown",
      "metadata": {},
      "source": [
        "Now, create the file in the dependencies directory."
      ]
    },
    {
      "cell_type": "code",
      "execution_count": 6,
      "metadata": {
        "attributes": {
          "classes": [
            "Python"
          ],
          "id": ""
        },
        "name": "conda.yml"
      },
      "outputs": [
        {
          "name": "stdout",
          "output_type": "stream",
          "text": [
            "Overwriting ./dependencies/conda.yml\n"
          ]
        }
      ],
      "source": [
        "%%writefile {dependencies_dir}/conda.yml\n",
        "name: model-env\n",
        "channels:\n",
        "  - conda-forge\n",
        "dependencies:\n",
        "  - python=3.8\n",
        "  - numpy=1.21.2\n",
        "  - pip=21.2.4\n",
        "  - scikit-learn=0.24.2\n",
        "  - scipy=1.7.1\n",
        "  - pandas>=1.1,<1.2\n",
        "  - pip:\n",
        "    - inference-schema[numpy-support]==1.3.0\n",
        "    - xlrd==2.0.1\n",
        "    - mlflow== 1.26.1\n",
        "    - azureml-mlflow==1.42.0"
      ]
    },
    {
      "cell_type": "markdown",
      "metadata": {},
      "source": [
        "The specification contains some usual packages, that you'll use in your pipeline (numpy, pip).\n",
        "\n",
        "\n",
        "Use the *yaml* file to create and register this custom environment in your workspace:"
      ]
    },
    {
      "cell_type": "markdown",
      "metadata": {
        "nteract": {
          "transient": {
            "deleting": false
          }
        }
      },
      "source": [
        "## ML을 위한 환경등록 재사용가능"
      ]
    },
    {
      "cell_type": "code",
      "execution_count": 7,
      "metadata": {
        "attributes": {
          "classes": [
            "Python"
          ],
          "id": ""
        },
        "gather": {
          "logged": 1678198515642
        },
        "name": "custom_env_name"
      },
      "outputs": [
        {
          "name": "stdout",
          "output_type": "stream",
          "text": [
            "Environment with name aml-scikit-learn is registered to workspace, the environment version is 0.1.0\n"
          ]
        }
      ],
      "source": [
        "from azure.ai.ml.entities import Environment\n",
        "\n",
        "custom_env_name = \"aml-scikit-learn\"\n",
        "\n",
        "pipeline_job_env = Environment(\n",
        "    name=custom_env_name,\n",
        "    description=\"Custom environment for Credit Card Defaults pipeline\",\n",
        "    tags={\"scikit-learn\": \"0.24.2\"},\n",
        "    conda_file=os.path.join(dependencies_dir, \"conda.yml\"),\n",
        "    image=\"mcr.microsoft.com/azureml/openmpi4.1.0-ubuntu20.04:latest\",\n",
        "    version=\"0.1.0\",\n",
        ")\n",
        "pipeline_job_env = ml_client.environments.create_or_update(pipeline_job_env)\n",
        "\n",
        "print(\n",
        "    f\"Environment with name {pipeline_job_env.name} is registered to workspace, the environment version is {pipeline_job_env.version}\"\n",
        ")"
      ]
    },
    {
      "cell_type": "markdown",
      "metadata": {},
      "source": [
        "## Build the training pipeline\n",
        "\n",
        "Now that you have all assets required to run your pipeline, it's time to build the pipeline itself, using the Azure ML Python SDK v2.\n",
        "\n",
        "Azure ML pipelines are reusable ML workflows that usually consist of several components. The typical life of a component is:\n",
        "\n",
        "* Write the yaml specification of the component.\n",
        "* Optionally, register the component with a name and version in your workspace, to make it reusable and shareable.\n",
        "* Load that component from the pipeline code.\n",
        "* Implement the pipeline using this component inputs, outputs and parameters.\n",
        "* Submit the pipeline.\n",
        "\n",
        "## Create component 1: data prep \n",
        "\n",
        "Let's start by creating the first component. This component handles the preprocessing of the data. The preprocessing task is performed in the *data_prep.py* python file.\n",
        "\n",
        "First create a source folder for the data_prep component:"
      ]
    },
    {
      "cell_type": "code",
      "execution_count": 8,
      "metadata": {
        "attributes": {
          "classes": [
            "Python"
          ],
          "id": ""
        },
        "gather": {
          "logged": 1678198520560
        },
        "name": "data_prep_src_dir"
      },
      "outputs": [],
      "source": [
        "import os\n",
        "\n",
        "data_prep_src_dir = \"./components/data_prep\"\n",
        "os.makedirs(data_prep_src_dir, exist_ok=True)"
      ]
    },
    {
      "cell_type": "markdown",
      "metadata": {},
      "source": [
        "This script performs the simple task of splitting the data into train and test datasets. \n",
        "\n",
        "[MLFlow](https://mlflow.org/docs/latest/tracking.html) will be used to log the parameters and metrics during our pipeline run."
      ]
    },
    {
      "cell_type": "markdown",
      "metadata": {
        "nteract": {
          "transient": {
            "deleting": false
          }
        }
      },
      "source": [
        "## component 1: data_prep.py"
      ]
    },
    {
      "cell_type": "code",
      "execution_count": 9,
      "metadata": {
        "attributes": {
          "classes": [
            "Python"
          ],
          "id": ""
        },
        "name": "def-main"
      },
      "outputs": [
        {
          "name": "stdout",
          "output_type": "stream",
          "text": [
            "Overwriting ./components/data_prep/data_prep.py\n"
          ]
        }
      ],
      "source": [
        "%%writefile {data_prep_src_dir}/data_prep.py\n",
        "import os\n",
        "import argparse\n",
        "import pandas as pd\n",
        "from sklearn.model_selection import train_test_split\n",
        "import logging\n",
        "import mlflow\n",
        "\n",
        "\n",
        "def main():\n",
        "    \"\"\"Main function of the script.\"\"\"\n",
        "\n",
        "    # input and output arguments\n",
        "    parser = argparse.ArgumentParser()\n",
        "    parser.add_argument(\"--data\", type=str, help=\"path to input data\")\n",
        "    parser.add_argument(\"--test_train_ratio\", type=float, required=False, default=0.25)\n",
        "    parser.add_argument(\"--train_data\", type=str, help=\"path to train data\")\n",
        "    parser.add_argument(\"--test_data\", type=str, help=\"path to test data\")\n",
        "    args = parser.parse_args()\n",
        "\n",
        "    # Start Logging\n",
        "    mlflow.start_run()\n",
        "\n",
        "    print(\" \".join(f\"{k}={v}\" for k, v in vars(args).items()))\n",
        "\n",
        "    print(\"input data:\", args.data)\n",
        "\n",
        "    credit_df = pd.read_excel(args.data, header=1, index_col=0)\n",
        "\n",
        "    mlflow.log_metric(\"num_samples\", credit_df.shape[0])\n",
        "    mlflow.log_metric(\"num_features\", credit_df.shape[1] - 1)\n",
        "\n",
        "    credit_train_df, credit_test_df = train_test_split(\n",
        "        credit_df,\n",
        "        test_size=args.test_train_ratio,\n",
        "    )\n",
        "\n",
        "    # output paths are mounted as folder, therefore, we are adding a filename to the path\n",
        "    credit_train_df.to_csv(os.path.join(args.train_data, \"data.csv\"), index=False)\n",
        "\n",
        "    credit_test_df.to_csv(os.path.join(args.test_data, \"data.csv\"), index=False)\n",
        "\n",
        "    # Stop Logging\n",
        "    mlflow.end_run()\n",
        "\n",
        "\n",
        "if __name__ == \"__main__\":\n",
        "    main()"
      ]
    },
    {
      "cell_type": "markdown",
      "metadata": {},
      "source": [
        "Now that you have a script that can perform the desired task, we can create an Azure ML Component from it. Azure ML support various types of components for performing ML tasks, such as running scripts, data transfer, etc.\n",
        "\n",
        "A component can be created by calling the component instantiators, or directly writing the defining yaml file. \n",
        "\n",
        "You'll use the general purpose **command** that can run command line actions. This command line action can be directly calling system commands or running a script. The inputs/outputs are accessible in the command via the `${{ ... }}` notation. For the second component of this tutorial you will use `yaml` definitions.\n"
      ]
    },
    {
      "cell_type": "code",
      "execution_count": 10,
      "metadata": {
        "gather": {
          "logged": 1678198527609
        },
        "jupyter": {
          "outputs_hidden": false,
          "source_hidden": false
        },
        "nteract": {
          "transient": {
            "deleting": false
          }
        }
      },
      "outputs": [],
      "source": [
        "# importing the Component Package\n",
        "from azure.ai.ml import load_component\n",
        "\n",
        "# Loading the component from the yml file\n",
        "data_prep_component = load_component(source=os.path.join(data_prep_src_dir, \"data_prep.yml\"))"
      ]
    },
    {
      "cell_type": "markdown",
      "metadata": {},
      "source": [
        "## register the component to the workspace (option)"
      ]
    },
    {
      "cell_type": "code",
      "execution_count": 11,
      "metadata": {
        "gather": {
          "logged": 1678198533181
        },
        "jupyter": {
          "outputs_hidden": false,
          "source_hidden": false
        },
        "nteract": {
          "transient": {
            "deleting": false
          }
        }
      },
      "outputs": [
        {
          "name": "stdout",
          "output_type": "stream",
          "text": [
            "Component data_prep_credit_defaults with Version 2023-03-07-14-15-31-6104889 is registered\n"
          ]
        }
      ],
      "source": [
        "# Now we register the component to the workspace\n",
        "data_prep_component = ml_client.create_or_update(data_prep_component)\n",
        "\n",
        "# Create (register) the component in your workspace\n",
        "print(\n",
        "    f\"Component {data_prep_component.name} with Version {data_prep_component.version} is registered\"\n",
        ")"
      ]
    },
    {
      "cell_type": "markdown",
      "metadata": {
        "nteract": {
          "transient": {
            "deleting": false
          }
        }
      },
      "source": [
        "## component 1: command 설정 (programming 설정)"
      ]
    },
    {
      "cell_type": "code",
      "execution_count": 89,
      "metadata": {
        "gather": {
          "logged": 1678182218566
        },
        "name": "data_prep_component"
      },
      "outputs": [],
      "source": [
        "# from azure.ai.ml import command\n",
        "# from azure.ai.ml import Input, Output\n",
        "\n",
        "# data_prep_component = command(\n",
        "#     name=\"data_prep_credit_defaults\",\n",
        "#     display_name=\"Data preparation for training\",\n",
        "#     description=\"reads a .xl input, split the input to train and test\",\n",
        "#     inputs={\n",
        "#         \"data\": Input(type=\"uri_folder\"),\n",
        "#         \"test_train_ratio\": Input(type=\"number\"),\n",
        "#     },\n",
        "#     outputs=dict(\n",
        "#         train_data=Output(type=\"uri_folder\", mode=\"rw_mount\"),\n",
        "#         test_data=Output(type=\"uri_folder\", mode=\"rw_mount\"),\n",
        "#     ),\n",
        "#     # The source folder of the component\n",
        "#     code=data_prep_src_dir,\n",
        "#     command=\"\"\"python data_prep.py \\\n",
        "#             --data ${{inputs.data}} --test_train_ratio ${{inputs.test_train_ratio}} \\\n",
        "#             --train_data ${{outputs.train_data}} --test_data ${{outputs.test_data}} \\\n",
        "#             \"\"\",\n",
        "#     environment=f\"{pipeline_job_env.name}:{pipeline_job_env.version}\",\n",
        "# )"
      ]
    },
    {
      "cell_type": "markdown",
      "metadata": {
        "nteract": {
          "transient": {
            "deleting": false
          }
        }
      },
      "source": [
        "Optionally, register the component in the workspace for future re-use. **command()** is a component builder, in order to fetch the component itself, we need to call the **.component** property from it."
      ]
    },
    {
      "cell_type": "code",
      "execution_count": 90,
      "metadata": {
        "gather": {
          "logged": 1678182220376
        }
      },
      "outputs": [
        {
          "name": "stdout",
          "output_type": "stream",
          "text": [
            "Component data_prep_credit_defaults with Version 2023-03-07-09-43-39-1746682 is registered\n"
          ]
        }
      ],
      "source": [
        "# # Now we register the component to the workspace\n",
        "# data_prep_component = ml_client.create_or_update(data_prep_component.component)\n",
        "\n",
        "# # Create (register) the component in your workspace\n",
        "# print(\n",
        "#     f\"Component {data_prep_component.name} with Version {data_prep_component.version} is registered\"\n",
        "# )"
      ]
    },
    {
      "cell_type": "markdown",
      "metadata": {},
      "source": [
        "## Create component 2: training (using yaml definition)\n",
        "\n",
        "The second component that you'll create will consume the training and test data, train a tree based model and return the output model. You'll use Azure ML logging capabilities to record and visualize the learning progress.\n",
        "\n",
        "You used the `command` class to create your first component. This time you'll use the yaml definition to define the second component. Each method has its own advantages. A yaml definition can actually be checked-in along the code, and would provide a readable history tracking. Also, the same yaml file can be used in the CLI for component deficnition. The programmatic method using `command` can be easier with built-in class documentation and code completion.\n",
        "\n",
        "\n",
        "Create the directory for this component:"
      ]
    },
    {
      "cell_type": "code",
      "execution_count": 11,
      "metadata": {
        "attributes": {
          "classes": [
            "Python"
          ],
          "id": ""
        },
        "gather": {
          "logged": 1678198539079
        },
        "name": "train_src_dir"
      },
      "outputs": [],
      "source": [
        "import os\n",
        "\n",
        "train_src_dir = \"./components/train\"\n",
        "os.makedirs(train_src_dir, exist_ok=True)"
      ]
    },
    {
      "cell_type": "markdown",
      "metadata": {},
      "source": [
        "Create the training script in the directory:"
      ]
    },
    {
      "cell_type": "code",
      "execution_count": 12,
      "metadata": {
        "attributes": {
          "classes": [
            "Python"
          ],
          "id": ""
        },
        "name": "train.py"
      },
      "outputs": [
        {
          "name": "stdout",
          "output_type": "stream",
          "text": [
            "Overwriting ./components/train/train.py\n"
          ]
        }
      ],
      "source": [
        "%%writefile {train_src_dir}/train.py\n",
        "import argparse\n",
        "from sklearn.ensemble import GradientBoostingClassifier\n",
        "from sklearn.metrics import classification_report\n",
        "import os\n",
        "import pandas as pd\n",
        "import mlflow\n",
        "\n",
        "\n",
        "def select_first_file(path):\n",
        "    \"\"\"Selects first file in folder, use under assumption there is only one file in folder\n",
        "    Args:\n",
        "        path (str): path to directory or file to choose\n",
        "    Returns:\n",
        "        str: full path of selected file\n",
        "    \"\"\"\n",
        "    files = os.listdir(path)\n",
        "    return os.path.join(path, files[0])\n",
        "\n",
        "\n",
        "# Start Logging\n",
        "mlflow.start_run()\n",
        "\n",
        "# enable autologging\n",
        "mlflow.sklearn.autolog()\n",
        "\n",
        "os.makedirs(\"./outputs\", exist_ok=True)\n",
        "\n",
        "\n",
        "def main():\n",
        "    \"\"\"Main function of the script.\"\"\"\n",
        "\n",
        "    # input and output arguments\n",
        "    parser = argparse.ArgumentParser()\n",
        "    parser.add_argument(\"--train_data\", type=str, help=\"path to train data\")\n",
        "    parser.add_argument(\"--test_data\", type=str, help=\"path to test data\")\n",
        "    parser.add_argument(\"--n_estimators\", required=False, default=100, type=int)\n",
        "    parser.add_argument(\"--learning_rate\", required=False, default=0.1, type=float)\n",
        "    parser.add_argument(\"--registered_model_name\", type=str, help=\"model name\")\n",
        "    parser.add_argument(\"--model\", type=str, help=\"path to model file\")\n",
        "    args = parser.parse_args()\n",
        "\n",
        "    # paths are mounted as folder, therefore, we are selecting the file from folder\n",
        "    train_df = pd.read_csv(select_first_file(args.train_data))\n",
        "\n",
        "    # Extracting the label column\n",
        "    y_train = train_df.pop(\"default payment next month\")\n",
        "\n",
        "    # convert the dataframe values to array\n",
        "    X_train = train_df.values\n",
        "\n",
        "    # paths are mounted as folder, therefore, we are selecting the file from folder\n",
        "    test_df = pd.read_csv(select_first_file(args.test_data))\n",
        "\n",
        "    # Extracting the label column\n",
        "    y_test = test_df.pop(\"default payment next month\")\n",
        "\n",
        "    # convert the dataframe values to array\n",
        "    X_test = test_df.values\n",
        "\n",
        "    print(f\"Training with data of shape {X_train.shape}\")\n",
        "\n",
        "    clf = GradientBoostingClassifier(\n",
        "        n_estimators=args.n_estimators, learning_rate=args.learning_rate\n",
        "    )\n",
        "    clf.fit(X_train, y_train)\n",
        "\n",
        "    y_pred = clf.predict(X_test)\n",
        "\n",
        "    print(classification_report(y_test, y_pred))\n",
        "\n",
        "    # # Registering the model to the workspace\n",
        "    # print(\"Registering the model via MLFlow\")\n",
        "    # mlflow.sklearn.log_model(\n",
        "    #     sk_model=clf,\n",
        "    #     registered_model_name=args.registered_model_name,\n",
        "    #     artifact_path=args.registered_model_name,\n",
        "    # )\n",
        "\n",
        "    # Saving the model to a file\n",
        "    # mlflow.sklearn.save_model(clf, args.model)\n",
        "    mlflow.sklearn.save_model(\n",
        "        sk_model=clf,\n",
        "        path=os.path.join(args.model, \"trained_model\"),\n",
        "    )\n",
        "\n",
        "    # Stop Logging\n",
        "    mlflow.end_run()\n",
        "\n",
        "\n",
        "if __name__ == \"__main__\":\n",
        "    main()"
      ]
    },
    {
      "cell_type": "markdown",
      "metadata": {},
      "source": [
        "As you can see in this training script, once the model is trained, the model file is saved and registered to the workspace. Now you can use the registered model in inferencing endpoints.\n",
        "\n",
        "\n",
        "For the environment of this step, you'll use one of the built-in (curated) Azure ML environments. The tag `azureml`, tells the system to use look for the name in curated environments.\n",
        "\n",
        "First, create the *yaml* file describing the component:"
      ]
    },
    {
      "cell_type": "code",
      "execution_count": 13,
      "metadata": {
        "attributes": {
          "classes": [
            "Python"
          ],
          "id": ""
        },
        "name": "train.yml"
      },
      "outputs": [
        {
          "name": "stdout",
          "output_type": "stream",
          "text": [
            "Overwriting ./components/train/train.yml\n"
          ]
        }
      ],
      "source": [
        "%%writefile {train_src_dir}/train.yml\n",
        "# <component>\n",
        "name: train_credit_defaults_model\n",
        "display_name: Train Credit Defaults Model\n",
        "# version: 1 # Not specifying a version will automatically update the version\n",
        "type: command\n",
        "inputs:\n",
        "  train_data: \n",
        "    type: uri_folder\n",
        "  test_data: \n",
        "    type: uri_folder\n",
        "  learning_rate:\n",
        "    type: number     \n",
        "  registered_model_name:\n",
        "    type: string\n",
        "outputs:\n",
        "  model:\n",
        "    type: uri_folder\n",
        "code: .\n",
        "environment:\n",
        "  # for this step, we'll use an AzureML curate environment\n",
        "  azureml:AzureML-sklearn-1.0-ubuntu20.04-py38-cpu:1\n",
        "command: >-\n",
        "  python train.py \n",
        "  --train_data ${{inputs.train_data}} \n",
        "  --test_data ${{inputs.test_data}} \n",
        "  --learning_rate ${{inputs.learning_rate}}\n",
        "  --registered_model_name ${{inputs.registered_model_name}} \n",
        "  --model ${{outputs.model}}\n",
        "# </component>\n"
      ]
    },
    {
      "cell_type": "markdown",
      "metadata": {},
      "source": [
        "Once the `yaml` file and the script are ready, you can create your component using `load_component()`. "
      ]
    },
    {
      "cell_type": "code",
      "execution_count": 14,
      "metadata": {
        "attributes": {
          "classes": [
            "Python"
          ],
          "id": ""
        },
        "gather": {
          "logged": 1678198550784
        },
        "name": "train_component"
      },
      "outputs": [],
      "source": [
        "# importing the Component Package\n",
        "from azure.ai.ml import load_component\n",
        "\n",
        "# Loading the component from the yml file\n",
        "train_component = load_component(source=os.path.join(train_src_dir, \"train.yml\"))"
      ]
    },
    {
      "cell_type": "markdown",
      "metadata": {},
      "source": [
        "## now create and register the component:(option)"
      ]
    },
    {
      "cell_type": "code",
      "execution_count": 16,
      "metadata": {
        "attributes": {
          "classes": [
            "Python"
          ],
          "id": ""
        },
        "gather": {
          "logged": 1678198554694
        },
        "name": "update-train_component"
      },
      "outputs": [
        {
          "name": "stdout",
          "output_type": "stream",
          "text": [
            "Component train_credit_defaults_model with Version 2023-03-07-14-15-54-0513027 is registered\n"
          ]
        }
      ],
      "source": [
        "# Now we register the component to the workspace\n",
        "train_component = ml_client.create_or_update(train_component)\n",
        "\n",
        "# Create (register) the component in your workspace\n",
        "print(\n",
        "    f\"Component {train_component.name} with Version {train_component.version} is registered\"\n",
        ")"
      ]
    },
    {
      "cell_type": "markdown",
      "metadata": {
        "nteract": {
          "transient": {
            "deleting": false
          }
        }
      },
      "source": [
        "## Create component 3: Scoring (using yaml definition)\n"
      ]
    },
    {
      "cell_type": "code",
      "execution_count": 15,
      "metadata": {
        "gather": {
          "logged": 1678198559443
        },
        "jupyter": {
          "outputs_hidden": false,
          "source_hidden": false
        },
        "nteract": {
          "transient": {
            "deleting": false
          }
        }
      },
      "outputs": [],
      "source": [
        "import os\n",
        "\n",
        "score_src_dir = \"./components/score\"\n",
        "os.makedirs(score_src_dir, exist_ok=True)"
      ]
    },
    {
      "cell_type": "code",
      "execution_count": 18,
      "metadata": {
        "jupyter": {
          "outputs_hidden": false,
          "source_hidden": false
        },
        "nteract": {
          "transient": {
            "deleting": false
          }
        }
      },
      "outputs": [
        {
          "name": "stdout",
          "output_type": "stream",
          "text": [
            "Overwriting ./components/score/score.py\n"
          ]
        }
      ],
      "source": [
        "%%writefile {score_src_dir}/score.py\n",
        "import argparse\n",
        "from pathlib import Path\n",
        "from sklearn.metrics import classification_report\n",
        "import os\n",
        "import mlflow\n",
        "\n",
        "parser = argparse.ArgumentParser(\"score\")\n",
        "parser.add_argument(\"--model_input\", type=str, help=\"Path of input model\")\n",
        "parser.add_argument(\"--test_data\", type=str, help=\"Path to test data\")\n",
        "parser.add_argument(\"--score_output\", type=str, help=\"Path of scoring output\")\n",
        "\n",
        "args = parser.parse_args()\n",
        "\n",
        "print(\"hello scoring world...\")\n",
        "\n",
        "lines = [\n",
        "    f\"Model path: {args.model_input}\",\n",
        "    f\"Test data path: {args.test_data}\",\n",
        "    f\"Scoring output path: {args.score_output}\",\n",
        "]\n",
        "\n",
        "for line in lines:\n",
        "    print(line)\n",
        "\n",
        "# Load the test data with predicted values\n",
        "\n",
        "print(\"mounted_path files: \")\n",
        "arr = os.listdir(args.test_data)\n",
        "\n",
        "print(arr)\n",
        "df_list = []\n",
        "for filename in arr:\n",
        "    print(\"reading file: %s ...\" % filename)\n",
        "    with open(os.path.join(args.predictions, filename), \"r\") as handle:\n",
        "        # print (handle.read())\n",
        "        input_df = pd.read_csv((Path(args.predictions) / filename))\n",
        "        df_list.append(input_df)\n",
        "\n",
        "test_data = df_list[0]\n",
        "\n",
        "# Load the model from input port\n",
        "pathmodel = os.path.join(args.model_input, \"trained_model\")\n",
        "model = mlflow.sklearn.load_model(pathmodel)\n",
        "\n",
        "actuals = test_data[\"actual_cost\"]\n",
        "predictions = test_data[\"predicted_cost\"]\n",
        "\n",
        "# Print the results of scoring the predictions against actual values in the test data\n",
        "# The coefficients\n",
        "# print(\"Coefficients: \\n\", model)\n",
        "\n",
        "# # Load the model from input port\n",
        "# # Here only print the model as text since it is a dummy one\n",
        "# model = (Path(args.model_input) / \"model.txt\").read_text()\n",
        "# print(\"Model: \", model)\n",
        "\n",
        "# # Do scoring with the input model\n",
        "# # Here only print text to output file as demo\n",
        "(Path(args.score_output) / \"score.txt\").write_text(\n",
        "    \"Scored with the following mode:\\n{}\".format(model)\n",
        ")\n"
      ]
    },
    {
      "cell_type": "code",
      "execution_count": 19,
      "metadata": {
        "jupyter": {
          "outputs_hidden": false,
          "source_hidden": false
        },
        "nteract": {
          "transient": {
            "deleting": false
          }
        }
      },
      "outputs": [
        {
          "name": "stdout",
          "output_type": "stream",
          "text": [
            "Overwriting ./components/score/score.yml\n"
          ]
        }
      ],
      "source": [
        "%%writefile {score_src_dir}/score.yml\n",
        "type: command\n",
        "\n",
        "name: score_data\n",
        "display_name: Score Data\n",
        "description: A dummy scoring component\n",
        "\n",
        "inputs:\n",
        "  model_input:\n",
        "    type: uri_folder\n",
        "  test_data:\n",
        "    type: uri_folder\n",
        "outputs:\n",
        "  score_output:\n",
        "    type: uri_folder\n",
        "environment: azureml:AzureML-sklearn-1.0-ubuntu20.04-py38-cpu:1\n",
        "code: .\n",
        "command: >-\n",
        "  python score.py \n",
        "  --model_input ${{inputs.model_input}} \n",
        "  --test_data ${{inputs.test_data}}\n",
        "  --score_output ${{outputs.score_output}}\n"
      ]
    },
    {
      "cell_type": "code",
      "execution_count": 20,
      "metadata": {
        "gather": {
          "logged": 1678198569070
        },
        "jupyter": {
          "outputs_hidden": false,
          "source_hidden": false
        },
        "nteract": {
          "transient": {
            "deleting": false
          }
        }
      },
      "outputs": [],
      "source": [
        "# importing the Component Package\n",
        "from azure.ai.ml import load_component\n",
        "# Loading the component from the yml file\n",
        "score_component = load_component(source=os.path.join(score_src_dir, \"score.yml\"))"
      ]
    },
    {
      "cell_type": "code",
      "execution_count": 21,
      "metadata": {
        "gather": {
          "logged": 1678198572599
        },
        "jupyter": {
          "outputs_hidden": false,
          "source_hidden": false
        },
        "nteract": {
          "transient": {
            "deleting": false
          }
        }
      },
      "outputs": [
        {
          "name": "stderr",
          "output_type": "stream",
          "text": [
            "\r\u001b[32mUploading score (0.0 MBs):   0%|          | 0/2041 [00:00<?, ?it/s]\r\u001b[32mUploading score (0.0 MBs): 100%|██████████| 2041/2041 [00:00<00:00, 65580.68it/s]\n",
            "\u001b[39m\n",
            "\n"
          ]
        },
        {
          "name": "stdout",
          "output_type": "stream",
          "text": [
            "Component score_data with Version 2023-03-07-14-16-12-0679943 is registered\n"
          ]
        }
      ],
      "source": [
        "# Now we register the component to the workspace\n",
        "score_component = ml_client.create_or_update(score_component)\n",
        "\n",
        "# Create (register) the component in your workspace\n",
        "print(\n",
        "    f\"Component {score_component.name} with Version {score_component.version} is registered\"\n",
        ")"
      ]
    },
    {
      "cell_type": "markdown",
      "metadata": {},
      "source": [
        "## Create the pipeline from components\n",
        "\n",
        "Now that both your components are defined and registered, you can start implementing the pipeline."
      ]
    },
    {
      "cell_type": "markdown",
      "metadata": {},
      "source": [
        "Here, you'll use *input data*, *split ratio* and *registered model name* as input variables. Then call the components and connect them via their inputs /outputs identifiers. The outputs of each step can be accessed via the `.outputs` property."
      ]
    },
    {
      "cell_type": "markdown",
      "metadata": {
        "attributes": {
          "classes": [
            "Python"
          ],
          "id": ""
        }
      },
      "source": [
        "The python functions returned by `load_component()` work as any regular python function that we'll use within a pipeline to call each step.\n",
        "\n",
        "To code the pipeline, we use a specific `@dsl.pipeline` decorator that identifies the Azure ML pipelines. In the decorator, we can specify the pipeline description and default resources like compute and storage. Like a python function, pipelines can have inputs, you can then create multiple instances of a single pipeline with different inputs.\n",
        "\n",
        "Here, we used *input data*, *split ratio* and *registered model name* as input variables. We then call the components and connect them via their inputs /outputs identifiers. The outputs of each step can be accessed via the `.outputs` property."
      ]
    },
    {
      "cell_type": "code",
      "execution_count": 22,
      "metadata": {
        "attributes": {
          "classes": [
            "Python"
          ],
          "id": ""
        },
        "gather": {
          "logged": 1678198576760
        },
        "name": "pipeline"
      },
      "outputs": [],
      "source": [
        "# the dsl decorator tells the sdk that we are defining an Azure ML pipeline\n",
        "from azure.ai.ml import dsl, Input, Output\n",
        "\n",
        "\n",
        "@dsl.pipeline(\n",
        "    compute=cpu_compute_target,\n",
        "    description=\"E2E data_perp-train pipeline\",\n",
        ")\n",
        "def credit_defaults_pipeline(\n",
        "    pipeline_job_data_input,\n",
        "    pipeline_job_test_train_ratio,\n",
        "    pipeline_job_learning_rate,\n",
        "    pipeline_job_registered_model_name,\n",
        "):\n",
        "    # using data_prep_function like a python call with its own inputs\n",
        "    data_prep_job = data_prep_component(\n",
        "        data=pipeline_job_data_input,\n",
        "        test_train_ratio=pipeline_job_test_train_ratio,\n",
        "    )\n",
        "\n",
        "    # using train_func like a python call with its own inputs\n",
        "    train_job = train_component(\n",
        "        train_data=data_prep_job.outputs.train_data,  # note: using outputs from previous step\n",
        "        test_data=data_prep_job.outputs.test_data,  # note: using outputs from previous step\n",
        "        learning_rate=pipeline_job_learning_rate,  # note: using a pipeline input as parameter\n",
        "        registered_model_name=pipeline_job_registered_model_name,\n",
        "    )\n",
        "\n",
        "    score_job = score_component(\n",
        "        model_input=train_job.outputs.model,\n",
        "        test_data=data_prep_job.outputs.test_data,\n",
        "    )\n",
        "\n",
        "    # a pipeline returns a dictionary of outputs\n",
        "    # keys will code for the pipeline output identifier\n",
        "    return {\n",
        "        \"pipeline_job_train_data\": data_prep_job.outputs.train_data,\n",
        "        \"pipeline_job_test_data\": data_prep_job.outputs.test_data,\n",
        "        \"pipeline_job_model\": train_job.outputs.model,\n",
        "        \"pipeline_job_score\": score_job.outputs.score_output,\n",
        "    }"
      ]
    },
    {
      "cell_type": "markdown",
      "metadata": {},
      "source": [
        "Now use your pipeline definition to instantiate a pipeline with your dataset, split rate of choice and the name you picked for your model."
      ]
    },
    {
      "cell_type": "code",
      "execution_count": 23,
      "metadata": {
        "attributes": {
          "classes": [
            "Python"
          ],
          "id": ""
        },
        "gather": {
          "logged": 1678198580553
        },
        "name": "registered_model_name"
      },
      "outputs": [],
      "source": [
        "registered_model_name = \"credit_defaults_model\"\n",
        "\n",
        "# Let's instantiate the pipeline with the parameters of our choice\n",
        "pipeline = credit_defaults_pipeline(\n",
        "    pipeline_job_data_input=Input(type=\"uri_file\", path=credit_data.path),\n",
        "    pipeline_job_test_train_ratio=0.25,\n",
        "    pipeline_job_learning_rate=0.05,\n",
        "    pipeline_job_registered_model_name=registered_model_name,\n",
        ")"
      ]
    },
    {
      "cell_type": "markdown",
      "metadata": {},
      "source": [
        "## Submit the job \n",
        "\n",
        "It's now time to submit the job to run in Azure ML. This time you'll use `create_or_update`  on `ml_client.jobs`.\n",
        "\n",
        "Here you'll also pass an experiment name. An experiment is a container for all the iterations one does on a certain project. All the jobs submitted under the same experiment name would be listed next to each other in Azure ML studio.\n",
        "\n",
        "Once completed, the pipeline will register a model in your workspace as a result of training."
      ]
    },
    {
      "cell_type": "code",
      "execution_count": 24,
      "metadata": {
        "gather": {
          "logged": 1678198587626
        },
        "name": "returned_job"
      },
      "outputs": [
        {
          "data": {
            "text/plain": [
              "False"
            ]
          },
          "execution_count": 24,
          "metadata": {},
          "output_type": "execute_result"
        }
      ],
      "source": [
        "import webbrowser\n",
        "\n",
        "# submit the pipeline job\n",
        "pipeline_job = ml_client.jobs.create_or_update(\n",
        "    pipeline,\n",
        "    # Project's name\n",
        "    experiment_name=\"e2e_registered_components\",\n",
        ")\n",
        "# open the pipeline in web browser\n",
        "webbrowser.open(pipeline_job.studio_url)"
      ]
    },
    {
      "cell_type": "code",
      "execution_count": 25,
      "metadata": {
        "gather": {
          "logged": 1678198456326
        },
        "jupyter": {
          "outputs_hidden": false,
          "source_hidden": false
        },
        "nteract": {
          "transient": {
            "deleting": false
          }
        }
      },
      "outputs": [
        {
          "name": "stdout",
          "output_type": "stream",
          "text": [
            "RunId: mighty_date_xg1vvcy7rq\n",
            "Web View: https://ml.azure.com/runs/mighty_date_xg1vvcy7rq?wsid=/subscriptions/996049d2-a088-4535-84c6-293862437c2e/resourcegroups/rg-aml-demo/workspaces/ssc-mlops\n",
            "\n",
            "Streaming logs/azureml/executionlogs.txt\n",
            "========================================\n",
            "\n",
            "[2023-03-07 14:16:28Z] Submitting 1 runs, first five are: f2b95b55:99568ea3-ac36-479c-8280-293d156d5e65\n",
            "[2023-03-07 14:16:30Z] Completing processing run id 99568ea3-ac36-479c-8280-293d156d5e65.\n",
            "[2023-03-07 14:16:30Z] Submitting 1 runs, first five are: 0b9be8ce:968044c7-a479-483e-9d43-7d3f6d5fc931\n",
            "[2023-03-07 14:16:31Z] Completing processing run id 968044c7-a479-483e-9d43-7d3f6d5fc931.\n",
            "[2023-03-07 14:16:32Z] Submitting 1 runs, first five are: d6588ed4:92204c12-0bc2-4714-b103-774e245701ea\n"
          ]
        }
      ],
      "source": [
        "ml_client.jobs.stream(pipeline_job.name)"
      ]
    },
    {
      "cell_type": "markdown",
      "metadata": {
        "nteract": {
          "transient": {
            "deleting": false
          }
        }
      },
      "source": [
        "You can track the progress of your pipeline, by using the link generated in the cell above or in this notebook using the following code:\n",
        "```python\n",
        "    ml_client.jobs.stream(pipeline_job.name)\n",
        "```\n",
        "\n",
        "When you select on each component, you'll see more information about the results of that component. \n",
        "There are two important parts to look for at this stage:\n",
        "* `Outputs+logs` > `user_logs` > `std_log.txt`\n",
        "This section shows the script run sdtout."
      ]
    },
    {
      "cell_type": "markdown",
      "metadata": {
        "nteract": {
          "transient": {
            "deleting": false
          }
        }
      },
      "source": [
        "* `Outputs+logs` > `Metric`\n",
        "This section shows different logged metrics. In this example. mlflow `autologging`, has automatically logged the training metrics."
      ]
    },
    {
      "cell_type": "markdown",
      "metadata": {
        "nteract": {
          "transient": {
            "deleting": false
          }
        }
      },
      "source": [
        "## "
      ]
    },
    {
      "cell_type": "markdown",
      "metadata": {
        "nteract": {
          "transient": {
            "deleting": false
          }
        }
      },
      "source": [
        "## e2e_registered_component 실험 리스트 조회"
      ]
    },
    {
      "cell_type": "code",
      "execution_count": 100,
      "metadata": {
        "gather": {
          "logged": 1678182350351
        },
        "jupyter": {
          "outputs_hidden": false,
          "source_hidden": false
        },
        "nteract": {
          "transient": {
            "deleting": false
          }
        }
      },
      "outputs": [
        {
          "data": {
            "text/plain": [
              "<Experiment: artifact_location='', creation_time=1678064718535, experiment_id='589ba941-0fdf-41f1-8a44-39204466f49a', last_update_time=None, lifecycle_stage='active', name='e2e_registered_components', tags={}>"
            ]
          },
          "execution_count": 100,
          "metadata": {},
          "output_type": "execute_result"
        }
      ],
      "source": [
        "import mlflow\n",
        "\n",
        "exp = mlflow.get_experiment_by_name(\"e2e_registered_components\")\n",
        "exp"
      ]
    },
    {
      "cell_type": "code",
      "execution_count": 101,
      "metadata": {
        "gather": {
          "logged": 1678182352668
        },
        "jupyter": {
          "outputs_hidden": false,
          "source_hidden": false
        },
        "nteract": {
          "transient": {
            "deleting": false
          }
        }
      },
      "outputs": [
        {
          "data": {
            "text/html": [
              "<div>\n",
              "<style scoped>\n",
              "    .dataframe tbody tr th:only-of-type {\n",
              "        vertical-align: middle;\n",
              "    }\n",
              "\n",
              "    .dataframe tbody tr th {\n",
              "        vertical-align: top;\n",
              "    }\n",
              "\n",
              "    .dataframe thead th {\n",
              "        text-align: right;\n",
              "    }\n",
              "</style>\n",
              "<table border=\"1\" class=\"dataframe\">\n",
              "  <thead>\n",
              "    <tr style=\"text-align: right;\">\n",
              "      <th></th>\n",
              "      <th>run_id</th>\n",
              "      <th>experiment_id</th>\n",
              "      <th>status</th>\n",
              "      <th>artifact_uri</th>\n",
              "      <th>start_time</th>\n",
              "      <th>end_time</th>\n",
              "      <th>metrics.num_samples</th>\n",
              "      <th>metrics.num_features</th>\n",
              "      <th>metrics.training_f1_score</th>\n",
              "      <th>metrics.training_roc_auc_score</th>\n",
              "      <th>...</th>\n",
              "      <th>params.min_impurity_decrease</th>\n",
              "      <th>params.n_estimators</th>\n",
              "      <th>params.ccp_alpha</th>\n",
              "      <th>tags.mlflow.user</th>\n",
              "      <th>tags.mlflow.rootRunId</th>\n",
              "      <th>tags.mlflow.parentRunId</th>\n",
              "      <th>tags.azureml.nodeid</th>\n",
              "      <th>tags.azureml.pipeline</th>\n",
              "      <th>tags.estimator_name</th>\n",
              "      <th>tags.estimator_class</th>\n",
              "    </tr>\n",
              "  </thead>\n",
              "  <tbody>\n",
              "    <tr>\n",
              "      <th>0</th>\n",
              "      <td>clever_cloud_vjn3fbrmhj</td>\n",
              "      <td>589ba941-0fdf-41f1-8a44-39204466f49a</td>\n",
              "      <td>FINISHED</td>\n",
              "      <td></td>\n",
              "      <td>2023-03-06 01:05:19.789000+00:00</td>\n",
              "      <td>2023-03-06 01:10:00.856000+00:00</td>\n",
              "      <td>NaN</td>\n",
              "      <td>NaN</td>\n",
              "      <td>NaN</td>\n",
              "      <td>NaN</td>\n",
              "      <td>...</td>\n",
              "      <td>None</td>\n",
              "      <td>None</td>\n",
              "      <td>None</td>\n",
              "      <td>김상우</td>\n",
              "      <td>clever_cloud_vjn3fbrmhj</td>\n",
              "      <td>None</td>\n",
              "      <td>None</td>\n",
              "      <td>None</td>\n",
              "      <td>None</td>\n",
              "      <td>None</td>\n",
              "    </tr>\n",
              "    <tr>\n",
              "      <th>1</th>\n",
              "      <td>d7ca41fa-587d-450a-a751-b37a68e80488</td>\n",
              "      <td>589ba941-0fdf-41f1-8a44-39204466f49a</td>\n",
              "      <td>FINISHED</td>\n",
              "      <td></td>\n",
              "      <td>2023-03-06 01:07:35.653000+00:00</td>\n",
              "      <td>2023-03-06 01:08:36.840000+00:00</td>\n",
              "      <td>30000.0</td>\n",
              "      <td>23.0</td>\n",
              "      <td>NaN</td>\n",
              "      <td>NaN</td>\n",
              "      <td>...</td>\n",
              "      <td>None</td>\n",
              "      <td>None</td>\n",
              "      <td>None</td>\n",
              "      <td>김상우</td>\n",
              "      <td>clever_cloud_vjn3fbrmhj</td>\n",
              "      <td>clever_cloud_vjn3fbrmhj</td>\n",
              "      <td>5751f057</td>\n",
              "      <td>clever_cloud_vjn3fbrmhj</td>\n",
              "      <td>None</td>\n",
              "      <td>None</td>\n",
              "    </tr>\n",
              "    <tr>\n",
              "      <th>2</th>\n",
              "      <td>56ff461b-a59f-470d-89e7-79a258edef6b</td>\n",
              "      <td>589ba941-0fdf-41f1-8a44-39204466f49a</td>\n",
              "      <td>FINISHED</td>\n",
              "      <td></td>\n",
              "      <td>2023-03-06 01:08:47.631000+00:00</td>\n",
              "      <td>2023-03-06 01:09:59.371000+00:00</td>\n",
              "      <td>NaN</td>\n",
              "      <td>NaN</td>\n",
              "      <td>0.803281</td>\n",
              "      <td>0.795926</td>\n",
              "      <td>...</td>\n",
              "      <td>0.0</td>\n",
              "      <td>100</td>\n",
              "      <td>0.0</td>\n",
              "      <td>김상우</td>\n",
              "      <td>clever_cloud_vjn3fbrmhj</td>\n",
              "      <td>clever_cloud_vjn3fbrmhj</td>\n",
              "      <td>f5e3994d</td>\n",
              "      <td>clever_cloud_vjn3fbrmhj</td>\n",
              "      <td>GradientBoostingClassifier</td>\n",
              "      <td>sklearn.ensemble._gb.GradientBoostingClassifier</td>\n",
              "    </tr>\n",
              "    <tr>\n",
              "      <th>3</th>\n",
              "      <td>silly_beach_8px3xdh5hc</td>\n",
              "      <td>589ba941-0fdf-41f1-8a44-39204466f49a</td>\n",
              "      <td>FAILED</td>\n",
              "      <td></td>\n",
              "      <td>2023-03-07 00:57:43.219000+00:00</td>\n",
              "      <td>2023-03-07 01:00:29.546000+00:00</td>\n",
              "      <td>NaN</td>\n",
              "      <td>NaN</td>\n",
              "      <td>NaN</td>\n",
              "      <td>NaN</td>\n",
              "      <td>...</td>\n",
              "      <td>None</td>\n",
              "      <td>None</td>\n",
              "      <td>None</td>\n",
              "      <td>김상우</td>\n",
              "      <td>silly_beach_8px3xdh5hc</td>\n",
              "      <td>None</td>\n",
              "      <td>None</td>\n",
              "      <td>None</td>\n",
              "      <td>None</td>\n",
              "      <td>None</td>\n",
              "    </tr>\n",
              "    <tr>\n",
              "      <th>4</th>\n",
              "      <td>b5f4f39c-6245-458a-870c-e93fe3bb9337</td>\n",
              "      <td>589ba941-0fdf-41f1-8a44-39204466f49a</td>\n",
              "      <td>FAILED</td>\n",
              "      <td></td>\n",
              "      <td>2023-03-07 00:59:40.244000+00:00</td>\n",
              "      <td>2023-03-07 01:00:27.534000+00:00</td>\n",
              "      <td>NaN</td>\n",
              "      <td>NaN</td>\n",
              "      <td>NaN</td>\n",
              "      <td>NaN</td>\n",
              "      <td>...</td>\n",
              "      <td>None</td>\n",
              "      <td>None</td>\n",
              "      <td>None</td>\n",
              "      <td>김상우</td>\n",
              "      <td>silly_beach_8px3xdh5hc</td>\n",
              "      <td>silly_beach_8px3xdh5hc</td>\n",
              "      <td>67989775</td>\n",
              "      <td>silly_beach_8px3xdh5hc</td>\n",
              "      <td>None</td>\n",
              "      <td>None</td>\n",
              "    </tr>\n",
              "    <tr>\n",
              "      <th>5</th>\n",
              "      <td>mango_wire_1bvhvh3w8m</td>\n",
              "      <td>589ba941-0fdf-41f1-8a44-39204466f49a</td>\n",
              "      <td>FAILED</td>\n",
              "      <td></td>\n",
              "      <td>2023-03-07 01:09:35.974000+00:00</td>\n",
              "      <td>2023-03-07 01:12:45.431000+00:00</td>\n",
              "      <td>NaN</td>\n",
              "      <td>NaN</td>\n",
              "      <td>NaN</td>\n",
              "      <td>NaN</td>\n",
              "      <td>...</td>\n",
              "      <td>None</td>\n",
              "      <td>None</td>\n",
              "      <td>None</td>\n",
              "      <td>김상우</td>\n",
              "      <td>mango_wire_1bvhvh3w8m</td>\n",
              "      <td>None</td>\n",
              "      <td>None</td>\n",
              "      <td>None</td>\n",
              "      <td>None</td>\n",
              "      <td>None</td>\n",
              "    </tr>\n",
              "    <tr>\n",
              "      <th>6</th>\n",
              "      <td>25fdf402-d68b-4efe-9e80-77413d124598</td>\n",
              "      <td>589ba941-0fdf-41f1-8a44-39204466f49a</td>\n",
              "      <td>FAILED</td>\n",
              "      <td></td>\n",
              "      <td>2023-03-07 01:11:55.134000+00:00</td>\n",
              "      <td>2023-03-07 01:12:44.179000+00:00</td>\n",
              "      <td>NaN</td>\n",
              "      <td>NaN</td>\n",
              "      <td>NaN</td>\n",
              "      <td>NaN</td>\n",
              "      <td>...</td>\n",
              "      <td>None</td>\n",
              "      <td>None</td>\n",
              "      <td>None</td>\n",
              "      <td>김상우</td>\n",
              "      <td>mango_wire_1bvhvh3w8m</td>\n",
              "      <td>mango_wire_1bvhvh3w8m</td>\n",
              "      <td>cfb683cb</td>\n",
              "      <td>mango_wire_1bvhvh3w8m</td>\n",
              "      <td>None</td>\n",
              "      <td>None</td>\n",
              "    </tr>\n",
              "    <tr>\n",
              "      <th>7</th>\n",
              "      <td>willing_house_7kpklq0km7</td>\n",
              "      <td>589ba941-0fdf-41f1-8a44-39204466f49a</td>\n",
              "      <td>FINISHED</td>\n",
              "      <td></td>\n",
              "      <td>2023-03-07 01:35:37.731000+00:00</td>\n",
              "      <td>2023-03-07 01:39:44.311000+00:00</td>\n",
              "      <td>NaN</td>\n",
              "      <td>NaN</td>\n",
              "      <td>NaN</td>\n",
              "      <td>NaN</td>\n",
              "      <td>...</td>\n",
              "      <td>None</td>\n",
              "      <td>None</td>\n",
              "      <td>None</td>\n",
              "      <td>김상우</td>\n",
              "      <td>willing_house_7kpklq0km7</td>\n",
              "      <td>None</td>\n",
              "      <td>None</td>\n",
              "      <td>None</td>\n",
              "      <td>None</td>\n",
              "      <td>None</td>\n",
              "    </tr>\n",
              "    <tr>\n",
              "      <th>8</th>\n",
              "      <td>703759d3-2c81-45ba-83ff-d7942fca0003</td>\n",
              "      <td>589ba941-0fdf-41f1-8a44-39204466f49a</td>\n",
              "      <td>FINISHED</td>\n",
              "      <td></td>\n",
              "      <td>2023-03-07 01:37:34.542000+00:00</td>\n",
              "      <td>2023-03-07 01:38:27.963000+00:00</td>\n",
              "      <td>30000.0</td>\n",
              "      <td>23.0</td>\n",
              "      <td>NaN</td>\n",
              "      <td>NaN</td>\n",
              "      <td>...</td>\n",
              "      <td>None</td>\n",
              "      <td>None</td>\n",
              "      <td>None</td>\n",
              "      <td>김상우</td>\n",
              "      <td>willing_house_7kpklq0km7</td>\n",
              "      <td>willing_house_7kpklq0km7</td>\n",
              "      <td>41e31f72</td>\n",
              "      <td>willing_house_7kpklq0km7</td>\n",
              "      <td>None</td>\n",
              "      <td>None</td>\n",
              "    </tr>\n",
              "    <tr>\n",
              "      <th>9</th>\n",
              "      <td>8a29575c-7838-4400-b300-1109f5b10a25</td>\n",
              "      <td>589ba941-0fdf-41f1-8a44-39204466f49a</td>\n",
              "      <td>FINISHED</td>\n",
              "      <td></td>\n",
              "      <td>2023-03-07 01:38:38.841000+00:00</td>\n",
              "      <td>2023-03-07 01:39:43.024000+00:00</td>\n",
              "      <td>NaN</td>\n",
              "      <td>NaN</td>\n",
              "      <td>0.805423</td>\n",
              "      <td>0.793803</td>\n",
              "      <td>...</td>\n",
              "      <td>0.0</td>\n",
              "      <td>100</td>\n",
              "      <td>0.0</td>\n",
              "      <td>김상우</td>\n",
              "      <td>willing_house_7kpklq0km7</td>\n",
              "      <td>willing_house_7kpklq0km7</td>\n",
              "      <td>72679786</td>\n",
              "      <td>willing_house_7kpklq0km7</td>\n",
              "      <td>GradientBoostingClassifier</td>\n",
              "      <td>sklearn.ensemble._gb.GradientBoostingClassifier</td>\n",
              "    </tr>\n",
              "    <tr>\n",
              "      <th>10</th>\n",
              "      <td>serene_ocean_m32ymk9k4n</td>\n",
              "      <td>589ba941-0fdf-41f1-8a44-39204466f49a</td>\n",
              "      <td>FINISHED</td>\n",
              "      <td></td>\n",
              "      <td>2023-03-07 09:43:45.958000+00:00</td>\n",
              "      <td>2023-03-07 09:43:49.520000+00:00</td>\n",
              "      <td>NaN</td>\n",
              "      <td>NaN</td>\n",
              "      <td>NaN</td>\n",
              "      <td>NaN</td>\n",
              "      <td>...</td>\n",
              "      <td>None</td>\n",
              "      <td>None</td>\n",
              "      <td>None</td>\n",
              "      <td>김상우</td>\n",
              "      <td>serene_ocean_m32ymk9k4n</td>\n",
              "      <td>None</td>\n",
              "      <td>None</td>\n",
              "      <td>None</td>\n",
              "      <td>None</td>\n",
              "      <td>None</td>\n",
              "    </tr>\n",
              "    <tr>\n",
              "      <th>11</th>\n",
              "      <td>cf9815b8-67b0-4cbc-9053-8f7e40581ad1</td>\n",
              "      <td>589ba941-0fdf-41f1-8a44-39204466f49a</td>\n",
              "      <td>FINISHED</td>\n",
              "      <td></td>\n",
              "      <td>2023-03-07 09:43:47.193000+00:00</td>\n",
              "      <td>2023-03-07 09:43:47.242000+00:00</td>\n",
              "      <td>30000.0</td>\n",
              "      <td>23.0</td>\n",
              "      <td>NaN</td>\n",
              "      <td>NaN</td>\n",
              "      <td>...</td>\n",
              "      <td>None</td>\n",
              "      <td>None</td>\n",
              "      <td>None</td>\n",
              "      <td>김상우</td>\n",
              "      <td>serene_ocean_m32ymk9k4n</td>\n",
              "      <td>serene_ocean_m32ymk9k4n</td>\n",
              "      <td>2d2f7a62</td>\n",
              "      <td>serene_ocean_m32ymk9k4n</td>\n",
              "      <td>None</td>\n",
              "      <td>None</td>\n",
              "    </tr>\n",
              "    <tr>\n",
              "      <th>12</th>\n",
              "      <td>874b1810-0d0f-4d76-8ffa-770ac53b6c6d</td>\n",
              "      <td>589ba941-0fdf-41f1-8a44-39204466f49a</td>\n",
              "      <td>FINISHED</td>\n",
              "      <td></td>\n",
              "      <td>2023-03-07 09:43:48.825000+00:00</td>\n",
              "      <td>2023-03-07 09:43:48.851000+00:00</td>\n",
              "      <td>NaN</td>\n",
              "      <td>NaN</td>\n",
              "      <td>0.805423</td>\n",
              "      <td>0.793803</td>\n",
              "      <td>...</td>\n",
              "      <td>0.0</td>\n",
              "      <td>100</td>\n",
              "      <td>0.0</td>\n",
              "      <td>김상우</td>\n",
              "      <td>serene_ocean_m32ymk9k4n</td>\n",
              "      <td>serene_ocean_m32ymk9k4n</td>\n",
              "      <td>c5d10fa7</td>\n",
              "      <td>serene_ocean_m32ymk9k4n</td>\n",
              "      <td>GradientBoostingClassifier</td>\n",
              "      <td>sklearn.ensemble._gb.GradientBoostingClassifier</td>\n",
              "    </tr>\n",
              "  </tbody>\n",
              "</table>\n",
              "<p>13 rows × 45 columns</p>\n",
              "</div>"
            ],
            "text/plain": [
              "                                  run_id  \\\n",
              "0                clever_cloud_vjn3fbrmhj   \n",
              "1   d7ca41fa-587d-450a-a751-b37a68e80488   \n",
              "2   56ff461b-a59f-470d-89e7-79a258edef6b   \n",
              "3                 silly_beach_8px3xdh5hc   \n",
              "4   b5f4f39c-6245-458a-870c-e93fe3bb9337   \n",
              "5                  mango_wire_1bvhvh3w8m   \n",
              "6   25fdf402-d68b-4efe-9e80-77413d124598   \n",
              "7               willing_house_7kpklq0km7   \n",
              "8   703759d3-2c81-45ba-83ff-d7942fca0003   \n",
              "9   8a29575c-7838-4400-b300-1109f5b10a25   \n",
              "10               serene_ocean_m32ymk9k4n   \n",
              "11  cf9815b8-67b0-4cbc-9053-8f7e40581ad1   \n",
              "12  874b1810-0d0f-4d76-8ffa-770ac53b6c6d   \n",
              "\n",
              "                           experiment_id    status artifact_uri  \\\n",
              "0   589ba941-0fdf-41f1-8a44-39204466f49a  FINISHED                \n",
              "1   589ba941-0fdf-41f1-8a44-39204466f49a  FINISHED                \n",
              "2   589ba941-0fdf-41f1-8a44-39204466f49a  FINISHED                \n",
              "3   589ba941-0fdf-41f1-8a44-39204466f49a    FAILED                \n",
              "4   589ba941-0fdf-41f1-8a44-39204466f49a    FAILED                \n",
              "5   589ba941-0fdf-41f1-8a44-39204466f49a    FAILED                \n",
              "6   589ba941-0fdf-41f1-8a44-39204466f49a    FAILED                \n",
              "7   589ba941-0fdf-41f1-8a44-39204466f49a  FINISHED                \n",
              "8   589ba941-0fdf-41f1-8a44-39204466f49a  FINISHED                \n",
              "9   589ba941-0fdf-41f1-8a44-39204466f49a  FINISHED                \n",
              "10  589ba941-0fdf-41f1-8a44-39204466f49a  FINISHED                \n",
              "11  589ba941-0fdf-41f1-8a44-39204466f49a  FINISHED                \n",
              "12  589ba941-0fdf-41f1-8a44-39204466f49a  FINISHED                \n",
              "\n",
              "                         start_time                         end_time  \\\n",
              "0  2023-03-06 01:05:19.789000+00:00 2023-03-06 01:10:00.856000+00:00   \n",
              "1  2023-03-06 01:07:35.653000+00:00 2023-03-06 01:08:36.840000+00:00   \n",
              "2  2023-03-06 01:08:47.631000+00:00 2023-03-06 01:09:59.371000+00:00   \n",
              "3  2023-03-07 00:57:43.219000+00:00 2023-03-07 01:00:29.546000+00:00   \n",
              "4  2023-03-07 00:59:40.244000+00:00 2023-03-07 01:00:27.534000+00:00   \n",
              "5  2023-03-07 01:09:35.974000+00:00 2023-03-07 01:12:45.431000+00:00   \n",
              "6  2023-03-07 01:11:55.134000+00:00 2023-03-07 01:12:44.179000+00:00   \n",
              "7  2023-03-07 01:35:37.731000+00:00 2023-03-07 01:39:44.311000+00:00   \n",
              "8  2023-03-07 01:37:34.542000+00:00 2023-03-07 01:38:27.963000+00:00   \n",
              "9  2023-03-07 01:38:38.841000+00:00 2023-03-07 01:39:43.024000+00:00   \n",
              "10 2023-03-07 09:43:45.958000+00:00 2023-03-07 09:43:49.520000+00:00   \n",
              "11 2023-03-07 09:43:47.193000+00:00 2023-03-07 09:43:47.242000+00:00   \n",
              "12 2023-03-07 09:43:48.825000+00:00 2023-03-07 09:43:48.851000+00:00   \n",
              "\n",
              "    metrics.num_samples  metrics.num_features  metrics.training_f1_score  \\\n",
              "0                   NaN                   NaN                        NaN   \n",
              "1               30000.0                  23.0                        NaN   \n",
              "2                   NaN                   NaN                   0.803281   \n",
              "3                   NaN                   NaN                        NaN   \n",
              "4                   NaN                   NaN                        NaN   \n",
              "5                   NaN                   NaN                        NaN   \n",
              "6                   NaN                   NaN                        NaN   \n",
              "7                   NaN                   NaN                        NaN   \n",
              "8               30000.0                  23.0                        NaN   \n",
              "9                   NaN                   NaN                   0.805423   \n",
              "10                  NaN                   NaN                        NaN   \n",
              "11              30000.0                  23.0                        NaN   \n",
              "12                  NaN                   NaN                   0.805423   \n",
              "\n",
              "    metrics.training_roc_auc_score  ...  params.min_impurity_decrease  \\\n",
              "0                              NaN  ...                          None   \n",
              "1                              NaN  ...                          None   \n",
              "2                         0.795926  ...                           0.0   \n",
              "3                              NaN  ...                          None   \n",
              "4                              NaN  ...                          None   \n",
              "5                              NaN  ...                          None   \n",
              "6                              NaN  ...                          None   \n",
              "7                              NaN  ...                          None   \n",
              "8                              NaN  ...                          None   \n",
              "9                         0.793803  ...                           0.0   \n",
              "10                             NaN  ...                          None   \n",
              "11                             NaN  ...                          None   \n",
              "12                        0.793803  ...                           0.0   \n",
              "\n",
              "    params.n_estimators  params.ccp_alpha  tags.mlflow.user  \\\n",
              "0                  None              None               김상우   \n",
              "1                  None              None               김상우   \n",
              "2                   100               0.0               김상우   \n",
              "3                  None              None               김상우   \n",
              "4                  None              None               김상우   \n",
              "5                  None              None               김상우   \n",
              "6                  None              None               김상우   \n",
              "7                  None              None               김상우   \n",
              "8                  None              None               김상우   \n",
              "9                   100               0.0               김상우   \n",
              "10                 None              None               김상우   \n",
              "11                 None              None               김상우   \n",
              "12                  100               0.0               김상우   \n",
              "\n",
              "       tags.mlflow.rootRunId   tags.mlflow.parentRunId tags.azureml.nodeid  \\\n",
              "0    clever_cloud_vjn3fbrmhj                      None                None   \n",
              "1    clever_cloud_vjn3fbrmhj   clever_cloud_vjn3fbrmhj            5751f057   \n",
              "2    clever_cloud_vjn3fbrmhj   clever_cloud_vjn3fbrmhj            f5e3994d   \n",
              "3     silly_beach_8px3xdh5hc                      None                None   \n",
              "4     silly_beach_8px3xdh5hc    silly_beach_8px3xdh5hc            67989775   \n",
              "5      mango_wire_1bvhvh3w8m                      None                None   \n",
              "6      mango_wire_1bvhvh3w8m     mango_wire_1bvhvh3w8m            cfb683cb   \n",
              "7   willing_house_7kpklq0km7                      None                None   \n",
              "8   willing_house_7kpklq0km7  willing_house_7kpklq0km7            41e31f72   \n",
              "9   willing_house_7kpklq0km7  willing_house_7kpklq0km7            72679786   \n",
              "10   serene_ocean_m32ymk9k4n                      None                None   \n",
              "11   serene_ocean_m32ymk9k4n   serene_ocean_m32ymk9k4n            2d2f7a62   \n",
              "12   serene_ocean_m32ymk9k4n   serene_ocean_m32ymk9k4n            c5d10fa7   \n",
              "\n",
              "       tags.azureml.pipeline         tags.estimator_name  \\\n",
              "0                       None                        None   \n",
              "1    clever_cloud_vjn3fbrmhj                        None   \n",
              "2    clever_cloud_vjn3fbrmhj  GradientBoostingClassifier   \n",
              "3                       None                        None   \n",
              "4     silly_beach_8px3xdh5hc                        None   \n",
              "5                       None                        None   \n",
              "6      mango_wire_1bvhvh3w8m                        None   \n",
              "7                       None                        None   \n",
              "8   willing_house_7kpklq0km7                        None   \n",
              "9   willing_house_7kpklq0km7  GradientBoostingClassifier   \n",
              "10                      None                        None   \n",
              "11   serene_ocean_m32ymk9k4n                        None   \n",
              "12   serene_ocean_m32ymk9k4n  GradientBoostingClassifier   \n",
              "\n",
              "                               tags.estimator_class  \n",
              "0                                              None  \n",
              "1                                              None  \n",
              "2   sklearn.ensemble._gb.GradientBoostingClassifier  \n",
              "3                                              None  \n",
              "4                                              None  \n",
              "5                                              None  \n",
              "6                                              None  \n",
              "7                                              None  \n",
              "8                                              None  \n",
              "9   sklearn.ensemble._gb.GradientBoostingClassifier  \n",
              "10                                             None  \n",
              "11                                             None  \n",
              "12  sklearn.ensemble._gb.GradientBoostingClassifier  \n",
              "\n",
              "[13 rows x 45 columns]"
            ]
          },
          "execution_count": 101,
          "metadata": {},
          "output_type": "execute_result"
        }
      ],
      "source": [
        "run_list = mlflow.search_runs(exp.experiment_id)\n",
        "run_list"
      ]
    },
    {
      "cell_type": "code",
      "execution_count": 102,
      "metadata": {
        "gather": {
          "logged": 1678182355897
        },
        "jupyter": {
          "outputs_hidden": false,
          "source_hidden": false
        },
        "nteract": {
          "transient": {
            "deleting": false
          }
        }
      },
      "outputs": [],
      "source": [
        "# Get the run with the highest training R2 score\n",
        "run_list = mlflow.search_runs(exp.experiment_id)\n",
        "best_run_result = run_list.fillna(0)"
      ]
    },
    {
      "cell_type": "markdown",
      "metadata": {},
      "source": [
        "## Experiment list 중에서 비교를 원하는 Metric을 선택해서 가장 좋은 값을 가진 experiment id 를 추출한다.\n",
        "아래는 metrics.training_f1_score 값을 기준으로 비교한다."
      ]
    },
    {
      "cell_type": "code",
      "execution_count": 103,
      "metadata": {
        "gather": {
          "logged": 1678182358108
        },
        "jupyter": {
          "outputs_hidden": false,
          "source_hidden": false
        },
        "nteract": {
          "transient": {
            "deleting": false
          }
        }
      },
      "outputs": [
        {
          "data": {
            "text/html": [
              "<div>\n",
              "<style scoped>\n",
              "    .dataframe tbody tr th:only-of-type {\n",
              "        vertical-align: middle;\n",
              "    }\n",
              "\n",
              "    .dataframe tbody tr th {\n",
              "        vertical-align: top;\n",
              "    }\n",
              "\n",
              "    .dataframe thead th {\n",
              "        text-align: right;\n",
              "    }\n",
              "</style>\n",
              "<table border=\"1\" class=\"dataframe\">\n",
              "  <thead>\n",
              "    <tr style=\"text-align: right;\">\n",
              "      <th></th>\n",
              "      <th>run_id</th>\n",
              "      <th>experiment_id</th>\n",
              "      <th>status</th>\n",
              "      <th>artifact_uri</th>\n",
              "      <th>start_time</th>\n",
              "      <th>end_time</th>\n",
              "      <th>metrics.num_samples</th>\n",
              "      <th>metrics.num_features</th>\n",
              "      <th>metrics.training_f1_score</th>\n",
              "      <th>metrics.training_roc_auc_score</th>\n",
              "      <th>...</th>\n",
              "      <th>params.min_impurity_decrease</th>\n",
              "      <th>params.n_estimators</th>\n",
              "      <th>params.ccp_alpha</th>\n",
              "      <th>tags.mlflow.user</th>\n",
              "      <th>tags.mlflow.rootRunId</th>\n",
              "      <th>tags.mlflow.parentRunId</th>\n",
              "      <th>tags.azureml.nodeid</th>\n",
              "      <th>tags.azureml.pipeline</th>\n",
              "      <th>tags.estimator_name</th>\n",
              "      <th>tags.estimator_class</th>\n",
              "    </tr>\n",
              "  </thead>\n",
              "  <tbody>\n",
              "    <tr>\n",
              "      <th>9</th>\n",
              "      <td>8a29575c-7838-4400-b300-1109f5b10a25</td>\n",
              "      <td>589ba941-0fdf-41f1-8a44-39204466f49a</td>\n",
              "      <td>FINISHED</td>\n",
              "      <td></td>\n",
              "      <td>2023-03-07 01:38:38.841000+00:00</td>\n",
              "      <td>2023-03-07 01:39:43.024000+00:00</td>\n",
              "      <td>0.0</td>\n",
              "      <td>0.0</td>\n",
              "      <td>0.805423</td>\n",
              "      <td>0.793803</td>\n",
              "      <td>...</td>\n",
              "      <td>0.0</td>\n",
              "      <td>100</td>\n",
              "      <td>0.0</td>\n",
              "      <td>김상우</td>\n",
              "      <td>willing_house_7kpklq0km7</td>\n",
              "      <td>willing_house_7kpklq0km7</td>\n",
              "      <td>72679786</td>\n",
              "      <td>willing_house_7kpklq0km7</td>\n",
              "      <td>GradientBoostingClassifier</td>\n",
              "      <td>sklearn.ensemble._gb.GradientBoostingClassifier</td>\n",
              "    </tr>\n",
              "    <tr>\n",
              "      <th>12</th>\n",
              "      <td>874b1810-0d0f-4d76-8ffa-770ac53b6c6d</td>\n",
              "      <td>589ba941-0fdf-41f1-8a44-39204466f49a</td>\n",
              "      <td>FINISHED</td>\n",
              "      <td></td>\n",
              "      <td>2023-03-07 09:43:48.825000+00:00</td>\n",
              "      <td>2023-03-07 09:43:48.851000+00:00</td>\n",
              "      <td>0.0</td>\n",
              "      <td>0.0</td>\n",
              "      <td>0.805423</td>\n",
              "      <td>0.793803</td>\n",
              "      <td>...</td>\n",
              "      <td>0.0</td>\n",
              "      <td>100</td>\n",
              "      <td>0.0</td>\n",
              "      <td>김상우</td>\n",
              "      <td>serene_ocean_m32ymk9k4n</td>\n",
              "      <td>serene_ocean_m32ymk9k4n</td>\n",
              "      <td>c5d10fa7</td>\n",
              "      <td>serene_ocean_m32ymk9k4n</td>\n",
              "      <td>GradientBoostingClassifier</td>\n",
              "      <td>sklearn.ensemble._gb.GradientBoostingClassifier</td>\n",
              "    </tr>\n",
              "    <tr>\n",
              "      <th>2</th>\n",
              "      <td>56ff461b-a59f-470d-89e7-79a258edef6b</td>\n",
              "      <td>589ba941-0fdf-41f1-8a44-39204466f49a</td>\n",
              "      <td>FINISHED</td>\n",
              "      <td></td>\n",
              "      <td>2023-03-06 01:08:47.631000+00:00</td>\n",
              "      <td>2023-03-06 01:09:59.371000+00:00</td>\n",
              "      <td>0.0</td>\n",
              "      <td>0.0</td>\n",
              "      <td>0.803281</td>\n",
              "      <td>0.795926</td>\n",
              "      <td>...</td>\n",
              "      <td>0.0</td>\n",
              "      <td>100</td>\n",
              "      <td>0.0</td>\n",
              "      <td>김상우</td>\n",
              "      <td>clever_cloud_vjn3fbrmhj</td>\n",
              "      <td>clever_cloud_vjn3fbrmhj</td>\n",
              "      <td>f5e3994d</td>\n",
              "      <td>clever_cloud_vjn3fbrmhj</td>\n",
              "      <td>GradientBoostingClassifier</td>\n",
              "      <td>sklearn.ensemble._gb.GradientBoostingClassifier</td>\n",
              "    </tr>\n",
              "    <tr>\n",
              "      <th>0</th>\n",
              "      <td>clever_cloud_vjn3fbrmhj</td>\n",
              "      <td>589ba941-0fdf-41f1-8a44-39204466f49a</td>\n",
              "      <td>FINISHED</td>\n",
              "      <td></td>\n",
              "      <td>2023-03-06 01:05:19.789000+00:00</td>\n",
              "      <td>2023-03-06 01:10:00.856000+00:00</td>\n",
              "      <td>0.0</td>\n",
              "      <td>0.0</td>\n",
              "      <td>0.000000</td>\n",
              "      <td>0.000000</td>\n",
              "      <td>...</td>\n",
              "      <td>0</td>\n",
              "      <td>0</td>\n",
              "      <td>0</td>\n",
              "      <td>김상우</td>\n",
              "      <td>clever_cloud_vjn3fbrmhj</td>\n",
              "      <td>0</td>\n",
              "      <td>0</td>\n",
              "      <td>0</td>\n",
              "      <td>0</td>\n",
              "      <td>0</td>\n",
              "    </tr>\n",
              "    <tr>\n",
              "      <th>1</th>\n",
              "      <td>d7ca41fa-587d-450a-a751-b37a68e80488</td>\n",
              "      <td>589ba941-0fdf-41f1-8a44-39204466f49a</td>\n",
              "      <td>FINISHED</td>\n",
              "      <td></td>\n",
              "      <td>2023-03-06 01:07:35.653000+00:00</td>\n",
              "      <td>2023-03-06 01:08:36.840000+00:00</td>\n",
              "      <td>30000.0</td>\n",
              "      <td>23.0</td>\n",
              "      <td>0.000000</td>\n",
              "      <td>0.000000</td>\n",
              "      <td>...</td>\n",
              "      <td>0</td>\n",
              "      <td>0</td>\n",
              "      <td>0</td>\n",
              "      <td>김상우</td>\n",
              "      <td>clever_cloud_vjn3fbrmhj</td>\n",
              "      <td>clever_cloud_vjn3fbrmhj</td>\n",
              "      <td>5751f057</td>\n",
              "      <td>clever_cloud_vjn3fbrmhj</td>\n",
              "      <td>0</td>\n",
              "      <td>0</td>\n",
              "    </tr>\n",
              "    <tr>\n",
              "      <th>3</th>\n",
              "      <td>silly_beach_8px3xdh5hc</td>\n",
              "      <td>589ba941-0fdf-41f1-8a44-39204466f49a</td>\n",
              "      <td>FAILED</td>\n",
              "      <td></td>\n",
              "      <td>2023-03-07 00:57:43.219000+00:00</td>\n",
              "      <td>2023-03-07 01:00:29.546000+00:00</td>\n",
              "      <td>0.0</td>\n",
              "      <td>0.0</td>\n",
              "      <td>0.000000</td>\n",
              "      <td>0.000000</td>\n",
              "      <td>...</td>\n",
              "      <td>0</td>\n",
              "      <td>0</td>\n",
              "      <td>0</td>\n",
              "      <td>김상우</td>\n",
              "      <td>silly_beach_8px3xdh5hc</td>\n",
              "      <td>0</td>\n",
              "      <td>0</td>\n",
              "      <td>0</td>\n",
              "      <td>0</td>\n",
              "      <td>0</td>\n",
              "    </tr>\n",
              "    <tr>\n",
              "      <th>4</th>\n",
              "      <td>b5f4f39c-6245-458a-870c-e93fe3bb9337</td>\n",
              "      <td>589ba941-0fdf-41f1-8a44-39204466f49a</td>\n",
              "      <td>FAILED</td>\n",
              "      <td></td>\n",
              "      <td>2023-03-07 00:59:40.244000+00:00</td>\n",
              "      <td>2023-03-07 01:00:27.534000+00:00</td>\n",
              "      <td>0.0</td>\n",
              "      <td>0.0</td>\n",
              "      <td>0.000000</td>\n",
              "      <td>0.000000</td>\n",
              "      <td>...</td>\n",
              "      <td>0</td>\n",
              "      <td>0</td>\n",
              "      <td>0</td>\n",
              "      <td>김상우</td>\n",
              "      <td>silly_beach_8px3xdh5hc</td>\n",
              "      <td>silly_beach_8px3xdh5hc</td>\n",
              "      <td>67989775</td>\n",
              "      <td>silly_beach_8px3xdh5hc</td>\n",
              "      <td>0</td>\n",
              "      <td>0</td>\n",
              "    </tr>\n",
              "    <tr>\n",
              "      <th>5</th>\n",
              "      <td>mango_wire_1bvhvh3w8m</td>\n",
              "      <td>589ba941-0fdf-41f1-8a44-39204466f49a</td>\n",
              "      <td>FAILED</td>\n",
              "      <td></td>\n",
              "      <td>2023-03-07 01:09:35.974000+00:00</td>\n",
              "      <td>2023-03-07 01:12:45.431000+00:00</td>\n",
              "      <td>0.0</td>\n",
              "      <td>0.0</td>\n",
              "      <td>0.000000</td>\n",
              "      <td>0.000000</td>\n",
              "      <td>...</td>\n",
              "      <td>0</td>\n",
              "      <td>0</td>\n",
              "      <td>0</td>\n",
              "      <td>김상우</td>\n",
              "      <td>mango_wire_1bvhvh3w8m</td>\n",
              "      <td>0</td>\n",
              "      <td>0</td>\n",
              "      <td>0</td>\n",
              "      <td>0</td>\n",
              "      <td>0</td>\n",
              "    </tr>\n",
              "    <tr>\n",
              "      <th>6</th>\n",
              "      <td>25fdf402-d68b-4efe-9e80-77413d124598</td>\n",
              "      <td>589ba941-0fdf-41f1-8a44-39204466f49a</td>\n",
              "      <td>FAILED</td>\n",
              "      <td></td>\n",
              "      <td>2023-03-07 01:11:55.134000+00:00</td>\n",
              "      <td>2023-03-07 01:12:44.179000+00:00</td>\n",
              "      <td>0.0</td>\n",
              "      <td>0.0</td>\n",
              "      <td>0.000000</td>\n",
              "      <td>0.000000</td>\n",
              "      <td>...</td>\n",
              "      <td>0</td>\n",
              "      <td>0</td>\n",
              "      <td>0</td>\n",
              "      <td>김상우</td>\n",
              "      <td>mango_wire_1bvhvh3w8m</td>\n",
              "      <td>mango_wire_1bvhvh3w8m</td>\n",
              "      <td>cfb683cb</td>\n",
              "      <td>mango_wire_1bvhvh3w8m</td>\n",
              "      <td>0</td>\n",
              "      <td>0</td>\n",
              "    </tr>\n",
              "    <tr>\n",
              "      <th>7</th>\n",
              "      <td>willing_house_7kpklq0km7</td>\n",
              "      <td>589ba941-0fdf-41f1-8a44-39204466f49a</td>\n",
              "      <td>FINISHED</td>\n",
              "      <td></td>\n",
              "      <td>2023-03-07 01:35:37.731000+00:00</td>\n",
              "      <td>2023-03-07 01:39:44.311000+00:00</td>\n",
              "      <td>0.0</td>\n",
              "      <td>0.0</td>\n",
              "      <td>0.000000</td>\n",
              "      <td>0.000000</td>\n",
              "      <td>...</td>\n",
              "      <td>0</td>\n",
              "      <td>0</td>\n",
              "      <td>0</td>\n",
              "      <td>김상우</td>\n",
              "      <td>willing_house_7kpklq0km7</td>\n",
              "      <td>0</td>\n",
              "      <td>0</td>\n",
              "      <td>0</td>\n",
              "      <td>0</td>\n",
              "      <td>0</td>\n",
              "    </tr>\n",
              "    <tr>\n",
              "      <th>8</th>\n",
              "      <td>703759d3-2c81-45ba-83ff-d7942fca0003</td>\n",
              "      <td>589ba941-0fdf-41f1-8a44-39204466f49a</td>\n",
              "      <td>FINISHED</td>\n",
              "      <td></td>\n",
              "      <td>2023-03-07 01:37:34.542000+00:00</td>\n",
              "      <td>2023-03-07 01:38:27.963000+00:00</td>\n",
              "      <td>30000.0</td>\n",
              "      <td>23.0</td>\n",
              "      <td>0.000000</td>\n",
              "      <td>0.000000</td>\n",
              "      <td>...</td>\n",
              "      <td>0</td>\n",
              "      <td>0</td>\n",
              "      <td>0</td>\n",
              "      <td>김상우</td>\n",
              "      <td>willing_house_7kpklq0km7</td>\n",
              "      <td>willing_house_7kpklq0km7</td>\n",
              "      <td>41e31f72</td>\n",
              "      <td>willing_house_7kpklq0km7</td>\n",
              "      <td>0</td>\n",
              "      <td>0</td>\n",
              "    </tr>\n",
              "    <tr>\n",
              "      <th>10</th>\n",
              "      <td>serene_ocean_m32ymk9k4n</td>\n",
              "      <td>589ba941-0fdf-41f1-8a44-39204466f49a</td>\n",
              "      <td>FINISHED</td>\n",
              "      <td></td>\n",
              "      <td>2023-03-07 09:43:45.958000+00:00</td>\n",
              "      <td>2023-03-07 09:43:49.520000+00:00</td>\n",
              "      <td>0.0</td>\n",
              "      <td>0.0</td>\n",
              "      <td>0.000000</td>\n",
              "      <td>0.000000</td>\n",
              "      <td>...</td>\n",
              "      <td>0</td>\n",
              "      <td>0</td>\n",
              "      <td>0</td>\n",
              "      <td>김상우</td>\n",
              "      <td>serene_ocean_m32ymk9k4n</td>\n",
              "      <td>0</td>\n",
              "      <td>0</td>\n",
              "      <td>0</td>\n",
              "      <td>0</td>\n",
              "      <td>0</td>\n",
              "    </tr>\n",
              "    <tr>\n",
              "      <th>11</th>\n",
              "      <td>cf9815b8-67b0-4cbc-9053-8f7e40581ad1</td>\n",
              "      <td>589ba941-0fdf-41f1-8a44-39204466f49a</td>\n",
              "      <td>FINISHED</td>\n",
              "      <td></td>\n",
              "      <td>2023-03-07 09:43:47.193000+00:00</td>\n",
              "      <td>2023-03-07 09:43:47.242000+00:00</td>\n",
              "      <td>30000.0</td>\n",
              "      <td>23.0</td>\n",
              "      <td>0.000000</td>\n",
              "      <td>0.000000</td>\n",
              "      <td>...</td>\n",
              "      <td>0</td>\n",
              "      <td>0</td>\n",
              "      <td>0</td>\n",
              "      <td>김상우</td>\n",
              "      <td>serene_ocean_m32ymk9k4n</td>\n",
              "      <td>serene_ocean_m32ymk9k4n</td>\n",
              "      <td>2d2f7a62</td>\n",
              "      <td>serene_ocean_m32ymk9k4n</td>\n",
              "      <td>0</td>\n",
              "      <td>0</td>\n",
              "    </tr>\n",
              "  </tbody>\n",
              "</table>\n",
              "<p>13 rows × 45 columns</p>\n",
              "</div>"
            ],
            "text/plain": [
              "                                  run_id  \\\n",
              "9   8a29575c-7838-4400-b300-1109f5b10a25   \n",
              "12  874b1810-0d0f-4d76-8ffa-770ac53b6c6d   \n",
              "2   56ff461b-a59f-470d-89e7-79a258edef6b   \n",
              "0                clever_cloud_vjn3fbrmhj   \n",
              "1   d7ca41fa-587d-450a-a751-b37a68e80488   \n",
              "3                 silly_beach_8px3xdh5hc   \n",
              "4   b5f4f39c-6245-458a-870c-e93fe3bb9337   \n",
              "5                  mango_wire_1bvhvh3w8m   \n",
              "6   25fdf402-d68b-4efe-9e80-77413d124598   \n",
              "7               willing_house_7kpklq0km7   \n",
              "8   703759d3-2c81-45ba-83ff-d7942fca0003   \n",
              "10               serene_ocean_m32ymk9k4n   \n",
              "11  cf9815b8-67b0-4cbc-9053-8f7e40581ad1   \n",
              "\n",
              "                           experiment_id    status artifact_uri  \\\n",
              "9   589ba941-0fdf-41f1-8a44-39204466f49a  FINISHED                \n",
              "12  589ba941-0fdf-41f1-8a44-39204466f49a  FINISHED                \n",
              "2   589ba941-0fdf-41f1-8a44-39204466f49a  FINISHED                \n",
              "0   589ba941-0fdf-41f1-8a44-39204466f49a  FINISHED                \n",
              "1   589ba941-0fdf-41f1-8a44-39204466f49a  FINISHED                \n",
              "3   589ba941-0fdf-41f1-8a44-39204466f49a    FAILED                \n",
              "4   589ba941-0fdf-41f1-8a44-39204466f49a    FAILED                \n",
              "5   589ba941-0fdf-41f1-8a44-39204466f49a    FAILED                \n",
              "6   589ba941-0fdf-41f1-8a44-39204466f49a    FAILED                \n",
              "7   589ba941-0fdf-41f1-8a44-39204466f49a  FINISHED                \n",
              "8   589ba941-0fdf-41f1-8a44-39204466f49a  FINISHED                \n",
              "10  589ba941-0fdf-41f1-8a44-39204466f49a  FINISHED                \n",
              "11  589ba941-0fdf-41f1-8a44-39204466f49a  FINISHED                \n",
              "\n",
              "                         start_time                         end_time  \\\n",
              "9  2023-03-07 01:38:38.841000+00:00 2023-03-07 01:39:43.024000+00:00   \n",
              "12 2023-03-07 09:43:48.825000+00:00 2023-03-07 09:43:48.851000+00:00   \n",
              "2  2023-03-06 01:08:47.631000+00:00 2023-03-06 01:09:59.371000+00:00   \n",
              "0  2023-03-06 01:05:19.789000+00:00 2023-03-06 01:10:00.856000+00:00   \n",
              "1  2023-03-06 01:07:35.653000+00:00 2023-03-06 01:08:36.840000+00:00   \n",
              "3  2023-03-07 00:57:43.219000+00:00 2023-03-07 01:00:29.546000+00:00   \n",
              "4  2023-03-07 00:59:40.244000+00:00 2023-03-07 01:00:27.534000+00:00   \n",
              "5  2023-03-07 01:09:35.974000+00:00 2023-03-07 01:12:45.431000+00:00   \n",
              "6  2023-03-07 01:11:55.134000+00:00 2023-03-07 01:12:44.179000+00:00   \n",
              "7  2023-03-07 01:35:37.731000+00:00 2023-03-07 01:39:44.311000+00:00   \n",
              "8  2023-03-07 01:37:34.542000+00:00 2023-03-07 01:38:27.963000+00:00   \n",
              "10 2023-03-07 09:43:45.958000+00:00 2023-03-07 09:43:49.520000+00:00   \n",
              "11 2023-03-07 09:43:47.193000+00:00 2023-03-07 09:43:47.242000+00:00   \n",
              "\n",
              "    metrics.num_samples  metrics.num_features  metrics.training_f1_score  \\\n",
              "9                   0.0                   0.0                   0.805423   \n",
              "12                  0.0                   0.0                   0.805423   \n",
              "2                   0.0                   0.0                   0.803281   \n",
              "0                   0.0                   0.0                   0.000000   \n",
              "1               30000.0                  23.0                   0.000000   \n",
              "3                   0.0                   0.0                   0.000000   \n",
              "4                   0.0                   0.0                   0.000000   \n",
              "5                   0.0                   0.0                   0.000000   \n",
              "6                   0.0                   0.0                   0.000000   \n",
              "7                   0.0                   0.0                   0.000000   \n",
              "8               30000.0                  23.0                   0.000000   \n",
              "10                  0.0                   0.0                   0.000000   \n",
              "11              30000.0                  23.0                   0.000000   \n",
              "\n",
              "    metrics.training_roc_auc_score  ...  params.min_impurity_decrease  \\\n",
              "9                         0.793803  ...                           0.0   \n",
              "12                        0.793803  ...                           0.0   \n",
              "2                         0.795926  ...                           0.0   \n",
              "0                         0.000000  ...                             0   \n",
              "1                         0.000000  ...                             0   \n",
              "3                         0.000000  ...                             0   \n",
              "4                         0.000000  ...                             0   \n",
              "5                         0.000000  ...                             0   \n",
              "6                         0.000000  ...                             0   \n",
              "7                         0.000000  ...                             0   \n",
              "8                         0.000000  ...                             0   \n",
              "10                        0.000000  ...                             0   \n",
              "11                        0.000000  ...                             0   \n",
              "\n",
              "    params.n_estimators  params.ccp_alpha  tags.mlflow.user  \\\n",
              "9                   100               0.0               김상우   \n",
              "12                  100               0.0               김상우   \n",
              "2                   100               0.0               김상우   \n",
              "0                     0                 0               김상우   \n",
              "1                     0                 0               김상우   \n",
              "3                     0                 0               김상우   \n",
              "4                     0                 0               김상우   \n",
              "5                     0                 0               김상우   \n",
              "6                     0                 0               김상우   \n",
              "7                     0                 0               김상우   \n",
              "8                     0                 0               김상우   \n",
              "10                    0                 0               김상우   \n",
              "11                    0                 0               김상우   \n",
              "\n",
              "       tags.mlflow.rootRunId   tags.mlflow.parentRunId tags.azureml.nodeid  \\\n",
              "9   willing_house_7kpklq0km7  willing_house_7kpklq0km7            72679786   \n",
              "12   serene_ocean_m32ymk9k4n   serene_ocean_m32ymk9k4n            c5d10fa7   \n",
              "2    clever_cloud_vjn3fbrmhj   clever_cloud_vjn3fbrmhj            f5e3994d   \n",
              "0    clever_cloud_vjn3fbrmhj                         0                   0   \n",
              "1    clever_cloud_vjn3fbrmhj   clever_cloud_vjn3fbrmhj            5751f057   \n",
              "3     silly_beach_8px3xdh5hc                         0                   0   \n",
              "4     silly_beach_8px3xdh5hc    silly_beach_8px3xdh5hc            67989775   \n",
              "5      mango_wire_1bvhvh3w8m                         0                   0   \n",
              "6      mango_wire_1bvhvh3w8m     mango_wire_1bvhvh3w8m            cfb683cb   \n",
              "7   willing_house_7kpklq0km7                         0                   0   \n",
              "8   willing_house_7kpklq0km7  willing_house_7kpklq0km7            41e31f72   \n",
              "10   serene_ocean_m32ymk9k4n                         0                   0   \n",
              "11   serene_ocean_m32ymk9k4n   serene_ocean_m32ymk9k4n            2d2f7a62   \n",
              "\n",
              "       tags.azureml.pipeline         tags.estimator_name  \\\n",
              "9   willing_house_7kpklq0km7  GradientBoostingClassifier   \n",
              "12   serene_ocean_m32ymk9k4n  GradientBoostingClassifier   \n",
              "2    clever_cloud_vjn3fbrmhj  GradientBoostingClassifier   \n",
              "0                          0                           0   \n",
              "1    clever_cloud_vjn3fbrmhj                           0   \n",
              "3                          0                           0   \n",
              "4     silly_beach_8px3xdh5hc                           0   \n",
              "5                          0                           0   \n",
              "6      mango_wire_1bvhvh3w8m                           0   \n",
              "7                          0                           0   \n",
              "8   willing_house_7kpklq0km7                           0   \n",
              "10                         0                           0   \n",
              "11   serene_ocean_m32ymk9k4n                           0   \n",
              "\n",
              "                               tags.estimator_class  \n",
              "9   sklearn.ensemble._gb.GradientBoostingClassifier  \n",
              "12  sklearn.ensemble._gb.GradientBoostingClassifier  \n",
              "2   sklearn.ensemble._gb.GradientBoostingClassifier  \n",
              "0                                                 0  \n",
              "1                                                 0  \n",
              "3                                                 0  \n",
              "4                                                 0  \n",
              "5                                                 0  \n",
              "6                                                 0  \n",
              "7                                                 0  \n",
              "8                                                 0  \n",
              "10                                                0  \n",
              "11                                                0  \n",
              "\n",
              "[13 rows x 45 columns]"
            ]
          },
          "execution_count": 103,
          "metadata": {},
          "output_type": "execute_result"
        }
      ],
      "source": [
        "best_run_result = best_run_result.sort_values('metrics.training_f1_score', ascending=False)\n",
        "best_run_result"
      ]
    },
    {
      "cell_type": "code",
      "execution_count": 104,
      "metadata": {
        "gather": {
          "logged": 1678182360038
        },
        "jupyter": {
          "outputs_hidden": false,
          "source_hidden": false
        },
        "nteract": {
          "transient": {
            "deleting": false
          }
        }
      },
      "outputs": [
        {
          "name": "stdout",
          "output_type": "stream",
          "text": [
            "8a29575c-7838-4400-b300-1109f5b10a25 0.8054226894119054\n"
          ]
        }
      ],
      "source": [
        "# Print the best run ID and score\n",
        "if len(best_run_result) > 0:\n",
        "    best_run_id = best_run_result.iloc[0]['run_id']\n",
        "    best_score = best_run_result.iloc[0]['metrics.training_f1_score']    \n",
        "    print(best_run_id, best_score)\n",
        "else:\n",
        "    print(\"No runs found in the experiment.\")"
      ]
    },
    {
      "cell_type": "markdown",
      "metadata": {},
      "source": [
        "## Deploy the model as an online endpoint (이하는 옵션)\n",
        "\n",
        "Now deploy your machine learning model as a web service in the Azure cloud, an [`online endpoint`](https://docs.microsoft.com/azure/machine-learning/concept-endpoints).\n",
        "\n",
        "To deploy a machine learning service, you usually need:\n",
        "\n",
        "* The model assets (filed, metadata) that you want to deploy. You've already registered these assets in your training component.\n",
        "* Some code to run as a service. The code executes the model on a given input request. This entry script receives data submitted to a deployed web service and passes it to the model, then returns the model's response to the client. The script is specific to your model. The entry script must understand the data that the model expects and returns. When using a MLFlow model, as in this tutorial, this script is automatically created for you. Samples of scoring scripts can be found [here](https://github.com/Azure/azureml-examples/tree/sdk-preview/sdk/endpoints/online).\n",
        "\n"
      ]
    },
    {
      "cell_type": "markdown",
      "metadata": {},
      "source": [
        "## Create a new online endpoint\n",
        "\n",
        "Now that you have a registered model and an inference script, it's time to create your online endpoint. The endpoint name needs to be unique in the entire Azure region. For this tutorial, you'll create a unique name using [`UUID`](https://en.wikipedia.org/wiki/Universally_unique_identifier#:~:text=A%20universally%20unique%20identifier%20(UUID,%2C%20for%20practical%20purposes%2C%20unique.)."
      ]
    },
    {
      "cell_type": "code",
      "execution_count": 105,
      "metadata": {
        "attributes": {
          "classes": [
            "Python"
          ],
          "id": ""
        },
        "gather": {
          "logged": 1678182363100
        },
        "name": "online_endpoint_name"
      },
      "outputs": [],
      "source": [
        "import uuid\n",
        "\n",
        "# Creating a unique name for the endpoint\n",
        "online_endpoint_name = \"credit-endpoint-\" + str(uuid.uuid4())[:8]"
      ]
    },
    {
      "cell_type": "code",
      "execution_count": 106,
      "metadata": {
        "attributes": {
          "classes": [
            "Python"
          ],
          "id": ""
        },
        "name": "endpoint"
      },
      "outputs": [],
      "source": [
        "from azure.ai.ml.entities import (\n",
        "    ManagedOnlineEndpoint,\n",
        "    ManagedOnlineDeployment,\n",
        "    Model,\n",
        "    Environment,\n",
        ")\n",
        "\n",
        "# create an online endpoint\n",
        "endpoint = ManagedOnlineEndpoint(\n",
        "    name=online_endpoint_name,\n",
        "    description=\"this is an online endpoint\",\n",
        "    auth_mode=\"key\",\n",
        "    tags={\n",
        "        \"training_dataset\": \"credit_defaults\",\n",
        "        \"model_type\": \"sklearn.GradientBoostingClassifier\",\n",
        "    },\n",
        ")\n",
        "\n",
        "endpoint_result = ml_client.begin_create_or_update(endpoint).result()\n",
        "\n",
        "print(\n",
        "    f\"Endpint {endpoint_result.name} provisioning state: {endpoint_result.provisioning_state}\"\n",
        ")"
      ]
    },
    {
      "cell_type": "markdown",
      "metadata": {},
      "source": [
        "Once you've created an endpoint, you can retrieve it as below:"
      ]
    },
    {
      "cell_type": "code",
      "execution_count": null,
      "metadata": {
        "attributes": {
          "classes": [
            "Python"
          ],
          "id": ""
        },
        "name": "update-endpoint"
      },
      "outputs": [],
      "source": [
        "endpoint = ml_client.online_endpoints.get(name=online_endpoint_name)\n",
        "\n",
        "print(\n",
        "    f'Endpint \"{endpoint.name}\" with provisioning state \"{endpoint.provisioning_state}\" is retrieved'\n",
        ")"
      ]
    },
    {
      "cell_type": "markdown",
      "metadata": {},
      "source": [
        "## Deploy the model to the endpoint\n",
        "\n",
        "Once the endpoint is created, deploy the model with the entry script. Each endpoint can have multiple deployments and direct traffic to these deployments can be specified using rules. Here you'll create a single deployment that handles 100% of the incoming traffic. We have chosen a color name for the deployment, for example, *blue*, *green*, *red* deployments, which is arbitrary.\n",
        "\n",
        "You can check the *Models* page on the Azure ML studio, to identify the latest version of your registered model. Alternatively, the code below will retrieve the latest version number for you to use."
      ]
    },
    {
      "cell_type": "code",
      "execution_count": null,
      "metadata": {
        "attributes": {
          "classes": [
            "Python"
          ],
          "id": ""
        },
        "gather": {
          "logged": 1678065474746
        },
        "name": "latest_model_version"
      },
      "outputs": [],
      "source": [
        "# Let's pick the latest version of the model\n",
        "latest_model_version = max(\n",
        "    [int(m.version) for m in ml_client.models.list(name=registered_model_name)]\n",
        "\n",
        ")\n",
        "latest_model_version"
      ]
    },
    {
      "cell_type": "code",
      "execution_count": null,
      "metadata": {
        "gather": {
          "logged": 1678065800073
        },
        "jupyter": {
          "outputs_hidden": false,
          "source_hidden": false
        },
        "nteract": {
          "transient": {
            "deleting": false
          }
        }
      },
      "outputs": [],
      "source": [
        "for m in ml_client.models.list(name=registered_model_name):\n",
        "    print(m.flavors)"
      ]
    },
    {
      "cell_type": "markdown",
      "metadata": {},
      "source": [
        "Deploy the latest version of the model.  \n",
        "\n",
        "> [!NOTE]\n",
        "> Expect this deployment to take approximately 6 to 8 minutes."
      ]
    },
    {
      "cell_type": "code",
      "execution_count": null,
      "metadata": {
        "name": "model"
      },
      "outputs": [],
      "source": [
        "# picking the model to deploy. Here we use the latest version of our registered model\n",
        "model = ml_client.models.get(name=registered_model_name, version=latest_model_version)\n",
        "\n",
        "\n",
        "# create an online deployment.\n",
        "blue_deployment = ManagedOnlineDeployment(\n",
        "    name=\"blue\",\n",
        "    endpoint_name=online_endpoint_name,\n",
        "    model=model,\n",
        "    instance_type=\"Standard_F4s_v2\",\n",
        "    instance_count=1,\n",
        ")\n",
        "\n",
        "blue_deployment_results = ml_client.online_deployments.begin_create_or_update(\n",
        "    blue_deployment\n",
        ").result()\n",
        "\n",
        "print(\n",
        "    f\"Deployment {blue_deployment_results.name} provisioning state: {blue_deployment_results.provisioning_state}\"\n",
        ")"
      ]
    },
    {
      "cell_type": "markdown",
      "metadata": {},
      "source": [
        "### Test with a sample query\n",
        "\n",
        "Now that the model is deployed to the endpoint, you can run inference with it.\n",
        "\n",
        "Create a sample request file following the design expected in the run method in the score script."
      ]
    },
    {
      "cell_type": "code",
      "execution_count": null,
      "metadata": {
        "name": "sample-request.json"
      },
      "outputs": [],
      "source": [
        "deploy_dir = \"./deploy\"\n",
        "os.makedirs(deploy_dir, exist_ok=True)"
      ]
    },
    {
      "cell_type": "code",
      "execution_count": null,
      "metadata": {
        "name": "write-sample-request"
      },
      "outputs": [],
      "source": [
        "%%writefile {deploy_dir}/sample-request.json\n",
        "{\n",
        "  \"input_data\": {\n",
        "    \"columns\": [0,1,2,3,4,5,6,7,8,9,10,11,12,13,14,15,16,17,18,19,20,21,22],\n",
        "    \"index\": [0, 1],\n",
        "    \"data\": [\n",
        "            [20000,2,2,1,24,2,2,-1,-1,-2,-2,3913,3102,689,0,0,0,0,689,0,0,0,0],\n",
        "            [10, 9, 8, 7, 6, 5, 4, 3, 2, 1, 10, 9, 8, 7, 6, 5, 4, 3, 2, 1, 10, 9, 8]\n",
        "        ]\n",
        "  }\n",
        "}"
      ]
    },
    {
      "cell_type": "code",
      "execution_count": null,
      "metadata": {
        "attributes": {
          "classes": [
            "Python"
          ],
          "id": ""
        },
        "name": "ml_client.online_endpoints.invoke"
      },
      "outputs": [],
      "source": [
        "# test the blue deployment with some sample data\n",
        "ml_client.online_endpoints.invoke(\n",
        "    endpoint_name=online_endpoint_name,\n",
        "    request_file=\"./deploy/sample-request.json\",\n",
        "    deployment_name=\"blue\",\n",
        ")"
      ]
    },
    {
      "cell_type": "markdown",
      "metadata": {},
      "source": [
        "## Clean up resources\n",
        "\n",
        "If you're not going to use the endpoint, delete it to stop using the resource.  Make sure no other deployments are using an endpoint before you delete it.\n",
        "\n",
        "\n",
        "> [!NOTE]\n",
        "> Expect this step to take approximately 6 to 8 minutes."
      ]
    },
    {
      "cell_type": "code",
      "execution_count": null,
      "metadata": {
        "attributes": {
          "classes": [
            "python "
          ],
          "id": ""
        },
        "name": "ml_client.online_endpoints.begin_delete"
      },
      "outputs": [],
      "source": [
        "# ml_client.online_endpoints.begin_delete(name=online_endpoint_name)"
      ]
    },
    {
      "cell_type": "markdown",
      "metadata": {},
      "source": [
        "## Next Steps\n",
        "\n",
        "Learn more about [Azure ML logging](https://github.com/Azure/azureml-examples/blob/sdk-preview/notebooks/mlflow/mlflow-v1-comparison.ipynb)."
      ]
    }
  ],
  "metadata": {
    "categories": [
      "SDK v2",
      "tutorials"
    ],
    "celltoolbar": "Edit Metadata",
    "description": {
      "description": "Create production ML pipelines with Python SDK v2 in a Jupyter notebook"
    },
    "kernel_info": {
      "name": "python310-sdkv2"
    },
    "kernelspec": {
      "display_name": "Python 3.10 - SDK v2",
      "language": "python",
      "name": "python310-sdkv2"
    },
    "language_info": {
      "codemirror_mode": {
        "name": "ipython",
        "version": 3
      },
      "file_extension": ".py",
      "mimetype": "text/x-python",
      "name": "python",
      "nbconvert_exporter": "python",
      "pygments_lexer": "ipython3",
      "version": "3.10.9"
    },
    "microsoft": {
      "host": {
        "AzureML": {
          "notebookHasBeenCompleted": true
        }
      }
    },
    "nteract": {
      "version": "nteract-front-end@1.0.0"
    },
    "vscode": {
      "interpreter": {
        "hash": "78d13900fb236b5ce4c0b952de9b1270f1802c447ee20a989ea10ffd935aa825"
      }
    }
  },
  "nbformat": 4,
  "nbformat_minor": 1
}
